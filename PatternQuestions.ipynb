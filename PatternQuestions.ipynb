{
  "nbformat": 4,
  "nbformat_minor": 0,
  "metadata": {
    "colab": {
      "provenance": [],
      "include_colab_link": true
    },
    "kernelspec": {
      "name": "python3",
      "display_name": "Python 3"
    },
    "language_info": {
      "name": "python"
    }
  },
  "cells": [
    {
      "cell_type": "markdown",
      "metadata": {
        "id": "view-in-github",
        "colab_type": "text"
      },
      "source": [
        "<a href=\"https://colab.research.google.com/github/arorakr/machine-learning-research/blob/master/PatternQuestions.ipynb\" target=\"_parent\"><img src=\"https://colab.research.google.com/assets/colab-badge.svg\" alt=\"Open In Colab\"/></a>"
      ]
    },
    {
      "cell_type": "markdown",
      "source": [
        "# Pattern Question"
      ],
      "metadata": {
        "id": "vxJFt3OQmbgB"
      }
    },
    {
      "cell_type": "markdown",
      "source": [
        "## Triangle patterns"
      ],
      "metadata": {
        "id": "KLnJylvvm9A6"
      }
    },
    {
      "cell_type": "markdown",
      "source": [
        "```\n",
        "*\n",
        "**\n",
        "***\n",
        "****\n",
        "*****\n",
        "```"
      ],
      "metadata": {
        "id": "ufYJFDNWnmaB"
      }
    },
    {
      "cell_type": "code",
      "source": [
        "for i in range(1,int(input())+1):\n",
        "    print('*'*i)"
      ],
      "metadata": {
        "colab": {
          "base_uri": "https://localhost:8080/"
        },
        "id": "Lw-IiQdpnp0d",
        "outputId": "9ba4d9c8-d2de-4447-9e31-6905e18ea7a8"
      },
      "execution_count": null,
      "outputs": [
        {
          "output_type": "stream",
          "name": "stdout",
          "text": [
            "5\n",
            "*\n",
            "**\n",
            "***\n",
            "****\n",
            "*****\n"
          ]
        }
      ]
    },
    {
      "cell_type": "markdown",
      "source": [
        "```\n",
        "*****\n",
        "****\n",
        "***\n",
        "**\n",
        "*\n",
        "```"
      ],
      "metadata": {
        "id": "vspNW9-jnrBD"
      }
    },
    {
      "cell_type": "code",
      "source": [
        "for i in range(int(input()),0,-1):\n",
        "    print('*'*i)"
      ],
      "metadata": {
        "colab": {
          "base_uri": "https://localhost:8080/"
        },
        "id": "UR_CTBsnntCJ",
        "outputId": "99c1c459-146f-4831-c459-cf0f41cca987"
      },
      "execution_count": null,
      "outputs": [
        {
          "output_type": "stream",
          "name": "stdout",
          "text": [
            "5\n",
            "*****\n",
            "****\n",
            "***\n",
            "**\n",
            "*\n"
          ]
        }
      ]
    },
    {
      "cell_type": "markdown",
      "source": [
        "```\n",
        "    *\n",
        "   ***\n",
        "  *****\n",
        " *******\n",
        "*********\n",
        "```"
      ],
      "metadata": {
        "id": "PXphlqRXntgV"
      }
    },
    {
      "cell_type": "code",
      "source": [
        "n = int(input())\n",
        "for i in range(1,n+1):\n",
        "    print(' '*(n-i)+'*'*(2*i-1))"
      ],
      "metadata": {
        "colab": {
          "base_uri": "https://localhost:8080/"
        },
        "id": "muj4T0JpnwAI",
        "outputId": "d588dc4e-a542-4a81-9376-ade8097df36e"
      },
      "execution_count": null,
      "outputs": [
        {
          "output_type": "stream",
          "name": "stdout",
          "text": [
            "5\n",
            "    *\n",
            "   ***\n",
            "  *****\n",
            " *******\n",
            "*********\n"
          ]
        }
      ]
    },
    {
      "cell_type": "code",
      "source": [
        "n = 5\n",
        "for i in range(1,n+1):\n",
        "    print(' '*(n-i)+'*'*i)"
      ],
      "metadata": {
        "colab": {
          "base_uri": "https://localhost:8080/"
        },
        "id": "GN7RNc1J2ojD",
        "outputId": "1d9e1cba-48df-4016-d7be-18d848771ccf"
      },
      "execution_count": null,
      "outputs": [
        {
          "output_type": "stream",
          "name": "stdout",
          "text": [
            "    *\n",
            "   **\n",
            "  ***\n",
            " ****\n",
            "*****\n"
          ]
        }
      ]
    },
    {
      "cell_type": "markdown",
      "source": [
        "```\n",
        "*********\n",
        " *******\n",
        "  *****\n",
        "   ***\n",
        "    *\n",
        "```"
      ],
      "metadata": {
        "id": "6uPDo12unwbe"
      }
    },
    {
      "cell_type": "code",
      "source": [
        "n = int(input())\n",
        "for i in range(n,0,-1):\n",
        "    print(' '*(n-i)+'*'*(2*i-1))"
      ],
      "metadata": {
        "colab": {
          "base_uri": "https://localhost:8080/"
        },
        "id": "xDoJlFVDn7mB",
        "outputId": "95878c42-5e99-417b-efc2-7d3f18009f04"
      },
      "execution_count": null,
      "outputs": [
        {
          "output_type": "stream",
          "name": "stdout",
          "text": [
            "5\n",
            "*********\n",
            " *******\n",
            "  *****\n",
            "   ***\n",
            "    *\n"
          ]
        }
      ]
    },
    {
      "cell_type": "markdown",
      "source": [
        "```\n",
        "    *\n",
        "   ***\n",
        "  *****\n",
        " *******\n",
        "*********\n",
        " *******\n",
        "  *****\n",
        "   ***\n",
        "    *\n",
        "```"
      ],
      "metadata": {
        "id": "xRZVamwDorBj"
      }
    },
    {
      "cell_type": "code",
      "source": [
        "n = int(input())\n",
        "for i in range(1,n):\n",
        "    print(' '*(n-i)+'*'*(2*i-1))\n",
        "for i in range(n,0,-1):\n",
        "    print(' '*(n-i)+'*'*(2*i-1))"
      ],
      "metadata": {
        "colab": {
          "base_uri": "https://localhost:8080/"
        },
        "id": "nRprsik0oupa",
        "outputId": "0733bef4-7e67-4b06-c1ea-8313a318dd30"
      },
      "execution_count": null,
      "outputs": [
        {
          "output_type": "stream",
          "name": "stdout",
          "text": [
            "5\n",
            "    *\n",
            "   ***\n",
            "  *****\n",
            " *******\n",
            "*********\n",
            " *******\n",
            "  *****\n",
            "   ***\n",
            "    *\n"
          ]
        }
      ]
    },
    {
      "cell_type": "markdown",
      "source": [
        "## Number patterns"
      ],
      "metadata": {
        "id": "E1dMqevQn2XE"
      }
    },
    {
      "cell_type": "markdown",
      "source": [
        "```\n",
        "1\n",
        "12\n",
        "123\n",
        "1234\n",
        "12345\n",
        "```"
      ],
      "metadata": {
        "id": "gIxYuFCDn8wF"
      }
    },
    {
      "cell_type": "code",
      "source": [
        "n = 5\n",
        "for i in range(1,n+1):\n",
        "    # for j in range(1,i+1):\n",
        "    #     print(j,end='')\n",
        "    print(''.join(map(str,range(1,i+1))))"
      ],
      "metadata": {
        "colab": {
          "base_uri": "https://localhost:8080/"
        },
        "id": "wF8OCxZtn_Di",
        "outputId": "150e49e6-7052-418f-9fa5-2f69fb458b5a"
      },
      "execution_count": null,
      "outputs": [
        {
          "output_type": "stream",
          "name": "stdout",
          "text": [
            "1\n",
            "12\n",
            "123\n",
            "1234\n",
            "12345\n"
          ]
        }
      ]
    },
    {
      "cell_type": "markdown",
      "source": [
        "```\n",
        "    1\n",
        "   121\n",
        "  12321\n",
        " 1234321\n",
        "123454321\n",
        "```"
      ],
      "metadata": {
        "id": "VLbHrQKnn_bf"
      }
    },
    {
      "cell_type": "code",
      "source": [
        "n = 5\n",
        "for i in range(1,n+1):\n",
        "    print(' '*(n-i),end='')\n",
        "    left_string = ''.join(map(str,range(1,i+1))) # printing 1 to ith number\n",
        "    print(left_string, left_string[::-1][1:], sep='')"
      ],
      "metadata": {
        "colab": {
          "base_uri": "https://localhost:8080/"
        },
        "id": "1Gav-W9BoDnN",
        "outputId": "49bd1b33-d8a3-4054-c2b6-da862bdea149"
      },
      "execution_count": null,
      "outputs": [
        {
          "output_type": "stream",
          "name": "stdout",
          "text": [
            "    1\n",
            "   121\n",
            "  12321\n",
            " 1234321\n",
            "123454321\n"
          ]
        }
      ]
    },
    {
      "cell_type": "markdown",
      "source": [
        "## Alphabet Patterns"
      ],
      "metadata": {
        "id": "OPfObPBQoJj1"
      }
    },
    {
      "cell_type": "markdown",
      "source": [
        "```\n",
        "A\n",
        "AB\n",
        "ABC\n",
        "ABCD\n",
        "ABCDE\n",
        "```"
      ],
      "metadata": {
        "id": "Naq1e_ojoFMo"
      }
    },
    {
      "cell_type": "code",
      "source": [
        "print(ord('A'),chr(65))"
      ],
      "metadata": {
        "colab": {
          "base_uri": "https://localhost:8080/"
        },
        "id": "kfpKRH_soMCS",
        "outputId": "587fb898-f93e-4b28-d53c-51dfab72f817"
      },
      "execution_count": null,
      "outputs": [
        {
          "output_type": "stream",
          "name": "stdout",
          "text": [
            "65 A\n"
          ]
        }
      ]
    },
    {
      "cell_type": "code",
      "source": [
        "n = 5\n",
        "for i in range(1,n+1): # for each line\n",
        "    # for j in range(65, 65+i): # for each character in line\n",
        "    #     print(chr(j),end='')\n",
        "    print(''.join(map(chr, range(65, 65+i))))"
      ],
      "metadata": {
        "colab": {
          "base_uri": "https://localhost:8080/"
        },
        "id": "MElgE0lC9M6f",
        "outputId": "f9bc941f-a021-40d1-9287-839ab70d9c5a"
      },
      "execution_count": null,
      "outputs": [
        {
          "output_type": "stream",
          "name": "stdout",
          "text": [
            "A\n",
            "AB\n",
            "ABC\n",
            "ABCD\n",
            "ABCDE\n"
          ]
        }
      ]
    },
    {
      "cell_type": "markdown",
      "source": [
        "```\n",
        "    A\n",
        "   ABA\n",
        "  ABCBA\n",
        " ABCDCBA\n",
        "ABCDEDCBA\n",
        "```"
      ],
      "metadata": {
        "id": "vksWkeldoM-_"
      }
    },
    {
      "cell_type": "code",
      "source": [
        "n = 5\n",
        "for i in range(1,n+1): # for each line\n",
        "    print(' '*(n-i),end='')\n",
        "    left = ''.join(map(chr, range(65, 65+i)))\n",
        "    print(left, left[::-1][1:], sep='')"
      ],
      "metadata": {
        "colab": {
          "base_uri": "https://localhost:8080/"
        },
        "id": "zttpmrfdobS_",
        "outputId": "7d4a9c48-3926-4d4a-d1c7-1a942737a138"
      },
      "execution_count": null,
      "outputs": [
        {
          "output_type": "stream",
          "name": "stdout",
          "text": [
            "    A\n",
            "   ABA\n",
            "  ABCBA\n",
            " ABCDCBA\n",
            "ABCDEDCBA\n"
          ]
        }
      ]
    },
    {
      "cell_type": "markdown",
      "source": [
        "## Other"
      ],
      "metadata": {
        "id": "fgyH4ynpo8_1"
      }
    },
    {
      "cell_type": "markdown",
      "source": [
        "```\n",
        "1\n",
        "2 3\n",
        "4 5 6\n",
        "7 8 9 10\n",
        "```"
      ],
      "metadata": {
        "id": "p7yVQD-KowYQ"
      }
    },
    {
      "cell_type": "code",
      "source": [
        "n = 5; count = 1; per_line_chrs = 1\n",
        "for i in range(1, n+1): # printing every line\n",
        "    for j in range(1, per_line_chrs): # for every char\n",
        "        if j % 2 == 0: # if position is even\n",
        "            print(' ', end='')\n",
        "        else: # if position is not even then print count\n",
        "            print(count, end='')\n",
        "            count += 1\n",
        "    print(); per_line_chrs+=2 # incrementing to next odd"
      ],
      "metadata": {
        "colab": {
          "base_uri": "https://localhost:8080/"
        },
        "id": "QKuzQri7oyer",
        "outputId": "a70ad2ef-cefc-458e-b4ab-7a876ccda6c6"
      },
      "execution_count": null,
      "outputs": [
        {
          "output_type": "stream",
          "name": "stdout",
          "text": [
            "\n",
            "1 \n",
            "2 3 \n",
            "4 5 6 \n",
            "7 8 9 10 \n"
          ]
        }
      ]
    },
    {
      "cell_type": "markdown",
      "source": [
        "```\n",
        "* * * *\n",
        " * * * *\n",
        "* * * *\n",
        " * * * *\n",
        "```"
      ],
      "metadata": {
        "id": "HGM6p8qco5zC"
      }
    },
    {
      "cell_type": "code",
      "source": [
        "n = 4\n",
        "for i in range(1, n+1):\n",
        "    if i % 2 == 0: # even row\n",
        "        elems = [' ' if x % 2 == 0 else '*' for x in range(n*2)]\n",
        "    else: # odd row\n",
        "        elems = ['*' if x % 2 == 0 else ' ' for x in range(n*2)]\n",
        "    print(''.join(elems))"
      ],
      "metadata": {
        "colab": {
          "base_uri": "https://localhost:8080/"
        },
        "id": "sCUmO5Eoo66n",
        "outputId": "42034f79-ade3-46ed-e977-f2608772c532"
      },
      "execution_count": null,
      "outputs": [
        {
          "output_type": "stream",
          "name": "stdout",
          "text": [
            "* * * * \n",
            " * * * *\n",
            "* * * * \n",
            " * * * *\n"
          ]
        }
      ]
    },
    {
      "cell_type": "markdown",
      "source": [
        "```\n",
        "\\ /\n",
        " v\n",
        "\n",
        "\\   /\n",
        " \\ /\n",
        "  v\n",
        "\n",
        "\\     /\n",
        " \\   /\n",
        "  \\ /\n",
        "   v\n",
        "\n",
        "\\       /\n",
        " \\     /\n",
        "  \\   /\n",
        "   \\ /\n",
        "    v\n",
        "```"
      ],
      "metadata": {
        "id": "Bg81ztftqEY4"
      }
    },
    {
      "cell_type": "code",
      "source": [
        "n = 7\n",
        "for line in range(n):\n",
        "    # print(line+1, n-line-1)\n",
        "    if line == n-1:\n",
        "        print(' '*(n-1)+'v')\n",
        "    else:\n",
        "        # print(' '*line+'\\\\'+' '*(n-line-1)*2+'/')\n",
        "        print(' '*line+'\\\\'+' '*(((n-line-2)*2)+1)+'/')"
      ],
      "metadata": {
        "colab": {
          "base_uri": "https://localhost:8080/"
        },
        "id": "qWD8vLzmrfCk",
        "outputId": "8f349eca-60f9-4212-9055-00bcffe0c07d"
      },
      "execution_count": null,
      "outputs": [
        {
          "output_type": "stream",
          "name": "stdout",
          "text": [
            "\\           /\n",
            " \\         /\n",
            "  \\       /\n",
            "   \\     /\n",
            "    \\   /\n",
            "     \\ /\n",
            "      v\n"
          ]
        }
      ]
    },
    {
      "cell_type": "code",
      "source": [
        "with open('file.txt','w') as file:\n",
        "    file.write('Hello User!\\nPython is writing in files :-)')"
      ],
      "metadata": {
        "id": "gQ8lKsXJvllU"
      },
      "execution_count": null,
      "outputs": []
    },
    {
      "cell_type": "code",
      "source": [
        "with open('file.txt','r') as file:\n",
        "    print(file.read())\n",
        "    # print(file.readline(),'hi')"
      ],
      "metadata": {
        "colab": {
          "base_uri": "https://localhost:8080/"
        },
        "id": "ZtN7nt6lxdXM",
        "outputId": "60401608-8d6b-4cd9-972a-b05498ac6bf2"
      },
      "execution_count": null,
      "outputs": [
        {
          "output_type": "stream",
          "name": "stdout",
          "text": [
            "Hello User!\n",
            "Python is writing in files :-)\n"
          ]
        }
      ]
    },
    {
      "cell_type": "code",
      "source": [],
      "metadata": {
        "id": "d8uQvHbqx2df"
      },
      "execution_count": null,
      "outputs": []
    }
  ]
}