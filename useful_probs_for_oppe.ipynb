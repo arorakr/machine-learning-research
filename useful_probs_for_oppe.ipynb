{
  "nbformat": 4,
  "nbformat_minor": 0,
  "metadata": {
    "colab": {
      "provenance": [],
      "include_colab_link": true
    },
    "kernelspec": {
      "name": "python3",
      "display_name": "Python 3"
    },
    "language_info": {
      "name": "python"
    }
  },
  "cells": [
    {
      "cell_type": "markdown",
      "metadata": {
        "id": "view-in-github",
        "colab_type": "text"
      },
      "source": [
        "<a href=\"https://colab.research.google.com/github/arorakr/machine-learning-research/blob/master/useful_probs_for_oppe.ipynb\" target=\"_parent\"><img src=\"https://colab.research.google.com/assets/colab-badge.svg\" alt=\"Open In Colab\"/></a>"
      ]
    },
    {
      "cell_type": "code",
      "source": [
        "sales_data = [\n",
        "    {\"name\": \"John\", \"sales\": 500},\n",
        "    {\"name\": \"Alice\", \"sales\": 700},\n",
        "    {\"name\": \"John\", \"sales\": 300},\n",
        "    {\"name\": \"Alice\", \"sales\": 200},\n",
        "]\n"
      ],
      "metadata": {
        "id": "GGaYx2IXbh4_"
      },
      "execution_count": null,
      "outputs": []
    },
    {
      "cell_type": "code",
      "execution_count": null,
      "metadata": {
        "id": "Rs-hwt1DbB4_",
        "colab": {
          "base_uri": "https://localhost:8080/"
        },
        "outputId": "f4844a79-eab2-41d8-c510-882450086a7f"
      },
      "outputs": [
        {
          "output_type": "execute_result",
          "data": {
            "text/plain": [
              "[('Alice', 900), ('John', 800)]"
            ]
          },
          "metadata": {},
          "execution_count": 49
        }
      ],
      "source": [
        "\n",
        "def get_sales_leaderboard(sales_data: list) -> list:\n",
        "    \"\"\"\n",
        "    Calculate a leaderboard for sales representatives based on total sales.\n",
        "    Args:\n",
        "        sales_data(list): A list of dictionaries where each dictionary contains\n",
        "                           'name' (str) and 'sales' (int).\n",
        "    Returns:\n",
        "        list: A sorted leaderboard as a list of tuples in the format (Name, TotalSales),\n",
        "              sorted by TotalSales in descending order. If two representatives have the same\n",
        "              sales, sort them alphabetically by name.\n",
        "    \"\"\"\n",
        "    def get_data(sales_data):\n",
        "        data = {}\n",
        "        for sale in sales_data:\n",
        "            if sale['name'] not in data:\n",
        "                data[sale['name']] =  {'name':sale['name'],'sales':0}\n",
        "            data[sale['name']]['sales'] += sale['sales']\n",
        "        return data\n",
        "    sales = get_data(sales_data)\n",
        "    sorted_sales = sorted(sales.items(), key=lambda item: (-item[1]['sales'], item[1]['name']))\n",
        "    return [(name,details['sales']) for name, details in sorted_sales]\n",
        "\n",
        "get_sales_leaderboard(sales_data)"
      ]
    },
    {
      "cell_type": "code",
      "source": [
        "assert get_sales_leaderboard(sales_data) == [(\"Alice\", 900), (\"John\", 800)]\n",
        "assert get_sales_leaderboard([{\"name\": \"Sam\", \"sales\": 100}]) == [(\"Sam\", 100)]\n",
        "assert get_sales_leaderboard([]) == []\n",
        "assert get_sales_leaderboard([{\"name\": \"Anna\", \"sales\": 300}, {\"name\": \"Anna\", \"sales\": 200}]) == [(\"Anna\", 500)]\n"
      ],
      "metadata": {
        "id": "-ZIbs-PYxNX3"
      },
      "execution_count": null,
      "outputs": []
    },
    {
      "cell_type": "code",
      "source": [
        "n = int(input())\n",
        "rows = []\n",
        "for i in range(n):\n",
        "  row = list(map(int,input().split(',')))\n",
        "  rows.append(row)\n",
        "ln = len(rows)\n",
        "total = 0\n",
        "for i in range(len(rows)):\n",
        "    for j in range(len(rows[i])):\n",
        "        if i == j:\n",
        "            total += rows[i][j]\n",
        "        if i + j == ln-1:\n",
        "            total += rows[i][j]\n",
        "print(total)"
      ],
      "metadata": {
        "id": "t_d65o40zdMN"
      },
      "execution_count": null,
      "outputs": []
    },
    {
      "cell_type": "code",
      "source": [
        "def bin_search(L,k):\n",
        "    low  = 0\n",
        "    high = len(L)-1\n",
        "    while low<=high:\n",
        "        mid = (low+high)//2\n",
        "        if L[mid] < k:\n",
        "            low = mid + 1\n",
        "        elif L[mid] > k:\n",
        "            high = mid - 1\n",
        "        else:\n",
        "            return True\n",
        "print(bin_search([1,2,3,4,5],4))"
      ],
      "metadata": {
        "colab": {
          "base_uri": "https://localhost:8080/"
        },
        "id": "2qLCeLHtups8",
        "outputId": "de403396-2a09-415c-941e-59b1b049e39c"
      },
      "execution_count": null,
      "outputs": [
        {
          "output_type": "stream",
          "name": "stdout",
          "text": [
            "True\n"
          ]
        }
      ]
    },
    {
      "cell_type": "code",
      "source": [
        "matches = [\n",
        "    {\"team1\": \"A\", \"team2\": \"B\", \"score1\": 2, \"score2\": 1},\n",
        "    {\"team1\": \"B\", \"team2\": \"C\", \"score1\": 0, \"score2\": 0},\n",
        "    {\"team1\": \"C\", \"team2\": \"A\", \"score1\": 1, \"score2\": 3},\n",
        "]\n"
      ],
      "metadata": {
        "id": "UvjC4F_y31mw"
      },
      "execution_count": null,
      "outputs": []
    },
    {
      "cell_type": "code",
      "source": [
        "def calculate_tournament_standings(matches: list) -> list:\n",
        "    \"\"\"\n",
        "    Calculate tournament standings based on match results.\n",
        "\n",
        "    Args:\n",
        "        matches (list): A list of dictionaries where each dictionary contains:\n",
        "                        - 'team1' (str): Name of the first team.\n",
        "                        - 'team2' (str): Name of the second team.\n",
        "                        - 'score1' (int): Score of the first team.\n",
        "                        - 'score2' (int): Score of the second team.\n",
        "\n",
        "    Returns:\n",
        "        list: A sorted leaderboard as a list of tuples in the format (TeamName, Points, GoalsScored),\n",
        "              sorted by Points (descending), then GoalsScored (descending).\n",
        "              Points are awarded as follows:\n",
        "              - Win: +3 points\n",
        "              - Draw: +1 point for each team\n",
        "              - Loss: +0 points\n",
        "    \"\"\"\n",
        "    data = {}\n",
        "    for match in matches:\n",
        "        if match['team1'] not in data:\n",
        "            data[match['team1']] = {'name':match['team1'],'points':0,'goals':0}\n",
        "        if match['team2'] not in data:\n",
        "            data[match['team2']] = {'name':match['team2'],'points':0,'goals':0}\n",
        "        data[match['team1']]['goals'] += match['score1']\n",
        "        data[match['team2']]['goals'] += match['score2']\n",
        "        if match['score1'] > match['score2']:\n",
        "            data[match['team1']]['points'] += 3\n",
        "        elif match['score1'] < match['score2']:\n",
        "            data[match['team2']]['points'] += 3\n",
        "        else:\n",
        "            data[match['team1']]['points'] += 1\n",
        "            data[match['team2']]['points'] += 1\n",
        "        return data\n",
        "\n",
        "\n",
        "\n",
        "\n",
        "calculate_tournament_standings(matches)"
      ],
      "metadata": {
        "id": "QXB0yNE8bjyp",
        "colab": {
          "base_uri": "https://localhost:8080/"
        },
        "outputId": "7036a0b0-635e-4ee5-bbd3-d54ffecd2f20"
      },
      "execution_count": null,
      "outputs": [
        {
          "output_type": "execute_result",
          "data": {
            "text/plain": [
              "{'A': {'name': 'A', 'points': 3, 'goals': 2},\n",
              " 'B': {'name': 'B', 'points': 0, 'goals': 1}}"
            ]
          },
          "metadata": {},
          "execution_count": 63
        }
      ]
    },
    {
      "cell_type": "code",
      "source": [
        "assert calculate_tournament_standings(matches) == [(\"A\", 6, 5), (\"C\", 1, 1), (\"B\", 1, 1)]\n",
        "assert calculate_tournament_standings([]) == []\n",
        "assert calculate_tournament_standings([{\"team1\": \"X\", \"team2\": \"Y\", \"score1\": 0, \"score2\": 0}]) == [(\"X\", 1, 0), (\"Y\", 1, 0)]\n",
        "assert calculate_tournament_standings([{\"team1\": \"P\", \"team2\": \"Q\", \"score1\": 3, \"score2\": 0}]) == [(\"P\", 3, 3), (\"Q\", 0, 0)]\n"
      ],
      "metadata": {
        "id": "VeQSZkcr2jga"
      },
      "execution_count": null,
      "outputs": []
    },
    {
      "cell_type": "code",
      "source": [
        "ratings = [\n",
        "    {\"movie\": \"Inception\", \"rating\": 4.5},\n",
        "    {\"movie\": \"Interstellar\", \"rating\": 4.7},\n",
        "    {\"movie\": \"Inception\", \"rating\": 4.8},\n",
        "]\n"
      ],
      "metadata": {
        "id": "Hb9VahHR2jc3"
      },
      "execution_count": null,
      "outputs": []
    },
    {
      "cell_type": "code",
      "source": [
        "def filter_primes(numbers: list[int]) -> list[int]:\n",
        "  '''Given a list of integers, returns a list with only prime numbers.\n",
        "\n",
        "  Args:\n",
        "    nums: list[int] - the input list of integers\n",
        "\n",
        "  Returns:\n",
        "    list[int] - sorted list containing only prime numbers from the input list\n",
        "  '''\n",
        "  def is_prime(num):\n",
        "      if num == 1:\n",
        "          return False\n",
        "      for i in range(2,num):\n",
        "          if num % i == 0:\n",
        "              return False\n",
        "      return True\n",
        "  res = []\n",
        "  for elem in numbers:\n",
        "      if is_prime(elem):\n",
        "          res.append(elem)\n",
        "  return sorted(res)\n",
        "\n",
        "\n",
        "filter_primes([1, 2, 3, 4, 5])"
      ],
      "metadata": {
        "id": "Q17o_lxrwXI7"
      },
      "execution_count": null,
      "outputs": []
    },
    {
      "cell_type": "code",
      "source": [
        "\n",
        "\n",
        "def unique_palindromic_substrings(word: str) -> list[str]:\n",
        "  '''\n",
        "  Find all unique palindromic substrings in the given string.\n",
        "\n",
        "  Args:\n",
        "      word (str): A lowercase string.\n",
        "\n",
        "  Return:\n",
        "      list[str] : A list of unique palindromic substring sorted in ascending order.\n",
        "  '''\n",
        "  substrings = []\n",
        "  for i in range(len(word)):\n",
        "      for j in range(i+1,len(word)):\n",
        "          substrings.append(word[i:j+1])\n",
        "  substrings.extend(list(word))\n",
        "  res = []\n",
        "  for string in substrings:\n",
        "      if string[:] == string[::-1]:\n",
        "          res.append(string)\n",
        "  return res\n"
      ],
      "metadata": {
        "id": "3c1-KbudfV0g"
      },
      "execution_count": null,
      "outputs": []
    },
    {
      "cell_type": "code",
      "source": [
        "n = int(input())\n",
        "r = int(input())\n",
        "\n",
        "def factorial(n):\n",
        "    if n <= 1:\n",
        "        return 1\n",
        "    else:\n",
        "        return n * factorial(n-1)\n",
        "\n",
        "combinations = factorial(n)//(factorial(r)*factorial(n-r))\n",
        "permutations = factorial(n)//factorial(n-r)"
      ],
      "metadata": {
        "id": "7dn3bY8fjPGm"
      },
      "execution_count": null,
      "outputs": []
    },
    {
      "cell_type": "code",
      "source": [
        "\n",
        "# success\n",
        "def unique_palindromic_substrings(word: str) -> list[str]:\n",
        "  '''\n",
        "  Find all unique palindromic substrings in the given string.\n",
        "\n",
        "  Args:\n",
        "      word (str): A lowercase string.\n",
        "\n",
        "  Return:\n",
        "      list[str] : A list of unique palindromic substring sorted in ascending order.\n",
        "  '''\n",
        "  uni_pal_substrings = []\n",
        "  for i in range(len(word)):\n",
        "      for j in range(i,len(word)):\n",
        "          if word[i:j+1][:] == word[i:j+1][::-1]:\n",
        "              if word[i:j+1] not in uni_pal_substrings:\n",
        "                uni_pal_substrings.append(word[i:j+1])\n",
        "  return uni_pal_substrings\n",
        "\n",
        "unique_palindromic_substrings('abba')"
      ],
      "metadata": {
        "id": "kAc4t0hJhdTb"
      },
      "execution_count": null,
      "outputs": []
    },
    {
      "cell_type": "code",
      "source": [
        "def get_movie_leaderboard(ratings: list) -> list:\n",
        "    \"\"\"\n",
        "    Calculate a leaderboard for movies based on average ratings.\n",
        "\n",
        "    Args:\n",
        "        ratings (list): A list of dictionaries where each dictionary contains:\n",
        "                        - 'movie' (str): Name of the movie.\n",
        "                        - 'rating' (float): Rating given to the movie.\n",
        "\n",
        "    Returns:\n",
        "        list: A sorted leaderboard as a list of tuples in the format (MovieName, AverageRating),\n",
        "              sorted by AverageRating in descending order. If two movies have the same rating,\n",
        "              sort them alphabetically by name.\n",
        "    \"\"\"\n",
        "    data = {}\n",
        "\n"
      ],
      "metadata": {
        "id": "5PUx_wft7Nu3"
      },
      "execution_count": null,
      "outputs": []
    },
    {
      "cell_type": "code",
      "source": [
        "assert get_movie_leaderboard(ratings) == [(\"Inception\", 4.65), (\"Interstellar\", 4.7)]\n",
        "assert get_movie_leaderboard([]) == []\n",
        "assert get_movie_leaderboard([{\"movie\": \"Titanic\", \"rating\": 4.9}]) == [(\"Titanic\", 4.9)]\n",
        "assert get_movie_leaderboard([\n",
        "    {\"movie\": \"A Quiet Place\", \"rating\": 4.2},\n",
        "    {\"movie\": \"A Quiet Place Part II\", \"rating\": 4.3}\n",
        "]) == [(\"A Quiet Place Part II\", 4.3), (\"A Quiet Place\", 4.2)]\n"
      ],
      "metadata": {
        "id": "27FmDVmS2jaH"
      },
      "execution_count": null,
      "outputs": []
    },
    {
      "cell_type": "markdown",
      "source": [
        "Write a function named get_column that accepts a matrix named mat and a non-negative integer named col as arguments. It should return the column that is at index col in the matrix mat as a list. Zero-based indexing is used here."
      ],
      "metadata": {
        "id": "pbBlzL061n8a"
      }
    },
    {
      "cell_type": "code",
      "source": [
        "def get_column(mat,col):\n",
        "   return list(map(lambda row : row[col],mat))\n",
        "\n",
        "get_column([[88, 57, 22, 52], [43, 74, 43, 91], [43, 70, 81, 9]],2)"
      ],
      "metadata": {
        "colab": {
          "base_uri": "https://localhost:8080/"
        },
        "id": "sszEGqEY1j5I",
        "outputId": "6ede0f5f-3f33-4d1e-cffa-378984031eb6"
      },
      "execution_count": null,
      "outputs": [
        {
          "output_type": "execute_result",
          "data": {
            "text/plain": [
              "[22, 43, 81]"
            ]
          },
          "metadata": {},
          "execution_count": 2
        }
      ]
    },
    {
      "cell_type": "markdown",
      "source": [
        "(2) Write a function named get_row that accepts a matrix named mat and a non-negative integer named row as arguments. It should return the row that is at index row in the matrix mat as a list. Zero-based indexing is used here.\n"
      ],
      "metadata": {
        "id": "qrcVmzpB2kNk"
      }
    },
    {
      "cell_type": "code",
      "source": [
        "def get_row(mat,row):\n",
        "    return mat[row]"
      ],
      "metadata": {
        "id": "1glFgE6n2Fmv"
      },
      "execution_count": null,
      "outputs": []
    },
    {
      "cell_type": "code",
      "source": [
        "get_row([[88, 57, 22, 52], [43, 74, 43, 91], [43, 70, 81, 9]],2)"
      ],
      "metadata": {
        "colab": {
          "base_uri": "https://localhost:8080/"
        },
        "id": "s90iSQdL2Fi_",
        "outputId": "bbc6aeb6-5f71-4ed3-fefa-fd1af937e871"
      },
      "execution_count": null,
      "outputs": [
        {
          "output_type": "execute_result",
          "data": {
            "text/plain": [
              "[43, 70, 81, 9]"
            ]
          },
          "metadata": {},
          "execution_count": 4
        }
      ]
    },
    {
      "cell_type": "code",
      "source": [
        "employee_data = [{\"name\": \"Alice\", \"department\": \"HR\", \"salary\": 50000}, {\"name\": \"Bob\", \"department\": \"HR\", \"salary\": 60000}, {\"name\": \"Charlie\", \"department\": \"Engineering\", \"salary\": 80000}, {\"name\": \"David\", \"department\": \"Engineering\", \"salary\": 90000}, {\"name\": \"Eve\", \"department\": \"Marketing\", \"salary\": 70000}]\n",
        "is_equal(highest_paid_departments(employee_data, 2), [('Engineering', 85000), ('Marketing', 70000)])"
      ],
      "metadata": {
        "id": "qqL-iXXE1Vod"
      },
      "execution_count": null,
      "outputs": []
    },
    {
      "cell_type": "code",
      "source": [
        "def highest_paid_departments(employee_data: list, k: int) -> list:\n",
        "  '''\n",
        "  Given a list of dictionaries with employee's name, department and salary\n",
        "  Create a list with top k departments in terms of average salary\n",
        "  starting from highest to lowest.\n",
        "\n",
        "  Assume no to departments have same average salary.\n",
        "\n",
        "  Arguments:\n",
        "  \temployee_data : list[dict]\n",
        "    k - int\n",
        "\n",
        "  Return:\n",
        "  \tlist of tuples - top k departments with their avg. salary in form (dept: str, avg_salary: int)\n",
        "  '''\n",
        "\n",
        "  top_k_depts = []\n",
        "  depts = {}\n",
        "  dept_counts = {}\n",
        "  dept_avgs = {}\n",
        "  for employee in employee_data:\n",
        "      if employee['department'] not in depts:\n",
        "          depts[employee['department']]=employee['salary']\n",
        "          dept_counts[employee['department']] = 1\n",
        "      else:\n",
        "          depts[employee['department']] += employee['salary']\n",
        "          dept_counts[employee['department']] += 1\n",
        "  for employee in employee_data:\n",
        "      if employee['department'] not in dept_avgs:\n",
        "          dept_avgs[employee['department']]=0\n",
        "  for employee in employee_data:\n",
        "      dept_avgs[employee['department']]= depts[employee['department']]//dept_counts[employee['department']]\n",
        "  return sorted([(dep,avg_sal) for dep,avg_sal in dept_avgs.items()],key = lambda x:-x[1])[:k]"
      ],
      "metadata": {
        "id": "dcZcIc7D1UoW"
      },
      "execution_count": null,
      "outputs": []
    },
    {
      "cell_type": "code",
      "source": [
        "https://livinnector.github.io/live-py-tutor/#code=%0A%23Name%20a%20function%20highest_paid_departments,%20that%20accepts%20two%20arguments%3B%20employee_data%20and%20k.%0Aempdata%20%3D%20%5B%7B%22name%22%3A%20%22Alice%22,%20%22department%22%3A%20%22HR%22,%20%22salary%22%3A%2050000%7D,%20%0A%20%20%20%20%20%20%20%20%20%20%7B%22name%22%3A%20%22Bob%22,%20%22department%22%3A%20%22HR%22,%20%22salary%22%3A%2060000%7D,%20%0A%20%20%20%20%20%20%20%20%20%20%7B%22name%22%3A%20%22Charlie%22,%20%22department%22%3A%20%22Engineering%22,%20%22salary%22%3A%2080000%7D,%0A%20%20%20%20%20%20%20%20%20%20%7B%22name%22%3A%20%22David%22,%20%22department%22%3A%20%22Engineering%22,%20%22salary%22%3A%2090000%7D,%20%0A%20%20%20%20%20%20%20%20%20%20%7B%22name%22%3A%20%22Eve%22,%20%22department%22%3A%20%22Marketing%22,%20%22salary%22%3A%2070000%7D%5D%0A%23%20is_equal%28highest_paid_departments%28employee_data,%202%29,%20%5B%28'Engineering',%2085000%29,%20%28'Marketing',%2070000%29%5D%29%0A%0A%0Adef%20highest_paid_departments%28employee_data%3A%20list,%20k%3A%20int%29%20-%3E%20list%3A%0A%20%20'''%0A%20%20Given%20a%20list%20of%20dictionaries%20with%20employee's%20name,%20department%20and%20salary%0A%20%20Create%20a%20list%20with%20top%20k%20departments%20in%20terms%20of%20average%20salary%0A%20%20starting%20from%20highest%20to%20lowest.%0A%20%20%0A%20%20Assume%20no%20to%20departments%20have%20same%20average%20salary.%20%0A%20%20%0A%20%20Arguments%3A%20%0A%20%20%20%20employee_data%20%3A%20list%5Bdict%5D%0A%20%20%20%20k%20-%20int%0A%20%20%0A%20%20Return%3A%20%0A%20%20%20%20%20%20list%20of%20tuples%20-%20top%20k%20departments%20with%20their%20avg.%20salary%20in%20form%20%28dept%3A%20str,%20avg_salary%3A%20int%29%0A%20%20'''%0A%20%20top_k_depts%20%3D%20%5B%5D%0A%20%20depts%20%3D%20%7B%7D%0A%20%20dept_counts%20%3D%20%7B%7D%0A%20%20dept_avgs%20%3D%20%7B%7D%0A%20%20for%20employee%20in%20employee_data%3A%0A%20%20%20%20%20%20if%20employee%5B'department'%5D%20not%20in%20depts%3A%0A%20%20%20%20%20%20%20%20%20%20depts%5Bemployee%5B'department'%5D%5D%3Demployee%5B'salary'%5D%0A%20%20%20%20%20%20%20%20%20%20dept_counts%5Bemployee%5B'department'%5D%5D%20%3D%201%0A%20%20%20%20%20%20else%3A%0A%20%20%20%20%20%20%20%20%20%20depts%5Bemployee%5B'department'%5D%5D%20%2B%3D%20employee%5B'salary'%5D%0A%20%20%20%20%20%20%20%20%20%20dept_counts%5Bemployee%5B'department'%5D%5D%20%2B%3D%201%0A%20%20for%20employee%20in%20employee_data%3A%0A%20%20%20%20%20%20if%20employee%5B'department'%5D%20not%20in%20dept_avgs%3A%0A%20%20%20%20%20%20%20%20%20%20dept_avgs%5Bemployee%5B'department'%5D%5D%3D0%0A%20%20for%20employee%20in%20employee_data%3A%0A%20%20%20%20%20%20dept_avgs%5Bemployee%5B'department'%5D%5D%3D%20depts%5Bemployee%5B'department'%5D%5D//dept_counts%5Bemployee%5B'department'%5D%5D%0A%20%20return%20sorted%28%5B%28dep,avg_sal%29%20for%20dep,avg_sal%20in%20dept_avgs.items%28%29%5D,key%20%3D%20lambda%20x%3A-x%5B1%5D%29%5B%3Ak%5D%0Ahighest_paid_departments%28empdata,2%29%20%20%20%20%20%20%20%20%20%20%0A%0A%20%20%20%20%20%20%0A%20%20%20%20%20%20%0A%20%20%0A%20%20&cumulative=true&curInstr=76&heapPrimitives=false&mode=edit&origin=opt-live.js&py=3&rawInputLstJSON=%5B%5D&textReferences=falsehttps://livinnector.github.io/live-py-tutor/#code=%0A%23Name%20a%20function%20highest_paid_departments,%20that%20accepts%20two%20arguments%3B%20employee_data%20and%20k.%0Aempdata%20%3D%20%5B%7B%22name%22%3A%20%22Alice%22,%20%22department%22%3A%20%22HR%22,%20%22salary%22%3A%2050000%7D,%20%0A%20%20%20%20%20%20%20%20%20%20%7B%22name%22%3A%20%22Bob%22,%20%22department%22%3A%20%22HR%22,%20%22salary%22%3A%2060000%7D,%20%0A%20%20%20%20%20%20%20%20%20%20%7B%22name%22%3A%20%22Charlie%22,%20%22department%22%3A%20%22Engineering%22,%20%22salary%22%3A%2080000%7D,%0A%20%20%20%20%20%20%20%20%20%20%7B%22name%22%3A%20%22David%22,%20%22department%22%3A%20%22Engineering%22,%20%22salary%22%3A%2090000%7D,%20%0A%20%20%20%20%20%20%20%20%20%20%7B%22name%22%3A%20%22Eve%22,%20%22department%22%3A%20%22Marketing%22,%20%22salary%22%3A%2070000%7D%5D%0A%23%20is_equal%28highest_paid_departments%28employee_data,%202%29,%20%5B%28'Engineering',%2085000%29,%20%28'Marketing',%2070000%29%5D%29%0A%0A%0Adef%20highest_paid_departments%28employee_data%3A%20list,%20k%3A%20int%29%20-%3E%20list%3A%0A%20%20'''%0A%20%20Given%20a%20list%20of%20dictionaries%20with%20employee's%20name,%20department%20and%20salary%0A%20%20Create%20a%20list%20with%20top%20k%20departments%20in%20terms%20of%20average%20salary%0A%20%20starting%20from%20highest%20to%20lowest.%0A%20%20%0A%20%20Assume%20no%20to%20departments%20have%20same%20average%20salary.%20%0A%20%20%0A%20%20Arguments%3A%20%0A%20%20%20%20employee_data%20%3A%20list%5Bdict%5D%0A%20%20%20%20k%20-%20int%0A%20%20%0A%20%20Return%3A%20%0A%20%20%20%20%20%20list%20of%20tuples%20-%20top%20k%20departments%20with%20their%20avg.%20salary%20in%20form%20%28dept%3A%20str,%20avg_salary%3A%20int%29%0A%20%20'''%0A%20%20top_k_depts%20%3D%20%5B%5D%0A%20%20depts%20%3D%20%7B%7D%0A%20%20dept_counts%20%3D%20%7B%7D%0A%20%20dept_avgs%20%3D%20%7B%7D%0A%20%20for%20employee%20in%20employee_data%3A%0A%20%20%20%20%20%20if%20employee%5B'department'%5D%20not%20in%20depts%3A%0A%20%20%20%20%20%20%20%20%20%20depts%5Bemployee%5B'department'%5D%5D%3Demployee%5B'salary'%5D%0A%20%20%20%20%20%20%20%20%20%20dept_counts%5Bemployee%5B'department'%5D%5D%20%3D%201%0A%20%20%20%20%20%20else%3A%0A%20%20%20%20%20%20%20%20%20%20depts%5Bemployee%5B'department'%5D%5D%20%2B%3D%20employee%5B'salary'%5D%0A%20%20%20%20%20%20%20%20%20%20dept_counts%5Bemployee%5B'department'%5D%5D%20%2B%3D%201%0A%20%20for%20employee%20in%20employee_data%3A%0A%20%20%20%20%20%20if%20employee%5B'department'%5D%20not%20in%20dept_avgs%3A%0A%20%20%20%20%20%20%20%20%20%20dept_avgs%5Bemployee%5B'department'%5D%5D%3D0%0A%20%20for%20employee%20in%20employee_data%3A%0A%20%20%20%20%20%20dept_avgs%5Bemployee%5B'department'%5D%5D%3D%20depts%5Bemployee%5B'department'%5D%5D//dept_counts%5Bemployee%5B'department'%5D%5D%0A%20%20return%20sorted%28%5B%28dep,avg_sal%29%20for%20dep,avg_sal%20in%20dept_avgs.items%28%29%5D,key%20%3D%20lambda%20x%3A-x%5B1%5D%29%5B%3Ak%5D%0Ahighest_paid_departments%28empdata,2%29%20%20%20%20%20%20%20%20%20%20%0A%0A%20%20%20%20%20%20%0A%20%20%20%20%20%20%0A%20%20%0A%20%20&cumulative=true&curInstr=76&heapPrimitives=false&mode=edit&origin=opt-live.js&py=3&rawInputLstJSON=%5B%5D&textReferences=false"
      ],
      "metadata": {
        "id": "mqpZkRO01tfi"
      },
      "execution_count": null,
      "outputs": []
    },
    {
      "cell_type": "markdown",
      "source": [
        "Write a function insert that accepts a sorted list L of integers and an integer x as input. The function should return a sorted list with the element x inserted at the right place in the input list. The original list should not be disturbed in the process."
      ],
      "metadata": {
        "id": "qfT1qvM43g_O"
      }
    },
    {
      "cell_type": "code",
      "source": [
        "\n",
        "def insert(L,x):\n",
        "    for i in range(len(L)-1):\n",
        "        if L[i] < x and x < L[i+1]:\n",
        "            return L[:i+1] + [x] + L[i+1:]\n"
      ],
      "metadata": {
        "id": "PgKYk9cF2FdH"
      },
      "execution_count": null,
      "outputs": []
    },
    {
      "cell_type": "code",
      "source": [
        "sorted([88, 57, 22, 52,43, 74, 43, 91,43, 70, 81, 9])"
      ],
      "metadata": {
        "colab": {
          "base_uri": "https://localhost:8080/"
        },
        "id": "clqQjtrM3jmp",
        "outputId": "a3c4b1c9-73c5-487f-bcb8-38c1d4aa59b7"
      },
      "execution_count": null,
      "outputs": [
        {
          "output_type": "execute_result",
          "data": {
            "text/plain": [
              "[9, 22, 43, 43, 43, 52, 57, 70, 74, 81, 88, 91]"
            ]
          },
          "metadata": {},
          "execution_count": 10
        }
      ]
    },
    {
      "cell_type": "code",
      "source": [
        "insert([9, 22, 43, 43, 43, 52, 57, 70, 74, 81, 88, 91],85)"
      ],
      "metadata": {
        "colab": {
          "base_uri": "https://localhost:8080/"
        },
        "id": "SlvGwWDf3jj4",
        "outputId": "4c19b8b2-a949-4c53-e950-58e923e9c5d2"
      },
      "execution_count": null,
      "outputs": [
        {
          "output_type": "execute_result",
          "data": {
            "text/plain": [
              "[9, 22, 43, 43, 43, 52, 57, 70, 74, 81, 85, 88, 91]"
            ]
          },
          "metadata": {},
          "execution_count": 17
        }
      ]
    },
    {
      "cell_type": "markdown",
      "source": [
        "\n",
        "(1) factors: accept a positive integer\n",
        "n\n",
        "n as argument. Return the set of all factors of\n",
        "n"
      ],
      "metadata": {
        "id": "oHfG9OpK7d8A"
      }
    },
    {
      "cell_type": "code",
      "source": [
        "\n",
        "def factors(n):\n",
        "    facts = set()\n",
        "    for i in range(1,n+1):\n",
        "        if n % i == 0:\n",
        "            facts.add(i)\n",
        "    return facts\n",
        "\n",
        "factors(12)"
      ],
      "metadata": {
        "colab": {
          "base_uri": "https://localhost:8080/"
        },
        "id": "khV9Ct757bVB",
        "outputId": "cf93ccae-46e4-4507-c221-37aaafa42bc7"
      },
      "execution_count": null,
      "outputs": [
        {
          "output_type": "execute_result",
          "data": {
            "text/plain": [
              "{1, 2, 3, 4, 6, 12}"
            ]
          },
          "metadata": {},
          "execution_count": 32
        }
      ]
    },
    {
      "cell_type": "markdown",
      "source": [
        "common_factors: accept two positive integers a and b as arguments.\n",
        "Return the set of common factors of the two numbers. This function must make use of factors."
      ],
      "metadata": {
        "id": "h-nvzmT78W-A"
      }
    },
    {
      "cell_type": "code",
      "source": [
        "def common_factors(a,b):\n",
        "    comm_facts = set()\n",
        "    for i in range(1,a+1):\n",
        "        for j in range(1,b+1):\n",
        "            if a % i == 0 and b % j == 0 and i == j:\n",
        "                comm_facts.add(i)\n",
        "    return comm_facts\n",
        "\n",
        "common_factors(12,92)"
      ],
      "metadata": {
        "colab": {
          "base_uri": "https://localhost:8080/"
        },
        "id": "Qz9ib5s_7bSQ",
        "outputId": "8272c092-3f12-4df2-849c-b01a6f4fdb6a"
      },
      "execution_count": null,
      "outputs": [
        {
          "output_type": "execute_result",
          "data": {
            "text/plain": [
              "{1, 2, 4}"
            ]
          },
          "metadata": {},
          "execution_count": 34
        }
      ]
    },
    {
      "cell_type": "markdown",
      "source": [
        " factors_upto: accept a positive integer\n",
        "n\n",
        "n as argument. Return a dict D, whose keys are integers and values are sets. Each integer in the range"
      ],
      "metadata": {
        "id": "ArXL2WSk9mtV"
      }
    },
    {
      "cell_type": "code",
      "source": [
        "def factors_upto(n):\n",
        "    factdict = {}\n",
        "    for i in range(1,n+1):\n",
        "        factdict[i] = factors(i)\n",
        "    return factdict"
      ],
      "metadata": {
        "id": "qR5eG5BK9QzY"
      },
      "execution_count": null,
      "outputs": []
    },
    {
      "cell_type": "code",
      "source": [
        "factors_upto(12)"
      ],
      "metadata": {
        "colab": {
          "base_uri": "https://localhost:8080/"
        },
        "id": "MYTZZYDd94tJ",
        "outputId": "7abebef5-6ea7-42dc-bf5b-b840b15b51b4"
      },
      "execution_count": null,
      "outputs": [
        {
          "output_type": "execute_result",
          "data": {
            "text/plain": [
              "{1: {1},\n",
              " 2: {1, 2},\n",
              " 3: {1, 3},\n",
              " 4: {1, 2, 4},\n",
              " 5: {1, 5},\n",
              " 6: {1, 2, 3, 6},\n",
              " 7: {1, 7},\n",
              " 8: {1, 2, 4, 8},\n",
              " 9: {1, 3, 9},\n",
              " 10: {1, 2, 5, 10},\n",
              " 11: {1, 11},\n",
              " 12: {1, 2, 3, 4, 6, 12}}"
            ]
          },
          "metadata": {},
          "execution_count": 33
        }
      ]
    },
    {
      "cell_type": "code",
      "source": [
        "def common_factors(a, b):\n",
        "    \"\"\"\n",
        "    Finds the common factors of two numbers.\n",
        "\n",
        "    Args:\n",
        "        a: The first number.\n",
        "        b: The second number.\n",
        "\n",
        "    Returns:\n",
        "        A set of common factors.\n",
        "    \"\"\"\n",
        "\n",
        "    # Get the factors of both numbers.\n",
        "    factors_a = set(i for i in range(1, a + 1) if a % i == 0)\n",
        "    factors_b = set(i for i in range(1, b + 1) if b % i == 0)\n",
        "\n",
        "    # Find the intersection (common factors) of the two sets.\n",
        "    common_factors = factors_a.intersection(factors_b)\n",
        "\n",
        "    return common_factors\n",
        "\n",
        "# Example usage\n",
        "a = 12\n",
        "b = 92\n",
        "result = common_factors(a, b)\n",
        "print(f\"The common factors of {a} and {b} are: {result}\")"
      ],
      "metadata": {
        "colab": {
          "base_uri": "https://localhost:8080/"
        },
        "id": "oy08xgrC7bPP",
        "outputId": "90cda16e-7a66-40ea-fe2f-a4cee0f82c45"
      },
      "execution_count": null,
      "outputs": [
        {
          "output_type": "stream",
          "name": "stdout",
          "text": [
            "The common factors of 12 and 92 are: {1, 2, 4}\n"
          ]
        }
      ]
    },
    {
      "cell_type": "code",
      "metadata": {
        "id": "659e1c24"
      },
      "source": [
        "def findPeakutil(L, low, high):\n",
        "    \"\"\"\n",
        "    Finds a peak element in a list using binary search.\n",
        "\n",
        "    Args:\n",
        "        L (list): The input list of integers.\n",
        "        low (int): The lower bound of the search range.\n",
        "        high (int): The upper bound of the search range.\n",
        "\n",
        "    Returns:\n",
        "        int: A peak element in the list. Returns None if no peak is found (shouldn't happen for a non-empty list).\n",
        "    \"\"\"\n",
        "    n = len(L)\n",
        "    while low <= high:\n",
        "        mid = low + (high - low) // 2\n",
        "\n",
        "        # Check if mid is a peak\n",
        "        if (mid == 0 or L[mid] >= L[mid - 1]) and (mid == n - 1 or L[mid] >= L[mid + 1]):\n",
        "            return L[mid]\n",
        "        # If left neighbor is greater, search in the left half\n",
        "        elif mid > 0 and L[mid - 1] > L[mid]:\n",
        "            high = mid - 1\n",
        "        # If right neighbor is greater, search in the right half\n",
        "        else:\n",
        "            low = mid + 1\n",
        "    return None # Should not reach here for a non-empty list\n",
        "\n",
        "def Findpeak(L):\n",
        "    \"\"\"\n",
        "    Finds a peak element in a list by calling the utility function.\n",
        "    Args:\n",
        "        L (list): The input list of integers.\n",
        "    Returns:\n",
        "        int: A peak element in the list. Returns None if the list is empty.\n",
        "    \"\"\"\n",
        "    if not L:\n",
        "        return None\n",
        "    return findPeakutil(L, 0, len(L) - 1)"
      ],
      "execution_count": null,
      "outputs": []
    },
    {
      "cell_type": "markdown",
      "metadata": {
        "id": "bf8f2a98"
      },
      "source": [
        "Here are some test cases for the `Findpeak` function."
      ]
    },
    {
      "cell_type": "code",
      "metadata": {
        "id": "d33f77bf"
      },
      "source": [
        "# Test cases\n",
        "print(Findpeak([1, 2, 3, 4, 5]))\n",
        "print(Findpeak([5, 4, 3, 2, 1]))\n",
        "print(Findpeak([1, 3, 2, 4, 5]))\n",
        "print(Findpeak([1, 2, 3, 2, 1]))\n",
        "print(Findpeak([1]))\n",
        "print(Findpeak([]))"
      ],
      "execution_count": null,
      "outputs": []
    }
  ]
}