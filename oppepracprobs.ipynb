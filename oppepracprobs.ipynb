{
  "nbformat": 4,
  "nbformat_minor": 0,
  "metadata": {
    "colab": {
      "provenance": [],
      "include_colab_link": true
    },
    "kernelspec": {
      "name": "python3",
      "display_name": "Python 3"
    },
    "language_info": {
      "name": "python"
    }
  },
  "cells": [
    {
      "cell_type": "markdown",
      "metadata": {
        "id": "view-in-github",
        "colab_type": "text"
      },
      "source": [
        "<a href=\"https://colab.research.google.com/github/arorakr/machine-learning-research/blob/master/oppepracprobs.ipynb\" target=\"_parent\"><img src=\"https://colab.research.google.com/assets/colab-badge.svg\" alt=\"Open In Colab\"/></a>"
      ]
    },
    {
      "cell_type": "code",
      "source": [
        "matrix = {}\n",
        "rows = 4\n",
        "cols = 4\n",
        "i = 0\n",
        "while i < rows:\n",
        "  matrix[i] = {}\n",
        "  j = 0\n",
        "  while j < cols:\n",
        "    matrix[i][j] = 0\n",
        "    j += 1\n",
        "  i += 1\n",
        "\n",
        "print(matrix)"
      ],
      "metadata": {
        "colab": {
          "base_uri": "https://localhost:8080/"
        },
        "id": "q2kg1x2EphYT",
        "outputId": "803b8815-b352-46f4-8d5c-6a657a32fa18"
      },
      "execution_count": null,
      "outputs": [
        {
          "output_type": "stream",
          "name": "stdout",
          "text": [
            "{0: {0: 0, 1: 0, 2: 0, 3: 0}, 1: {0: 0, 1: 0, 2: 0, 3: 0}, 2: {0: 0, 1: 0, 2: 0, 3: 0}, 3: {0: 0, 1: 0, 2: 0, 3: 0}}\n"
          ]
        }
      ]
    },
    {
      "cell_type": "markdown",
      "source": [
        "# Section 1\n"
      ],
      "metadata": {
        "id": "AFuxv1qLfVWN"
      }
    },
    {
      "cell_type": "code",
      "source": [
        "#@title   Problem 1 - Data Types and Expressions [6 x 5 = 30 Marks]"
      ],
      "metadata": {
        "id": "XTXlCuoMg-89",
        "cellView": "form"
      },
      "execution_count": null,
      "outputs": []
    },
    {
      "cell_type": "code",
      "source": [
        "# is_equal(second_largest([1, 2, 3, 4, 5]), 4)\n",
        "# is_equal(second_largest([3, 2, 1]), 2)\n",
        "\n"
      ],
      "metadata": {
        "id": "LUNq2xnOWIfB"
      },
      "execution_count": null,
      "outputs": []
    },
    {
      "cell_type": "code",
      "source": [
        "def second_largest(lst: list) -> int:\n",
        "    '''\n",
        "    Given a list of integers, return the second largest number in the list.\n",
        "    Consider that list contains at least two integers.\n",
        "    Arguments:\n",
        "    lst: list - the input list of integers\n",
        "    Return:\n",
        "    int - the second largest number in the list\n",
        "    Example:\n",
        "    >>> second_largest([1, 2, 3, 4, 5])\n",
        "    4\n",
        "    '''\n",
        "    return sorted(lst)[-2]\n",
        "second_largest([3, 2, 1])"
      ],
      "metadata": {
        "colab": {
          "base_uri": "https://localhost:8080/"
        },
        "id": "280iRhGLV5Gf",
        "outputId": "720b2ef1-7b77-49ad-8ef6-d3207da026e5"
      },
      "execution_count": null,
      "outputs": [
        {
          "output_type": "execute_result",
          "data": {
            "text/plain": [
              "2"
            ]
          },
          "metadata": {},
          "execution_count": 316
        }
      ]
    },
    {
      "cell_type": "code",
      "source": [
        "\n",
        "is_equal(arithmetic_operations((1, 2)), (3, -1, 2, 0))\n",
        "is_equal(arithmetic_operations((10, 5)), (15, 5, 50, 2))\n"
      ],
      "metadata": {
        "id": "NK64on0zWlSU"
      },
      "execution_count": null,
      "outputs": []
    },
    {
      "cell_type": "code",
      "source": [
        "arithmetic_operations((1, 2))"
      ],
      "metadata": {
        "id": "-h9MkI_dW7Or"
      },
      "execution_count": null,
      "outputs": []
    },
    {
      "cell_type": "code",
      "source": [
        "arithmetic_operations((10, 5))"
      ],
      "metadata": {
        "colab": {
          "base_uri": "https://localhost:8080/"
        },
        "id": "qpGNUQphXIXk",
        "outputId": "038ad349-2188-4425-ca74-e442a87dd1c3"
      },
      "execution_count": null,
      "outputs": [
        {
          "output_type": "execute_result",
          "data": {
            "text/plain": [
              "(15, 5, 50, 2)"
            ]
          },
          "metadata": {},
          "execution_count": 115
        }
      ]
    },
    {
      "cell_type": "code",
      "source": [
        "def arithmetic_operations(t: tuple) -> tuple:\n",
        "    '''\n",
        "    Given a tuple of two integers (a, b), return a tuple containing the\n",
        "    sum, difference, product, and quotient (integer division) of the two numbers.\n",
        "    Arguments:\n",
        "    t: tuple - a tuple of two integers (a, b)\n",
        "    Return:\n",
        "    tuple - a tuple containing the sum, difference, product, and quotient\n",
        "    Example:\n",
        "    >>> arithmetic_operations((1, 2))\n",
        "    (3, -1, 2, 0)\n",
        "    '''\n",
        "    return (t[0]+t[1],t[0]-t[1],t[0]*t[1],t[0]//t[1])"
      ],
      "metadata": {
        "id": "qZ2cWru1WYJc"
      },
      "execution_count": null,
      "outputs": []
    },
    {
      "cell_type": "code",
      "source": [
        "def square_and_clip(x: int, threshold:int) -> int:\n",
        "    '''\n",
        "    Square the given integer and clip the result to threshold\n",
        "    (clipping means if the value x goes greater than the threshold, keep it at threshold).\n",
        "    Arguments:\n",
        "    x: int - the input number\n",
        "    threshold: int - the threshold value\n",
        "    Return:\n",
        "    int - squared and clipped result\n",
        "    '''\n",
        "    # if x**2 > threshold:\n",
        "    #     return  threshold\n",
        "    # else:\n",
        "    #     return x**2\n",
        "    return min([x**2,threshold])"
      ],
      "metadata": {
        "id": "OZygyADYkRKa"
      },
      "execution_count": null,
      "outputs": []
    },
    {
      "cell_type": "code",
      "source": [
        "def not_present_in_both(lst1: list, lst2: list) -> list:\n",
        "    '''\n",
        "    Given two lists, return a list containing the items\n",
        "    that are present in either list 1 or list 2 but not in both.\n",
        "\n",
        "    Arguments:\n",
        "    lst1: list - the first list\n",
        "    lst2: list - the second list\n",
        "\n",
        "    Return:\n",
        "    set - a set containing the items present in either list 1 or list 2 but not in both\n",
        "\n",
        "    Example:\n",
        "    >>> symmetric_difference([1, 2, 3], [3, 4, 5])\n",
        "    {1, 2, 4, 5}\n",
        "    '''\n",
        "    comms = [elem for elem in lst1 if elem in lst2]\n",
        "\n",
        "    # res = []\n",
        "    # for elem in lst1:\n",
        "    #     if elem not in comms and elem in lst2:\n",
        "    #         res.append(elem)\n",
        "    # for elem in lst2:\n",
        "    #     if elem not in comms and elem in lst1:\n",
        "    #         res.append(elem)\n",
        "    sym_diff = set()\n",
        "    alls = lst1 + lst2\n",
        "    for elem in alls:\n",
        "        if elem not in comms and (elem in lst1 or elem in lst2):\n",
        "            sym_diff.add(elem)\n",
        "    return sym_diff"
      ],
      "metadata": {
        "id": "4SOYoM0MXOsR"
      },
      "execution_count": null,
      "outputs": []
    },
    {
      "cell_type": "code",
      "source": [
        "is_equal(not_present_in_both([1, 2, 3], [3, 4, 5]), {1, 2, 4, 5})\n",
        "is_equal(not_present_in_both(['apple', 'ball', 'cat'], ['ball', 'cat', 'dog']), {'apple', 'dog'})\n"
      ],
      "metadata": {
        "id": "j1Utem-9ZT67"
      },
      "execution_count": null,
      "outputs": []
    },
    {
      "cell_type": "code",
      "source": [
        "not_present_in_both(['apple', 'ball', 'cat'], ['ball', 'cat', 'dog'])"
      ],
      "metadata": {
        "colab": {
          "base_uri": "https://localhost:8080/"
        },
        "id": "PEaGiAIPZb3l",
        "outputId": "8527afc2-4afb-44e2-a6a4-80139d2ee497"
      },
      "execution_count": null,
      "outputs": [
        {
          "output_type": "stream",
          "name": "stdout",
          "text": [
            "['ball', 'cat']\n"
          ]
        },
        {
          "output_type": "execute_result",
          "data": {
            "text/plain": [
              "{'apple', 'dog'}"
            ]
          },
          "metadata": {},
          "execution_count": 139
        }
      ]
    },
    {
      "cell_type": "code",
      "source": [
        "not_present_in_both([1, 2, 3], [3, 4, 5])\n"
      ],
      "metadata": {
        "colab": {
          "base_uri": "https://localhost:8080/"
        },
        "id": "E2aQMmHUXzyP",
        "outputId": "6931a512-3ca0-45ed-961f-72dcd968f75b"
      },
      "execution_count": null,
      "outputs": [
        {
          "output_type": "stream",
          "name": "stdout",
          "text": [
            "[3]\n"
          ]
        },
        {
          "output_type": "execute_result",
          "data": {
            "text/plain": [
              "{1, 2, 4, 5}"
            ]
          },
          "metadata": {},
          "execution_count": 138
        }
      ]
    },
    {
      "cell_type": "code",
      "source": [
        "def modify_string_1(s: str) -> str:\n",
        "    '''\n",
        "    Given a string, Seperate the characters present in odd and even indices\n",
        "    and return the merged string with even indices first and odd indices second in reverse order.\n",
        "\n",
        "    Arguments:\n",
        "    s: str - the input string\n",
        "\n",
        "    Return:\n",
        "    str - modified string\n",
        "\n",
        "    Example:\n",
        "    >>> modify_string_1('abcde')\n",
        "    'acedb'\n",
        "    >>> modify_string_1('python')\n",
        "    'ptonhy'\n",
        "    '''\n",
        "    return s[::2] + s[1::2][::-1]\n"
      ],
      "metadata": {
        "id": "y3IuNkdaZgwI"
      },
      "execution_count": null,
      "outputs": []
    },
    {
      "cell_type": "code",
      "source": [
        "modify_string_1('python')"
      ],
      "metadata": {
        "colab": {
          "base_uri": "https://localhost:8080/",
          "height": 36
        },
        "id": "MibuLKAgZ2mD",
        "outputId": "aee3cb3f-b2c0-4a25-c1f8-562d391ea6f5"
      },
      "execution_count": null,
      "outputs": [
        {
          "output_type": "execute_result",
          "data": {
            "text/plain": [
              "'ptonhy'"
            ],
            "application/vnd.google.colaboratory.intrinsic+json": {
              "type": "string"
            }
          },
          "metadata": {},
          "execution_count": 143
        }
      ]
    },
    {
      "cell_type": "code",
      "source": [
        "modify_string_1('abcde')"
      ],
      "metadata": {
        "colab": {
          "base_uri": "https://localhost:8080/",
          "height": 36
        },
        "id": "ApTiZdPOaDkh",
        "outputId": "61095484-36d5-461b-e22b-ddfd974da0f3"
      },
      "execution_count": null,
      "outputs": [
        {
          "output_type": "execute_result",
          "data": {
            "text/plain": [
              "'acedb'"
            ],
            "application/vnd.google.colaboratory.intrinsic+json": {
              "type": "string"
            }
          },
          "metadata": {},
          "execution_count": 144
        }
      ]
    },
    {
      "cell_type": "code",
      "source": [
        "print('abcde'[::2])"
      ],
      "metadata": {
        "colab": {
          "base_uri": "https://localhost:8080/"
        },
        "id": "SP_X2b-UZgst",
        "outputId": "bb09e210-9a2b-4d6b-bc7c-2d44ee6b763f"
      },
      "execution_count": null,
      "outputs": [
        {
          "output_type": "stream",
          "name": "stdout",
          "text": [
            "ace\n"
          ]
        }
      ]
    },
    {
      "cell_type": "code",
      "source": [
        "\n",
        "def create_count_dict(lst1: list, lst2: list) -> dict:\n",
        "    '''\n",
        "    Given two lists, lst1 and lst2, return a dictionary where each item\n",
        "    of lst1 is the key and the corresponding value is the count of that\n",
        "    item in lst2.\n",
        "\n",
        "    Arguments:\n",
        "    lst1: list - the first list of items to be used as keys\n",
        "    lst2: list - the second list of items from which to count occurrences\n",
        "\n",
        "    Return:\n",
        "    dict - a dictionary with items from lst1 as keys and their counts in lst2 as values\n",
        "\n",
        "    Example:\n",
        "    >>> create_count_dict(['a', 'b', 'c'], ['a', 'b', 'a', 'a', 'c', 'c', 'c'])\n",
        "    {'a': 3, 'b': 1, 'c': 3}\n",
        "    '''\n",
        "    res = {elem:lst2.count(elem) for elem in lst1}\n",
        "    return res"
      ],
      "metadata": {
        "id": "TrYNogtQaHsG"
      },
      "execution_count": null,
      "outputs": []
    },
    {
      "cell_type": "code",
      "source": [
        "\n",
        "create_count_dict(['a', 'b', 'c'], ['a', 'b', 'a', 'a', 'c', 'c', 'c'])\n",
        "    {'a': 3, 'b': 1, 'c': 3}"
      ],
      "metadata": {
        "id": "hKjwj-Taat2K"
      },
      "execution_count": null,
      "outputs": []
    },
    {
      "cell_type": "code",
      "source": [
        "\n",
        "print(create_count_dict(['a', 'b', 'c'], ['a', 'b', 'a', 'a', 'c', 'c', 'c']))"
      ],
      "metadata": {
        "colab": {
          "base_uri": "https://localhost:8080/"
        },
        "id": "dhKBt9IGa0K1",
        "outputId": "82a149fa-5fd6-4e28-b2ae-2ef800f5febd"
      },
      "execution_count": null,
      "outputs": [
        {
          "output_type": "stream",
          "name": "stdout",
          "text": [
            "{'a': 3, 'b': 1, 'c': 3}\n"
          ]
        }
      ]
    },
    {
      "cell_type": "code",
      "source": [
        "def average_of_numbers(lst: list) -> float:\n",
        "    '''\n",
        "    Given a list containing integers, floats, and strings, return the average\n",
        "    of the integers and floats, rounded to two decimal points. If neither\n",
        "    integers nor floats are present, return -1.\n",
        "    Arguments:\n",
        "    lst: list - a list containing integers, floats, and strings\n",
        "    Return:\n",
        "    float - the average of the integers and floats rounded to two decimal points,\n",
        "            or -1 if no integers or floats are present\n",
        "    Example:\n",
        "    >>> average_of_numbers([1, 2.5, 'a', 3, 'b'])\n",
        "    2.17\n",
        "    >>> average_of_numbers(['a', 'b', 'c'])\n",
        "    -1\n",
        "    '''\n",
        "    nums = []\n",
        "    for elem in lst:\n",
        "        if type(elem) == int or type(elem) == float:\n",
        "            nums.append(elem)\n",
        "    if len(nums) == 0:\n",
        "        return -1\n",
        "    elif len(nums) == 1:\n",
        "        return nums[0]\n",
        "    else:\n",
        "        return round(sum(nums)/len(nums),2)\n",
        "\n",
        "average_of_numbers([1, 2.5, 'a', 3, 'b'])"
      ],
      "metadata": {
        "colab": {
          "base_uri": "https://localhost:8080/"
        },
        "id": "X9_OBcNha5uI",
        "outputId": "b4cf5c21-bd7a-436b-d473-5dd8bd2d4f01"
      },
      "execution_count": null,
      "outputs": [
        {
          "output_type": "execute_result",
          "data": {
            "text/plain": [
              "2.17"
            ]
          },
          "metadata": {},
          "execution_count": 157
        }
      ]
    },
    {
      "cell_type": "code",
      "source": [
        "\n",
        "def most_frequent_element(lst: list) -> int:\n",
        "    '''\n",
        "    Arguments:\n",
        "    lst: list - a list of integers\n",
        "\n",
        "    Return:\n",
        "    int - the integer that occurs most frequently, or the largest one\n",
        "          if there are multiple with the same frequency\n",
        "    Example:\n",
        "    >>> most_frequent_element([1, 2, 2, 3, 3, 3, 4, 4, 4, 4])\n",
        "    4\n",
        "    '''\n",
        "    elemcounts = {}\n",
        "    for elem in lst:\n",
        "        if elem not in elemcounts:\n",
        "            elemcounts[elem] = 1\n",
        "        else:\n",
        "            elemcounts[elem] += 1\n",
        "    return max(lst,key = lambda elem: (elemcounts[elem],elem))\n",
        "\n"
      ],
      "metadata": {
        "id": "NFrrbA47b3Qa"
      },
      "execution_count": null,
      "outputs": []
    },
    {
      "cell_type": "code",
      "source": [
        "most_frequent_element([1, 2, 2, 3, 3, 3, 4, 4, 4, 4])"
      ],
      "metadata": {
        "colab": {
          "base_uri": "https://localhost:8080/"
        },
        "id": "N4YcPUGgdp6W",
        "outputId": "4330575a-3a91-46e1-fb56-7570a4806f1e"
      },
      "execution_count": null,
      "outputs": [
        {
          "output_type": "execute_result",
          "data": {
            "text/plain": [
              "4"
            ]
          },
          "metadata": {},
          "execution_count": 174
        }
      ]
    },
    {
      "cell_type": "code",
      "source": [
        "most_frequent_element([15, 15, 22, 41, 55])"
      ],
      "metadata": {
        "colab": {
          "base_uri": "https://localhost:8080/"
        },
        "id": "l52dSgd9eDdS",
        "outputId": "919ed5d5-68e8-4def-f621-48ed21653f82"
      },
      "execution_count": null,
      "outputs": [
        {
          "output_type": "execute_result",
          "data": {
            "text/plain": [
              "15"
            ]
          },
          "metadata": {},
          "execution_count": 175
        }
      ]
    },
    {
      "cell_type": "code",
      "source": [
        "def lowercase_first_half_and_uppercase_second_half(s: str) -> str:\n",
        "    '''\n",
        "    Given an even-length string of any case, create a string with the first half\n",
        "    in lowercase and the second half in uppercase.\n",
        "\n",
        "    Arguments:\n",
        "    s: str - the input string\n",
        "\n",
        "    Return:\n",
        "    str - the modified string\n",
        "    '''\n",
        "    first = s[:len(s)//2]\n",
        "    second = s[len(s)//2:]\n",
        "    return first.lower() + second.upper()"
      ],
      "metadata": {
        "id": "QPIir4L1kR3G"
      },
      "execution_count": null,
      "outputs": []
    },
    {
      "cell_type": "code",
      "source": [
        "\n",
        "def add_the_middle_element_to_both_ends(l: list) -> None:\n",
        "    '''\n",
        "    Given an odd-length list, insert the middle element to both ends of the list.\n",
        "    Modify the input list and do not return a new list.\n",
        "\n",
        "    Arguments:\n",
        "    l: list - the input list\n",
        "\n",
        "    Return:\n",
        "    None - the input list is modified inside the function.\n",
        "    '''\n",
        "    # middle = []\n",
        "    # for i in range(len(l)):\n",
        "    #     if i == ((len(l)+1)//2)-1:\n",
        "    #         middle = l[i]\n",
        "    # res = None\n",
        "    # res = [middle] + l + [middle]\n",
        "    # l = res\n",
        "    l.insert(len(l),l[((len(l)+1)//2)-1])\n",
        "    l.insert(0,l[((len(l)+1)//2)-1])"
      ],
      "metadata": {
        "id": "mllzziEakUOV"
      },
      "execution_count": null,
      "outputs": []
    },
    {
      "cell_type": "code",
      "source": [
        "def number_of_unique_common_digits(n1: int, n2: int) -> int:\n",
        "    '''\n",
        "    Given two integers, return the number of unique digits that are common in both numbers.\n",
        "    Eg, 287498,295424 - 2, 4 and 9 are common to both nums so answer is 3\n",
        "    Arguments:\n",
        "    n1: int - the first number\n",
        "    n2: int - the second number\n",
        "\n",
        "    Return:\n",
        "    int - the number of unique common digits.\n",
        "    '''\n",
        "    return len(set(list(str(n1))).intersection(set(list(str(n2)))))"
      ],
      "metadata": {
        "id": "Y0L33W5AkWuu"
      },
      "execution_count": null,
      "outputs": []
    },
    {
      "cell_type": "code",
      "source": [
        "\n",
        "def manhattan_distance_via_b(a: tuple, b: tuple, c: tuple) -> int:\n",
        "    '''\n",
        "    Given three points a, b, and c on the Cartesian plane,\n",
        "    calculate the Manhattan distance to go from point a to point c via point b.\n",
        "\n",
        "    Manhattan distance is the sum of the absolute differences of their Cartesian coordinates.\n",
        "\n",
        "    Args:\n",
        "        a (tuple): Coordinates of point a as (x1, y1).\n",
        "        b (tuple): Coordinates of point b as (x2, y2).\n",
        "        c (tuple): Coordinates of point c as (x3, y3).\n",
        "\n",
        "    Returns:\n",
        "        int: The Manhattan distance from point a to point c via point b.\n",
        "    '''\n",
        "    distanceab = abs(a[0]-b[0]) + abs(a[1]-b[1])\n",
        "    distancebc = abs(b[0]-c[0]) + abs(b[1]-c[1])\n",
        "\n",
        "    return distanceab + distancebc"
      ],
      "metadata": {
        "id": "eQzV2-nTkZXX"
      },
      "execution_count": null,
      "outputs": []
    },
    {
      "cell_type": "code",
      "source": [
        "\n",
        "def create_indexed_dict(names: list) -> dict:\n",
        "    '''\n",
        "    Given a list of names, create a dictionary with the indices as keys and the names as values.\n",
        "\n",
        "    Args:\n",
        "        names (list): A list of names.\n",
        "\n",
        "    Returns:\n",
        "        dict: A dictionary with indices as keys and names as values.\n",
        "    '''\n",
        "    res = {}\n",
        "    for i in range(len(names)):\n",
        "        res[i]=names[i]\n",
        "\n",
        "\n",
        "    return res"
      ],
      "metadata": {
        "id": "WlbUV6OSkfox"
      },
      "execution_count": null,
      "outputs": []
    },
    {
      "cell_type": "code",
      "source": [],
      "metadata": {
        "id": "ZQ1LqKfwkixy"
      },
      "execution_count": null,
      "outputs": []
    },
    {
      "cell_type": "code",
      "source": [
        "def is_right_triangle_with_even_sides(a:int,b:int,c:int) -> bool:\n",
        "    '''\n",
        "    Given three side lengths in the increasing\n",
        "    order of length as a, b, and c, where a<=b<=c,\n",
        "    check if the given sides are the sides of a right\n",
        "    triangle whose perpendicular sides are of even length.\n",
        "\n",
        "    Hint: in a right triangle the square of hypotenuse is the sum of square of other two sides.\n",
        "\n",
        "    Arguments:\n",
        "    a: int - the first side length\n",
        "    b: int - the second side length\n",
        "    c: int - the hypotenuse length\n",
        "\n",
        "    Return:\n",
        "    bool - True if the sides form a right triangle and the perpendicular sides are even, else False\n",
        "    '''\n",
        "    is_right = a**2 + b**2 == c**2\n",
        "    is_even = a%2 ==0 and b%2==0\n",
        "    return is_even and is_right"
      ],
      "metadata": {
        "id": "O8oa1v1Tii4-"
      },
      "execution_count": null,
      "outputs": []
    },
    {
      "cell_type": "code",
      "source": [
        "def is_odd_indices_alpha_and_even_indices_digits(string: str) -> bool:\n",
        "    '''\n",
        "    Given a string, check if all the odd indices are alphabets and the even indices are digits.\n",
        "\n",
        "    Note: indices starts from 0.\n",
        "\n",
        "    Arguments:\n",
        "    string: str - the input string\n",
        "\n",
        "    Return:\n",
        "    bool - True if all odd indices are alphabets and even indices are digits, else False\n",
        "    '''\n",
        "    even_digit = string[::2]\n",
        "    odd_digit = string[1::2]\n",
        "\n",
        "    return even_digit.isdigit() and odd_digit.isalpha()"
      ],
      "metadata": {
        "id": "bwcVdV_timtd"
      },
      "execution_count": null,
      "outputs": []
    },
    {
      "cell_type": "code",
      "source": [
        "def swap_even_and_odd_indices(l: list) -> None:\n",
        "    '''\n",
        "    Given a list of integers, swap the values at the even indices\n",
        "    and the odd indices by modifying the same list.\n",
        "\n",
        "    Arguments:\n",
        "    l: list - the input list of integers\n",
        "\n",
        "    Return:\n",
        "    None - the input list is modified inside the function.\n",
        "    '''\n",
        "    l[::2],l[1::2] = l[1::2], l[::2]"
      ],
      "metadata": {
        "id": "OvXRwVIbinXs"
      },
      "execution_count": null,
      "outputs": []
    },
    {
      "cell_type": "code",
      "source": [
        "def unique_chars_present_in_first_not_in_second(s1: str, s2: str) -> set:\n",
        "    '''\n",
        "    Given two words as strings, find the unique\n",
        "    chars that are present in the first word but not in\n",
        "    the second word.\n",
        "\n",
        "    Assume all characters in the input are in lowercase.\n",
        "\n",
        "    The order of elements in the set doesn't matter while returning.\n",
        "\n",
        "    Eg. water, watch -> {'e','r'}\n",
        "\n",
        "    Arguments:\n",
        "    s1: str - the first string\n",
        "    s2: str - the second string\n",
        "\n",
        "    Return:\n",
        "    set - the unique characters present in the first string but not in the second string\n",
        "    '''\n",
        "    return set(s1)- set(s2)"
      ],
      "metadata": {
        "id": "U9Wf5B7NisjG"
      },
      "execution_count": null,
      "outputs": []
    },
    {
      "cell_type": "code",
      "source": [
        "def repeat(t: tuple) -> tuple:\n",
        "    '''\n",
        "    Given a tuple of length two, say (a,b), create a tuple\n",
        "    with a repeated b number of times and b repeated a number of times.\n",
        "\n",
        "    E.g., repeat((2, 3)) ->  (2, 2, 2, 3, 3)\n",
        "\n",
        "    Arguments:\n",
        "    t: tuple - a tuple of two integers (a, b)\n",
        "\n",
        "    Return:\n",
        "    tuple - a new tuple with a repeated b times followed by b repeated a times\n",
        "    '''\n",
        "    left = []\n",
        "    for i in range(t[1]):\n",
        "        left.append(t[0])\n",
        "    right = []\n",
        "    for i in range(t[0]):\n",
        "        right.append(t[1])\n",
        "\n",
        "    return tuple(left+right)"
      ],
      "metadata": {
        "id": "uNhoaqygix45"
      },
      "execution_count": null,
      "outputs": []
    },
    {
      "cell_type": "code",
      "source": [
        "def num_squares(n: int) -> dict:\n",
        "    '''\n",
        "    Given an integer n, create a dictionary with the\n",
        "    numbers from 1 to n (inclusive) as keys and their\n",
        "    squares as values.\n",
        "\n",
        "    Arguments:\n",
        "    n: int - the input integer\n",
        "\n",
        "    Return:\n",
        "    dict - the dictionary with numbers from 1 to n as keys and their squares as values\n",
        "    '''\n",
        "    # res_dic = {}\n",
        "    # for i in range(1,n+1):\n",
        "    #     res_dic[i] = i**2\n",
        "\n",
        "    # return res_dic\n",
        "    res= dict(zip([i,i**2 for i in range(1,n+1))])\n",
        "    return res"
      ],
      "metadata": {
        "id": "iKWWJNsOiy5Y"
      },
      "execution_count": null,
      "outputs": []
    },
    {
      "cell_type": "code",
      "source": [
        "\n",
        "def percentage_increase(original, new):\n",
        "    '''Calculate the percentage increase from the original value to the new value.\n",
        "    Args:\n",
        "        original (float): The original value.\n",
        "        new (float): The new value.\n",
        "    Returns:\n",
        "        float: The percentage increase.\n",
        "    Examples:\n",
        "    >>> percentage_increase(50, 75)\n",
        "    50.0\n",
        "    >>> percentage_increase(80, 100)\n",
        "    25.0\n",
        "    '''\n",
        "    if original == 0:\n",
        "        return None\n",
        "    else:\n",
        "        perc_inc = ((new - original)/original)*100\n",
        "    return perc_inc"
      ],
      "metadata": {
        "id": "3L3zkUsOf-eC"
      },
      "execution_count": null,
      "outputs": []
    },
    {
      "cell_type": "code",
      "source": [
        "def digit_product(n: int) -> int:\n",
        "    '''Calculate the product of the digits of an integer.\n",
        "\n",
        "    Args:\n",
        "        n (int): The integer whose digits are to be multiplied.\n",
        "\n",
        "    Returns:\n",
        "        int: The product of the digits.\n",
        "\n",
        "    Examples:\n",
        "    >>> digit_product(123)\n",
        "    6\n",
        "    >>> digit_product(101)\n",
        "    0\n",
        "    '''\n",
        "    if n < 10:\n",
        "        return n\n",
        "    return int(str(n)[-1])* digit_product(n//10)"
      ],
      "metadata": {
        "id": "cu8R9rkW0AjD"
      },
      "execution_count": null,
      "outputs": []
    },
    {
      "cell_type": "code",
      "source": [
        "digit_product(1232122)"
      ],
      "metadata": {
        "colab": {
          "base_uri": "https://localhost:8080/"
        },
        "id": "din8XRIr0ksm",
        "outputId": "0cf2b90f-c4bc-4f3a-911f-04f68af7dee0"
      },
      "execution_count": null,
      "outputs": [
        {
          "output_type": "execute_result",
          "data": {
            "text/plain": [
              "48"
            ]
          },
          "metadata": {},
          "execution_count": 17
        }
      ]
    },
    {
      "cell_type": "code",
      "source": [
        "def capitalize_first_and_last(sentence: str) -> str:\n",
        "    '''Capitalize the first and last characters of each word of the sentence.\n",
        "    Args:\n",
        "        sentence (str): Input string sentence of space seperated words.\n",
        "    Returns:\n",
        "        str: The string with the first and last characters of each word capitalized.\n",
        "    Examples:\n",
        "    >>> capitalize_first_and_last(\"hello world\")\n",
        "    'HellO WorlD'\n",
        "    >>> capitalize_first_and_last(\"python programming\")\n",
        "    'PythoN ProgramminG'\n",
        "    '''\n",
        "    res =  sentence.title()\n",
        "    words = res.split()\n",
        "    new_words = []\n",
        "    for word in words:\n",
        "      new_words.append(word[:-1] + word[-1].upper())\n",
        "    return new_words\n",
        "    # req = []\n",
        "    # for word in words:\n",
        "    #   req.append(word[:-1] + word[-1].upper())\n",
        "    # return ' '.join(res)\n"
      ],
      "metadata": {
        "id": "Toa3aqRe0ufa"
      },
      "execution_count": null,
      "outputs": []
    },
    {
      "cell_type": "code",
      "source": [
        "capitalize_first_and_last('hello world')"
      ],
      "metadata": {
        "colab": {
          "base_uri": "https://localhost:8080/"
        },
        "id": "RouafdxU04C9",
        "outputId": "33720ef0-648e-435c-e0a7-fa5c0721a11b"
      },
      "execution_count": null,
      "outputs": [
        {
          "output_type": "execute_result",
          "data": {
            "text/plain": [
              "['HellO', 'WorlD']"
            ]
          },
          "metadata": {},
          "execution_count": 52
        }
      ]
    },
    {
      "cell_type": "code",
      "source": [
        "def kth_longest_word(words: list, k: int) -> str:\n",
        "    '''Find the k-th longest word in a list of words where each word has a unique length.\n",
        "\n",
        "    Args:\n",
        "        words (list): The list of words.\n",
        "        k (int): The position (1-based) of the longest word to find.\n",
        "\n",
        "    Returns:\n",
        "        str: The k-th longest word in the list.\n",
        "\n",
        "    Examples:\n",
        "    >>> kth_longest_word(['apple', 'banana', 'cherry', 'date'], 2)\n",
        "    'apple'\n",
        "    >>> kth_longest_word(['elephant', 'dog', 'cat', 'hippopotamus'], 1)\n",
        "    'hippopotamus'\n",
        "    >>> kth_longest_word(['a', 'abc', 'abcd', 'ab'], 3)\n",
        "    'ab'\n",
        "    '''\n",
        "    longs = sorted(words,key = lambda word: len(word),reverse=True)\n",
        "    return longs[k-1]"
      ],
      "metadata": {
        "id": "E_0K-5k_3eHj"
      },
      "execution_count": null,
      "outputs": []
    },
    {
      "cell_type": "code",
      "source": [
        "kth_longest_word(['apple', 'banana', 'cherry', 'date'], 2)"
      ],
      "metadata": {
        "colab": {
          "base_uri": "https://localhost:8080/",
          "height": 35
        },
        "id": "-UElJk9d33cE",
        "outputId": "572330d3-56ae-4162-9e53-4cfc626e105e"
      },
      "execution_count": null,
      "outputs": [
        {
          "output_type": "execute_result",
          "data": {
            "text/plain": [
              "'cherry'"
            ],
            "application/vnd.google.colaboratory.intrinsic+json": {
              "type": "string"
            }
          },
          "metadata": {},
          "execution_count": 58
        }
      ]
    },
    {
      "cell_type": "code",
      "source": [
        "kth_longest_word(['elephant', 'dog', 'cat', 'hippopotamus'], 1)"
      ],
      "metadata": {
        "colab": {
          "base_uri": "https://localhost:8080/",
          "height": 35
        },
        "id": "_FaMcc4l4HUt",
        "outputId": "4f71394a-655d-4068-fd09-2d6b72d4ae37"
      },
      "execution_count": null,
      "outputs": [
        {
          "output_type": "execute_result",
          "data": {
            "text/plain": [
              "'hippopotamus'"
            ],
            "application/vnd.google.colaboratory.intrinsic+json": {
              "type": "string"
            }
          },
          "metadata": {},
          "execution_count": 59
        }
      ]
    },
    {
      "cell_type": "code",
      "source": [
        "kth_longest_word(['a', 'abc', 'abcd', 'ab'], 3)"
      ],
      "metadata": {
        "colab": {
          "base_uri": "https://localhost:8080/",
          "height": 35
        },
        "id": "ufHU6Rlv4Ie6",
        "outputId": "f7d0e246-e77e-4bb7-cf99-b6d90d6959ac"
      },
      "execution_count": null,
      "outputs": [
        {
          "output_type": "execute_result",
          "data": {
            "text/plain": [
              "'ab'"
            ],
            "application/vnd.google.colaboratory.intrinsic+json": {
              "type": "string"
            }
          },
          "metadata": {},
          "execution_count": 60
        }
      ]
    },
    {
      "cell_type": "code",
      "source": [
        "def unflatten(t: tuple, m: int, n: int) -> tuple:\n",
        "    '''Given a flat tuple of length m*n, convert it into a tuple of tuples\n",
        "    with dimensions m x n.\n",
        "\n",
        "    Args:\n",
        "        t (tuple): Flat tuple of length m*n.\n",
        "        m (int): Number of rows in resulting tuple of tuples.\n",
        "        n (int): Number of columns in resulting tuple of tuples.\n",
        "\n",
        "    Returns:\n",
        "        tuple: A tuple of tuples with dimension m x n.\n",
        "\n",
        "    Examples:\n",
        "    >>> unflatten((1, 2, 3, 4, 5, 6), 2, 3)\n",
        "    ((1, 2, 3), (4, 5, 6))\n",
        "    >>> unflatten((1, 2, 3, 4), 2, 2)\n",
        "    ((1, 2), (3, 4))\n",
        "    '''\n",
        "    res = []\n",
        "    for i in range(m):\n",
        "      res.append(t[i*n:i*n+n])\n",
        "    return tuple(res)"
      ],
      "metadata": {
        "id": "xyxAY1ar4MIn"
      },
      "execution_count": null,
      "outputs": []
    },
    {
      "cell_type": "code",
      "source": [
        "unflatten()"
      ],
      "metadata": {
        "id": "4nFtDgxX4MFJ"
      },
      "execution_count": null,
      "outputs": []
    },
    {
      "cell_type": "code",
      "source": [
        "unflatten((1, 2, 3, 4, 5, 6), 2, 3)"
      ],
      "metadata": {
        "colab": {
          "base_uri": "https://localhost:8080/"
        },
        "id": "pCNcjq2K4MC2",
        "outputId": "ea52ba4c-f347-4d62-cab3-a88cabb3b831"
      },
      "execution_count": null,
      "outputs": [
        {
          "output_type": "execute_result",
          "data": {
            "text/plain": [
              "((1, 2, 3), (4, 5, 6))"
            ]
          },
          "metadata": {},
          "execution_count": 66
        }
      ]
    },
    {
      "cell_type": "code",
      "source": [
        "unflatten((1, 2, 3, 4), 2, 2)"
      ],
      "metadata": {
        "colab": {
          "base_uri": "https://localhost:8080/"
        },
        "id": "6WlihdtL4MAO",
        "outputId": "c0863e58-3c8f-4289-958e-a5682a5f5516"
      },
      "execution_count": null,
      "outputs": [
        {
          "output_type": "execute_result",
          "data": {
            "text/plain": [
              "((1, 2), (3, 4))"
            ]
          },
          "metadata": {},
          "execution_count": 67
        }
      ]
    },
    {
      "cell_type": "code",
      "source": [
        "def is_heterogram(sentence: str) -> bool:\n",
        "    '''Check if a given sentence is a heterogram or not.\n",
        "\n",
        "    A heterogram is a word, phrase, or sentence in which no letter of the alphabet occurs more than once.\n",
        "\n",
        "    Ignore the multiple occurences of space.\n",
        "\n",
        "    Args:\n",
        "        s (str): The input sentence.\n",
        "\n",
        "    Returns:\n",
        "        bool: True if the sentence is heterogram, False otherwise.\n",
        "\n",
        "    Examples:\n",
        "    >>> is_heterogram('The big dwarf only jumps')\n",
        "    True\n",
        "    >>> is_heterogram('Blue bat')\n",
        "    False\n",
        "    >>> is_heterogram('Hello World')\n",
        "    False\n",
        "    '''\n",
        "\n",
        "\n",
        "    return len(sentence.lower().replace(' ','')) == len(set(sentence.lower().replace(' ','')))\n",
        "    # return len(sentence) == len(set(sentence.replace(' ','')))"
      ],
      "metadata": {
        "id": "sa1FjPIZ5rkE"
      },
      "execution_count": null,
      "outputs": []
    },
    {
      "cell_type": "code",
      "source": [
        "is_heterogram('The big dwarf only jumps')"
      ],
      "metadata": {
        "colab": {
          "base_uri": "https://localhost:8080/"
        },
        "id": "YakbiXr86V8k",
        "outputId": "d54f8f65-169c-4379-e780-f5099a6954da"
      },
      "execution_count": null,
      "outputs": [
        {
          "output_type": "execute_result",
          "data": {
            "text/plain": [
              "True"
            ]
          },
          "metadata": {},
          "execution_count": 97
        }
      ]
    },
    {
      "cell_type": "code",
      "source": [
        "print(len('The big dwarf only jumps'.replace(' ','')))"
      ],
      "metadata": {
        "colab": {
          "base_uri": "https://localhost:8080/"
        },
        "id": "_amSMg3b60pj",
        "outputId": "408c6cf7-b1a2-49e5-b29b-18271148fde0"
      },
      "execution_count": null,
      "outputs": [
        {
          "output_type": "stream",
          "name": "stdout",
          "text": [
            "20\n"
          ]
        }
      ]
    },
    {
      "cell_type": "code",
      "source": [
        "len(set('The big dwarf only jumps'.replace(' ','')))"
      ],
      "metadata": {
        "colab": {
          "base_uri": "https://localhost:8080/"
        },
        "id": "U5FEiBhX7F_p",
        "outputId": "48c7c830-b0d1-4632-b9ba-bb34933430e3"
      },
      "execution_count": null,
      "outputs": [
        {
          "output_type": "execute_result",
          "data": {
            "text/plain": [
              "20"
            ]
          },
          "metadata": {},
          "execution_count": 91
        }
      ]
    },
    {
      "cell_type": "code",
      "source": [
        "is_heterogram('Hello World')"
      ],
      "metadata": {
        "colab": {
          "base_uri": "https://localhost:8080/"
        },
        "id": "5zOCf2Vn6keR",
        "outputId": "b421f26a-584d-416e-9bc7-e0e331fa00ad"
      },
      "execution_count": null,
      "outputs": [
        {
          "output_type": "execute_result",
          "data": {
            "text/plain": [
              "False"
            ]
          },
          "metadata": {},
          "execution_count": 98
        }
      ]
    },
    {
      "cell_type": "code",
      "source": [
        "is_heterogram('Blue bat')"
      ],
      "metadata": {
        "colab": {
          "base_uri": "https://localhost:8080/"
        },
        "id": "Hhv_WehI6ZoA",
        "outputId": "c43cfda5-dbfd-46b1-a6ad-d7635b678f4a"
      },
      "execution_count": null,
      "outputs": [
        {
          "output_type": "execute_result",
          "data": {
            "text/plain": [
              "False"
            ]
          },
          "metadata": {},
          "execution_count": 96
        }
      ]
    },
    {
      "cell_type": "code",
      "source": [
        "def filter_keys_by_value(d: dict, threshold: int) -> None:\n",
        "    '''Filter the dictionary keys where the value is greater than the given threshold.\n",
        "    Modify the dictionary in place, do not return a new dictionary.\n",
        "\n",
        "    Args:\n",
        "        d (dict): The input dictionary.\n",
        "        threshold (int): The threshold value.\n",
        "\n",
        "    Returns:\n",
        "        None\n",
        "\n",
        "    Examples:\n",
        "    >>> d = {'a': 1, 'b': 5, 'c': 3}\n",
        "    >>> filter_keys_by_value(d, 3)\n",
        "    >>> d\n",
        "    {'b': 5}\n",
        "    >>> d = {1: 10, 2: 20, 3: 5, 4: 30}\n",
        "    >>> filter_keys_by_value(d, 15)\n",
        "    >>> d\n",
        "    {2: 20, 4: 30}\n",
        "    '''\n",
        "    for key in list(d.keys()):\n",
        "      if d[key] <= threshold:\n",
        "        del (d[key])\n",
        "    return d"
      ],
      "metadata": {
        "id": "ZD8qzaq07c3i"
      },
      "execution_count": null,
      "outputs": []
    },
    {
      "cell_type": "code",
      "source": [
        "d = {'a': 1, 'b': 5, 'c': 3}\n",
        "\n",
        "print(filter_keys_by_value(d,4))"
      ],
      "metadata": {
        "colab": {
          "base_uri": "https://localhost:8080/"
        },
        "id": "QCUm8ZZS9m1t",
        "outputId": "b730e5d7-c4e3-4166-ce94-43e834ce4f4b"
      },
      "execution_count": null,
      "outputs": [
        {
          "output_type": "stream",
          "name": "stdout",
          "text": [
            "{'b': 5}\n"
          ]
        }
      ]
    },
    {
      "cell_type": "code",
      "source": [],
      "metadata": {
        "id": "jGx_wM4p_PC-"
      },
      "execution_count": null,
      "outputs": []
    },
    {
      "cell_type": "code",
      "source": [
        "def is_ten_digit_even(n):\n",
        "    '''Returns True if the number is a 10 digit even number, False otherwise.\n",
        "    Args:\n",
        "        n (int): The given number.\n",
        "    Returns:\n",
        "        bool : result as True or False.\n",
        "    >>> is_ten_digit_even(8769473839)\n",
        "    False\n",
        "    >>> is_ten_digit_even(9289479278)\n",
        "    True\n",
        "    '''\n",
        "    return len(str((n))) == 10 and n % 2 == 0"
      ],
      "metadata": {
        "id": "C6abd8gGgB-c"
      },
      "execution_count": null,
      "outputs": []
    },
    {
      "cell_type": "code",
      "source": [
        "def find_indices_of_element(l, elem):\n",
        "    '''Find all indices of an element in a list.\n",
        "    Args:\n",
        "        l (list): The input list.\n",
        "        elem: The element to find.\n",
        "    Returns:\n",
        "        list: A list of indices where the element is found.\n",
        "    Examples:\n",
        "    >>> find_indices_of_element([1, 2, 3, 2, 4], 2)\n",
        "    [1, 3]\n",
        "    >>> find_indices_of_element(['a', 'b', 'a', 'c'], 'a')\n",
        "    [0, 2]\n",
        "    '''\n",
        "    indices = []\n",
        "    for i in range(len(l)):\n",
        "        if l[i] == elem:\n",
        "            indices.append(i)\n",
        "    return indices"
      ],
      "metadata": {
        "id": "dx0dKCc8gJsu"
      },
      "execution_count": null,
      "outputs": []
    },
    {
      "cell_type": "code",
      "source": [
        "def swap_adjacent_elements(t):\n",
        "    '''Swap every pair of adjacent elements in the tuple.\n",
        "\n",
        "    Args:\n",
        "        t (tuple): A tuple of even length.\n",
        "\n",
        "    Returns:\n",
        "        tuple: A new tuple with adjacent elements swapped.\n",
        "\n",
        "    Examples:\n",
        "    >>> swap_adjacent_elements((1, 2, 3, 4, 5, 6))\n",
        "    (2, 1, 4, 3, 6, 5)\n",
        "    >>> swap_adjacent_elements(('a', 'b', 'c', 'd'))\n",
        "    ('b', 'a', 'd', 'c')\n",
        "    '''\n",
        "    t = list(t)\n",
        "    t[::2],t[1::2] = t[1::2],t[::2]\n",
        "\n",
        "    return tuple(t)"
      ],
      "metadata": {
        "id": "wnVIYHwKgOTZ"
      },
      "execution_count": null,
      "outputs": []
    },
    {
      "cell_type": "code",
      "source": [
        "def common_chars(word1, word2):\n",
        "    '''Find all the unique common characters present in the given words\n",
        "    and return them as a string in ascending order.\n",
        "\n",
        "    Arg:\n",
        "        word1 (str) : Input string.\n",
        "        word2 (str) : Input string.\n",
        "\n",
        "    Returns:\n",
        "        str: string of unique common charecters arranged in ascending order.\n",
        "\n",
        "    >>> common_chars('apple', 'ball')\n",
        "    'al'\n",
        "    >>> common_chars('abcde', 'edfci')\n",
        "    'cde'\n",
        "    '''\n",
        "    unichr = ''\n",
        "    for char1 in word1:\n",
        "        for char2 in word2:\n",
        "            if char1 == char2 and char2 not in unichr:\n",
        "                unichr = unichr + char1\n",
        "    # if i in range(len(unichr)):\n",
        "    #     if char in unichr[:i]:\n",
        "\n",
        "    return str((unichr))"
      ],
      "metadata": {
        "id": "l3D-INj7gQ_w"
      },
      "execution_count": null,
      "outputs": []
    },
    {
      "cell_type": "code",
      "source": [
        "def count_values_occurrences(d):\n",
        "    '''Count the number of occurrences of each value in the dictionary.\n",
        "\n",
        "    Args:\n",
        "        d (dict): The input dictionary.\n",
        "\n",
        "    Returns:\n",
        "        dict: A dictionary where the keys are the values from the input dictionary,\n",
        "        and the values are their occurrence counts.\n",
        "\n",
        "    Examples:\n",
        "    >>> count_values_occurrences({'a': 1, 'b': 2, 'c': 1})\n",
        "    {1: 2, 2: 1}\n",
        "    >>> count_values_occurrences({1: 'x', 2: 'y', 3: 'x'})\n",
        "    {'x': 2, 'y': 1}\n",
        "    '''\n",
        "    val_count_dict = {}\n",
        "    vals = list(d.values())\n",
        "    for value in vals:\n",
        "        val_count_dict[value] = vals.count(value)\n",
        "\n",
        "    return val_count_dict"
      ],
      "metadata": {
        "id": "fE_ToqmggUEa"
      },
      "execution_count": null,
      "outputs": []
    },
    {
      "cell_type": "code",
      "source": [
        "def abs_diff_between_sum_and_sum_of_squares(a:int, b:int) -> int:\n",
        "    '''\n",
        "    Given two integers, find the absolute difference between\n",
        "    their sum and the sum of their squares.\n",
        "    Eg.\n",
        "    a, b = 2,3\n",
        "    sum is 5\n",
        "    sum of squares is 13\n",
        "    absolute difference is 8\n",
        "\n",
        "    Args:\n",
        "        a - int : The first integer.\n",
        "        b - int : The second integer.\n",
        "\n",
        "    Returns:\n",
        "        int: absolute difference between the sum and the sum of squares\n",
        "    '''\n",
        "    return abs((a+b) - (a**2+b**2))"
      ],
      "metadata": {
        "id": "m8p1q1SWMe9r"
      },
      "execution_count": null,
      "outputs": []
    },
    {
      "cell_type": "code",
      "source": [
        "def subsets_recursive(lst, index=0, curr_subset=None):\n",
        "    if curr_subset is None:\n",
        "        curr_subset = []\n",
        "    if index == len(lst):\n",
        "        print(curr_subset)  # Print or store the subset\n",
        "        return\n",
        "    # Include current element\n",
        "    subsets_recursive(lst, index + 1, curr_subset + [lst[index]])\n",
        "    # Exclude current element\n",
        "    subsets_recursive(lst, index + 1, curr_subset)\n",
        "# Example usage\n",
        "subsets_recursive([1, 2, 3])"
      ],
      "metadata": {
        "id": "0CuTTcKW1SCU"
      },
      "execution_count": null,
      "outputs": []
    },
    {
      "cell_type": "code",
      "execution_count": null,
      "metadata": {
        "id": "ddTuzsnmMaUT"
      },
      "outputs": [],
      "source": [
        "def swap_except_middle_three(s: str) -> str:\n",
        "    '''\n",
        "    Given an odd-length string,\n",
        "    swap the parts before and after the middle three characters,\n",
        "    while keeping the middle three characters in place.\n",
        "\n",
        "    Assume the string has at least 5 characters.\n",
        "\n",
        "    Examples:\n",
        "        \"firstabclast1\" -> \"last1abcfirst\"\n",
        "        \"abcdefghi\" -> \"ghidefabc\"\n",
        "\n",
        "    Args:\n",
        "        s (str): The input string of odd length.\n",
        "\n",
        "    Returns:\n",
        "        str: The modified string with the parts swapped.\n",
        "    '''\n",
        "\n",
        "    mid = len(example)//2\n",
        "    return example[mid+2:] + example[mid-1:mid+2] + example[:mid-1]\n",
        "\n",
        "    # return s[(len(s)//2)+2:]+s[(len(s)//2)-1]+s[len(s)//2]+s[(len(s)//2)+1]+s[:(len(s)//2)-1]\n",
        "\n"
      ]
    },
    {
      "cell_type": "code",
      "source": [
        "swap_except_middle_three(\"firstabclast1\")"
      ],
      "metadata": {
        "colab": {
          "base_uri": "https://localhost:8080/",
          "height": 35
        },
        "id": "7-j4_AcRc_s6",
        "outputId": "612eea64-54fa-4136-d42d-37d79c0ac604"
      },
      "execution_count": null,
      "outputs": [
        {
          "output_type": "execute_result",
          "data": {
            "text/plain": [
              "'last1abcfirst'"
            ],
            "application/vnd.google.colaboratory.intrinsic+json": {
              "type": "string"
            }
          },
          "metadata": {},
          "execution_count": 9
        }
      ]
    },
    {
      "cell_type": "code",
      "source": [
        "example = \"firstabclast1\""
      ],
      "metadata": {
        "id": "SPt2X4vsb_fU"
      },
      "execution_count": null,
      "outputs": []
    },
    {
      "cell_type": "code",
      "source": [
        "mid = len(example)//2"
      ],
      "metadata": {
        "id": "gJ5Hq1yVcDPB"
      },
      "execution_count": null,
      "outputs": []
    },
    {
      "cell_type": "code",
      "source": [
        "example[mid-1:mid+2]"
      ],
      "metadata": {
        "colab": {
          "base_uri": "https://localhost:8080/",
          "height": 35
        },
        "id": "V4Scx_IqcGgP",
        "outputId": "45a6e7cd-1c9b-48c6-de44-c9d0bce4aa64"
      },
      "execution_count": null,
      "outputs": [
        {
          "output_type": "execute_result",
          "data": {
            "text/plain": [
              "'abc'"
            ],
            "application/vnd.google.colaboratory.intrinsic+json": {
              "type": "string"
            }
          },
          "metadata": {},
          "execution_count": 4
        }
      ]
    },
    {
      "cell_type": "code",
      "source": [
        "example[:mid-1]"
      ],
      "metadata": {
        "colab": {
          "base_uri": "https://localhost:8080/",
          "height": 35
        },
        "id": "AcTf-eCWcUdn",
        "outputId": "6485a359-ae95-4c3f-c978-9fecd097a7be"
      },
      "execution_count": null,
      "outputs": [
        {
          "output_type": "execute_result",
          "data": {
            "text/plain": [
              "'first'"
            ],
            "application/vnd.google.colaboratory.intrinsic+json": {
              "type": "string"
            }
          },
          "metadata": {},
          "execution_count": 5
        }
      ]
    },
    {
      "cell_type": "code",
      "source": [
        "example[mid+2:]"
      ],
      "metadata": {
        "colab": {
          "base_uri": "https://localhost:8080/",
          "height": 35
        },
        "id": "mwDr8rRtcavh",
        "outputId": "ef8f0665-133b-41ac-9a15-7ab975f84850"
      },
      "execution_count": null,
      "outputs": [
        {
          "output_type": "execute_result",
          "data": {
            "text/plain": [
              "'last1'"
            ],
            "application/vnd.google.colaboratory.intrinsic+json": {
              "type": "string"
            }
          },
          "metadata": {},
          "execution_count": 6
        }
      ]
    },
    {
      "cell_type": "code",
      "source": [
        "print(example[mid+2:] + example[mid-1:mid+2] + example[:mid-1])"
      ],
      "metadata": {
        "colab": {
          "base_uri": "https://localhost:8080/"
        },
        "id": "O4G65kqiciMU",
        "outputId": "0d30c0cf-8fe9-492a-d879-96edf47d3dd3"
      },
      "execution_count": null,
      "outputs": [
        {
          "output_type": "stream",
          "name": "stdout",
          "text": [
            "last1abcfirst\n"
          ]
        }
      ]
    },
    {
      "cell_type": "code",
      "source": [
        "def interleave_lists(list1, list2, list3):\n",
        "    '''\n",
        "    Given three lists of same length,\n",
        "    interleave them together and return the interleaved list.\n",
        "\n",
        "    Example:\n",
        "        list1 = [1, 2, 3]\n",
        "        list2 = ['a', 'b', 'c']\n",
        "        list3 = [(1,1),(2,2),(3,3)]\n",
        "        output = [1, 'a', (1,1), 2, 'b', (2,2), 3, 'c', (3,3)]\n",
        "\n",
        "    Args:\n",
        "        list1 (list): The first list.\n",
        "        list2 (list): The second list.\n",
        "        list3 (list): The third list.\n",
        "\n",
        "    Returns:\n",
        "        list: A list containing interleaved elements from all three lists.\n",
        "    '''\n",
        "    # l = []\n",
        "    # for i in range(len(list1)):\n",
        "    #   l.append(list1[i]);l.append(list2[i]);l.append(list3[i])\n",
        "    # return l\n",
        "\n",
        "    return [item for sublist in zip(list1, list2, list3) for item in sublist]\n"
      ],
      "metadata": {
        "id": "mV0FJVv7Ms69"
      },
      "execution_count": null,
      "outputs": []
    },
    {
      "cell_type": "code",
      "source": [
        "list1 = [1, 2, 3]\n",
        "list2 = ['a', 'b', 'c']\n",
        "list3 = [(1,1),(2,2),(3,3)]\n",
        "interleave_lists(list1, list2, list3)"
      ],
      "metadata": {
        "colab": {
          "base_uri": "https://localhost:8080/"
        },
        "id": "nelbRaFJhn9j",
        "outputId": "3cb25d08-e472-4926-975b-d2535ae42549"
      },
      "execution_count": null,
      "outputs": [
        {
          "output_type": "execute_result",
          "data": {
            "text/plain": [
              "[1, 'a', (1, 1), 2, 'b', (2, 2), 3, 'c', (3, 3)]"
            ]
          },
          "metadata": {},
          "execution_count": 17
        }
      ]
    },
    {
      "cell_type": "code",
      "source": [
        "def has_more_than_5_unique_digits(num: int) -> bool:\n",
        "    '''\n",
        "    Determine if a given integer has more than 5 unique digits.\n",
        "\n",
        "    Args:\n",
        "        num (int): The input integer.\n",
        "\n",
        "    Returns:\n",
        "        bool: True if the integer has more than 5 unique digits, otherwise False.\n",
        "    '''\n",
        "    num = str(num)\n",
        "    numlist = [digit for digit in num]\n",
        "    return len(set(numlist))>5"
      ],
      "metadata": {
        "id": "3djshiPoMvjO"
      },
      "execution_count": null,
      "outputs": []
    },
    {
      "cell_type": "code",
      "source": [
        "def final_position(pos: tuple, vel: tuple, time:int) -> tuple:\n",
        "    '''\n",
        "    Given an initial position of a point moving in a cartesian plane with a constant velocity,\n",
        "    find the the final position of the point after a given time.\n",
        "\n",
        "    Hint: final position = intial position + velocity * time\n",
        "\n",
        "    Args:\n",
        "        pos - tuple[int]: A tuple representing the position vector (x1, y1).\n",
        "        vel - tuple[int]: A tuple representing the velocity vector (vx, vy).\n",
        "        time - int: time of movement.\n",
        "\n",
        "    Returns:\n",
        "        tuple[int]: A tuple representing the displacement (dx, dy).\n",
        "    '''\n",
        "    x=pos[0]+vel[0]*time\n",
        "    y=pos[1]+vel[1]*time\n",
        "    return (x,y)"
      ],
      "metadata": {
        "id": "eYbG3kvIMx7P"
      },
      "execution_count": null,
      "outputs": []
    },
    {
      "cell_type": "code",
      "source": [
        "def remove_keys_not_in_list(d: dict, l: list) -> None:\n",
        "    '''\n",
        "    Remove keys from a dictionary that are not present in a given list.\n",
        "    The function modifies the dictionary in place and does not return anything.\n",
        "\n",
        "    Note:\n",
        "        Modifying a dict while iterating over it will give an error in python.\n",
        "        So, make a copy of the dict keys and then iterate over it.\n",
        "\n",
        "    Args:\n",
        "        d (dict): The dictionary to modify.\n",
        "        l (list): The list of keys to keep in the dictionary.\n",
        "\n",
        "    Returns:\n",
        "        None\n",
        "    '''\n",
        "    for key in list(d.keys()):\n",
        "        if key not in l:\n",
        "            del d[key]\n"
      ],
      "metadata": {
        "id": "kNinZg5UMp8x"
      },
      "execution_count": null,
      "outputs": []
    },
    {
      "cell_type": "code",
      "source": [
        "d = {1:'a',2:'b',3:'c',4:'d',5:'e'}\n",
        "l = [7,6,5,4,3]\n",
        "remove_keys_not_in_list(d, l)"
      ],
      "metadata": {
        "id": "Q-dLBGcqlbED"
      },
      "execution_count": null,
      "outputs": []
    },
    {
      "cell_type": "code",
      "source": [
        "print(d)"
      ],
      "metadata": {
        "colab": {
          "base_uri": "https://localhost:8080/"
        },
        "id": "BLDacv_Oln5B",
        "outputId": "55b557df-3ad8-4780-b5af-4f5c82931717"
      },
      "execution_count": null,
      "outputs": [
        {
          "output_type": "stream",
          "name": "stdout",
          "text": [
            "{3: 'c', 4: 'd', 5: 'e'}\n"
          ]
        }
      ]
    },
    {
      "cell_type": "code",
      "source": [
        "d = {1:'a',2:'b',3:'c',4:'d',5:'e'}\n",
        "l = [7,6,5,4,3]\n",
        "\n",
        "for elem in l:\n",
        "    if elem not in d.keys():\n",
        "        del d[elem]\n"
      ],
      "metadata": {
        "id": "EVjC53N2nUQ2"
      },
      "execution_count": null,
      "outputs": []
    },
    {
      "cell_type": "markdown",
      "source": [
        "# Section 2\n"
      ],
      "metadata": {
        "id": "_IWW3kS4ftMt"
      }
    },
    {
      "cell_type": "code",
      "source": [
        "#@title Problem 2 - Data Processing [20 Marks]"
      ],
      "metadata": {
        "id": "1qHc-4SOhGGK"
      },
      "execution_count": null,
      "outputs": []
    },
    {
      "cell_type": "markdown",
      "source": [
        "Given an integer, generate a string with its digits as words separated by hyphens."
      ],
      "metadata": {
        "id": "z3mirAozksqP"
      }
    },
    {
      "cell_type": "code",
      "source": [
        "def num_to_word(num: int) -> str:\n",
        "    '''\n",
        "    Given an integer, generate a string with its digits as words separated by hyphens.\n",
        "\n",
        "    Arguments:\n",
        "    num: int - the input number\n",
        "\n",
        "    Return:\n",
        "    str - the string with digits as words separated by hyphens\n",
        "    '''\n",
        "    numword = {0:'zero', 1:'one', 2:'two', 3:'three', 4:'four', 5:'five', 6:'six', 7:'seven', 8:'eight', 9:'nine'}\n",
        "    snum = str(num)\n",
        "    num_to_wordstr = ''\n",
        "    for i in range(len(str(num))):\n",
        "        num_to_wordstr = num_to_wordstr + '-' + numword[int(snum[i])]\n",
        "    num_to_wordstr = num_to_wordstr[1:]\n",
        "    return num_to_wordstr"
      ],
      "metadata": {
        "id": "oWFN5mEiktSd"
      },
      "execution_count": null,
      "outputs": []
    },
    {
      "cell_type": "markdown",
      "source": [
        "A happy number is a number defined by the following process:\n",
        "\n",
        "Starting with any positive integer, replace the number by the sum of square of its digits.\n",
        "Repeat the process until the number equals 1(where it will stay), or it loops endlessly in a cycle that doesn't include 1.\n",
        "Those numbers for which the process ends in 1 are happy.\n",
        "Example1:\n",
        "\n",
        "19 is a happy number.\n",
        "\n",
        "Explanation:\n",
        "\n",
        "$1^{2} + 9^{2} = 82$\n",
        "\n",
        "$8^{2} + 2^{2} = 68$\n",
        "\n",
        "$6^{2} + 8^{2} = 100$\n",
        "\n",
        "$1^{2} + 0^{2} + 0^{2} = 1$\n",
        "\n",
        "Example2:\n",
        "\n",
        "4 is not a happy number.\n",
        "\n",
        "The cycle for 4 is as follows:\n",
        "\n",
        "$4 \\rightarrow 16 \\rightarrow 37 \\rightarrow 58 \\rightarrow 89 \\rightarrow 145 \\rightarrow 42 \\rightarrow 20 \\rightarrow 4$ (and repeats)\n",
        "Define a function n_happy_numbers that accepts a list of positive integers and returns the count of happy numbers in the given list."
      ],
      "metadata": {
        "id": "wpvHqo1a_idY"
      }
    },
    {
      "cell_type": "code",
      "source": [
        "is_equal(sort_tuples_by_second_then_third([(4,-5,4),(-9,5,4),(-6,2,1),(0,-2,-1),(5,5,4),(5,2,-1)]), [(4, -5, 4), (0, -2, -1), (5, 2, -1), (-6, 2, 1), (-9, 5, 4), (5, 5, 4)])\n"
      ],
      "metadata": {
        "id": "xoME6WdxN8PR"
      },
      "execution_count": null,
      "outputs": []
    },
    {
      "cell_type": "code",
      "source": [
        "def sort_tuples_by_second_then_third(input_list):\n",
        "    \"\"\"\n",
        "    Args:\n",
        "        input_list (list): The list of tuples to sort.\n",
        "    Returns:\n",
        "        list: The sorted list of tuples.\n",
        "    \"\"\"\n",
        "    return sorted(input_list,key = lambda tup: (tup[1],tup[2]))\n"
      ],
      "metadata": {
        "id": "UWwpaaQcNzuV"
      },
      "execution_count": null,
      "outputs": []
    },
    {
      "cell_type": "code",
      "source": [
        "sort_tuples_by_second_then_third([(4,-5,4),(-9,5,4),(-6,2,1),(0,-2,-1),(5,5,4),(5,2,-1)])"
      ],
      "metadata": {
        "colab": {
          "base_uri": "https://localhost:8080/"
        },
        "id": "eXb-0juhOWXt",
        "outputId": "583506d2-6d5c-4ceb-e05a-ccb27a891e00"
      },
      "execution_count": null,
      "outputs": [
        {
          "output_type": "execute_result",
          "data": {
            "text/plain": [
              "[(4, -5, 4), (0, -2, -1), (5, 2, -1), (-6, 2, 1), (-9, 5, 4), (5, 5, 4)]"
            ]
          },
          "metadata": {},
          "execution_count": 370
        }
      ]
    },
    {
      "cell_type": "code",
      "source": [
        "def unique_even_odd_count(numbers: list) -> dict:\n",
        "  '''\n",
        "  Given a list of integers, return a dictionary with the count of unique even and odd numbers.\n",
        "  Args:\n",
        "  \tnumbers: list[int]\n",
        "  Return:\n",
        "  \tdict: dictionary with counts of unique even and odd numbers.\n",
        "  Example:\n",
        "  >>> unique_even_odd_count([1, 1, 2, 4, 3, 3, 3, 5, 6])\n",
        "  {'even': 3, 'odd': 3}\n",
        "  >>> unique_even_odd_count([0, 1, 2])\n",
        "  {'even': 2, 'odd': 1}\n",
        "  '''\n",
        "  even_odds = dict()\n",
        "  uniqnums = set(numbers)\n",
        "  # even_odds = {'even':0,'odd':0}\n",
        "  evens = list(filter(lambda x:x % 2 == 0,uniqnums))\n",
        "  odds = list(filter(lambda x:x % 2 != 0,uniqnums))\n",
        "  if len(evens) == 0:\n",
        "        even_odds = {'odd':len(odds)}\n",
        "  elif len(odds) == 0:\n",
        "        even_odds = {'even':len(evens)}\n",
        "  else:\n",
        "    even_odds['odd'] = len(odds)\n",
        "    even_odds['even'] = len(evens)\n",
        "  # for num in uniqnums:\n",
        "  #   if num % 2 == 0:\n",
        "  #       even_odds['even'] += 1\n",
        "  #   else:\n",
        "  #       even_odds['odd'] += 1\n",
        "  return even_odds"
      ],
      "metadata": {
        "id": "Ke-Z5PjSOjUM"
      },
      "execution_count": null,
      "outputs": []
    },
    {
      "cell_type": "code",
      "source": [
        "def count_pairs_with_difference(L: list, target: int) -> int:\n",
        "  '''\n",
        "  Given a list of integers and a target difference, count the number of integers in the list that have the exact target       difference.\n",
        "\n",
        "  Args:\n",
        "  \tL: list[int] - list of integers.\n",
        "    target: int  - target difference for pairs.\n",
        "\n",
        "  Return:\n",
        "  \tint - number of pairs with the target difference.\n",
        "  '''\n",
        "  l = list(set(L))\n",
        "  pairs_count= 0\n",
        "  for i in range(len(l)):\n",
        "      for elem in l[i+1:]:\n",
        "          if abs(l[i]-elem) == target:\n",
        "            pairs_count += 1\n",
        "  return pairs_count"
      ],
      "metadata": {
        "id": "XVFq9KIPaYcz"
      },
      "execution_count": null,
      "outputs": []
    },
    {
      "cell_type": "code",
      "source": [
        "\n",
        "#Sorting a matrix column wise\n",
        "\n",
        "n = int(input())\n",
        "cols = []\n",
        "rows = []\n",
        "for i in range(n):\n",
        "    elems = input()\n",
        "    row = list(map(int,elems.split(',')))\n",
        "    rows.append(row)\n",
        "for i in range(len(rows[0])):\n",
        "    cols.append(list(map(lambda row :row[i],rows)))\n",
        "\n",
        "# print(cols)\n",
        "sorted_cols = []\n",
        "for col in cols:\n",
        "    sorted_cols.append(sorted(col))\n",
        "res = []\n",
        "for i in range(len(rows[0])):\n",
        "    res.append(list(map(lambda row :row[i],sorted_cols)))\n",
        "\n",
        "print(res)\n"
      ],
      "metadata": {
        "id": "UrWTz5ao-TYd"
      },
      "execution_count": null,
      "outputs": []
    },
    {
      "cell_type": "code",
      "source": [
        "def discount_percent(original_price, discounted_price):\n",
        "  '''Find the discount percentage given the original price and the discounted price.\n",
        "\n",
        "  Args:\n",
        "  original_price (int): The original price.\n",
        "  discounted_price (int): The price after applying discount.\n",
        "\n",
        "  Returns:\n",
        "  float: The discount percentage.\n",
        "\n",
        "  Examples:\n",
        "  >>> discount_percent(100, 80)\n",
        "  20.0\n",
        "  >>> discount_percent(200, 150)\n",
        "  25.0\n",
        "  '''\n",
        "  return ((original_price - discounted_price)/(original_price))*100\n",
        "\n",
        "\n",
        "discount_percent(100, 80)"
      ],
      "metadata": {
        "id": "Tx9N5GHi-TQY"
      },
      "execution_count": null,
      "outputs": []
    },
    {
      "cell_type": "code",
      "source": [
        "\n",
        "def remove_duplicates(word):\n",
        "  '''Remove duplicate characters from the input string.\n",
        "  Args:\n",
        "  word (str): The input string.\n",
        "\n",
        "  Returns:\n",
        "  str: The string with duplicates removed.\n",
        "\n",
        "  Examples:\n",
        "  >>> remove_duplicates('hello')\n",
        "  'helo'\n",
        "  >>> remove_duplicates('programming')\n",
        "  'programin'\n",
        "  '''\n",
        "  chars = list(word)\n",
        "  res = ''\n",
        "  for i in range(len(chars)):\n",
        "      if chars[i] not in chars[:i]:\n",
        "          res += chars[i]\n",
        "  return res\n"
      ],
      "metadata": {
        "id": "5O-Oophf-TMS"
      },
      "execution_count": null,
      "outputs": []
    },
    {
      "cell_type": "code",
      "source": [
        "\n",
        "  return sum(list(map(lambda x:int(x)**2,str(num))))"
      ],
      "metadata": {
        "id": "RKs24Rtj_hef"
      },
      "execution_count": null,
      "outputs": []
    },
    {
      "cell_type": "code",
      "source": [
        "def is_happy_number(n: int) -> bool:\n",
        "    seen = set()\n",
        "\n",
        "    while n != 1 and n not in seen:\n",
        "        seen.add(n)\n",
        "        n = sum([int(i)**2 for i in str(n)])\n",
        "\n",
        "    return n == 1"
      ],
      "metadata": {
        "id": "n41h8OP5CHLF"
      },
      "execution_count": null,
      "outputs": []
    },
    {
      "cell_type": "code",
      "source": [
        "# happy_number(19)"
      ],
      "metadata": {
        "colab": {
          "base_uri": "https://localhost:8080/"
        },
        "id": "8Vw0t0yrCnoc",
        "outputId": "8f1434e0-c339-48c9-ea80-9d8b0ae5ba46"
      },
      "execution_count": null,
      "outputs": [
        {
          "output_type": "execute_result",
          "data": {
            "text/plain": [
              "10"
            ]
          },
          "metadata": {},
          "execution_count": 58
        }
      ]
    },
    {
      "cell_type": "code",
      "source": [
        "# 5\n",
        "# 11 45\n",
        "# 12 47\n",
        "# 13 78\n",
        "# 14 69\n",
        "# 15 50"
      ],
      "metadata": {
        "id": "MJ16c6SjRclP"
      },
      "execution_count": null,
      "outputs": []
    },
    {
      "cell_type": "code",
      "source": [
        "n = int(input())\n",
        "for i in range(n):\n",
        "    roll, marks = map(int, input().split())\n",
        "    if marks % 10 in [8, 9]:\n",
        "        marks = (marks // 10 + 1) * 10\n",
        "        print(roll, marks)"
      ],
      "metadata": {
        "colab": {
          "base_uri": "https://localhost:8080/"
        },
        "id": "ledZnFvJRSOt",
        "outputId": "a0590115-a387-4b2b-fd9a-43adfa366d96"
      },
      "execution_count": null,
      "outputs": [
        {
          "output_type": "stream",
          "name": "stdout",
          "text": [
            "3\n",
            "11 55\n",
            "12 35\n",
            "13 69\n",
            "13 70\n"
          ]
        }
      ]
    },
    {
      "cell_type": "code",
      "source": [
        "def n_happy_numbers(numbers: list) -> int:\n",
        "    '''Find the number of happy numbers in the given list numbers.\n",
        "    Args:\n",
        "        numbers (list[int]): Given list of positive integers.\n",
        "    Returns:\n",
        "        int: Count of happy numbers in the given list.\n",
        "    '''\n",
        "    count = 0\n",
        "    for number in numbers:\n",
        "      if is_happy_number(number):\n",
        "        count += 1\n",
        "    return count"
      ],
      "metadata": {
        "id": "fQ0puWoyNw90"
      },
      "execution_count": null,
      "outputs": []
    },
    {
      "cell_type": "code",
      "source": [
        "nums = [1, 65, 28, 23, 60, 31]\n",
        "n_happy_numbers(nums)"
      ],
      "metadata": {
        "colab": {
          "base_uri": "https://localhost:8080/"
        },
        "id": "2c3tO2gZLEV2",
        "outputId": "c4578c50-8cd2-4ca5-f5a8-cd79cb1907d5"
      },
      "execution_count": null,
      "outputs": [
        {
          "output_type": "execute_result",
          "data": {
            "text/plain": [
              "4"
            ]
          },
          "metadata": {},
          "execution_count": 90
        }
      ]
    },
    {
      "cell_type": "code",
      "source": [
        "digitsumsquared(214)"
      ],
      "metadata": {
        "colab": {
          "base_uri": "https://localhost:8080/"
        },
        "id": "31bbWNiIBQeq",
        "outputId": "e7d3c49b-b68f-45d5-cf37-652b46af66f9"
      },
      "execution_count": null,
      "outputs": [
        {
          "output_type": "execute_result",
          "data": {
            "text/plain": [
              "21"
            ]
          },
          "metadata": {},
          "execution_count": 30
        }
      ]
    },
    {
      "cell_type": "markdown",
      "source": [
        "Given a string and a list of valid words, check if the string can be split into two substrings such that both substrings are valid words in the given list.\n",
        "\n",
        "Example: Consider the following list:\n",
        "\n",
        "l = [\"hello\", \"world\", \"good\", \"bye\"]\n",
        "helloworld can be split into hello and world and both are valid words. So, the output is True. hellogoodbye can't be split into two valid words. So, the output is False."
      ],
      "metadata": {
        "id": "fgxpcO4jeTV8"
      }
    },
    {
      "cell_type": "code",
      "source": [
        "def valid_substring(s: str, word_list: list) -> bool:\n",
        "    '''\n",
        "    Arguments:\n",
        "    s: str - the string to be checked\n",
        "    word_list: list - a list of valid words\n",
        "    Return:\n",
        "    bool - True if the string can be split into two valid words, False otherwise\n",
        "    '''\n",
        "\n",
        "    for i in range(len(s)):\n",
        "        if s[:i] in word_list and s[i:] in word_list:\n",
        "            return True\n",
        "    return False\n",
        "\n",
        "valid_substring('pineapple', ['apple', 'banana', 'mango'])"
      ],
      "metadata": {
        "colab": {
          "base_uri": "https://localhost:8080/"
        },
        "id": "pHapGfK2eROs",
        "outputId": "65383b2e-2936-4387-a514-bd9cf99790c3"
      },
      "execution_count": null,
      "outputs": [
        {
          "output_type": "execute_result",
          "data": {
            "text/plain": [
              "False"
            ]
          },
          "metadata": {},
          "execution_count": 178
        }
      ]
    },
    {
      "cell_type": "code",
      "source": [
        "def courses_sorted_by_enrollment(student_courses: dict) -> list:\n",
        "    '''\n",
        "    Given a dictionary of student roll numbers\n",
        "    with the list of courses they chose,\n",
        "    find the courses sorted from the\n",
        "    most number of enrollments to the least.\n",
        "\n",
        "    Assume no courses will have the same number of students enrolled.\n",
        "\n",
        "    Arguments:\n",
        "    student_courses: dict - a dictionary where keys are\n",
        "        student roll numbers and values are lists of courses they chose\n",
        "\n",
        "    Return:\n",
        "    list - a list of courses sorted by the\n",
        "        number of students enrolled in descending order\n",
        "    '''\n",
        "    d = {}\n",
        "    for roll in student_courses:\n",
        "        for course in student_courses[roll]:\n",
        "            if course in d:\n",
        "                d[course] += 1\n",
        "            else:\n",
        "                d[course] = 1\n",
        "\n",
        "    return sorted(d.keys(), key = d.get , reverse = True)"
      ],
      "metadata": {
        "id": "8uBSIlgYkvgV"
      },
      "execution_count": null,
      "outputs": []
    },
    {
      "cell_type": "markdown",
      "source": [
        "![image.png](data:image/png;base64,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)"
      ],
      "metadata": {
        "id": "d0_wVktqjDQA"
      }
    },
    {
      "cell_type": "code",
      "source": [
        "def row_index_with_most_number_of_zeros(matrix:list)->int:\n",
        "    '''\n",
        "    Given a matrix, find the index of the row with the\n",
        "    maximum number of zeros in it.\n",
        "\n",
        "    Arguments: matrix: list[list]\n",
        "    Rertun: int - index of the row with the maximum number of zeros.\n",
        "    '''\n",
        "    maxrow = None\n",
        "    maxcount = 0\n",
        "    for row in matrix:\n",
        "        if row.count(0) > maxcount:\n",
        "            maxrow = row\n",
        "            maxcount = row.count(0)\n",
        "\n",
        "    return matrix.index(maxrow)"
      ],
      "metadata": {
        "id": "ft25MnwdjCTd"
      },
      "execution_count": null,
      "outputs": []
    },
    {
      "cell_type": "markdown",
      "source": [
        "Given a list of dictionaries with batsman names, runs, and team names, find the top k teams in terms of total runs."
      ],
      "metadata": {
        "id": "UtO2EYcWjWH7"
      }
    },
    {
      "cell_type": "code",
      "source": [
        "def top_k_teams(batsmen: list, k: int) -> list:\n",
        "    '''\n",
        "    Given a list of dictionaries with batsman names, runs, and team names,\n",
        "    Create a list with the top k teams in terms of total runs\n",
        "    starting from the highest to the lowest runs.\n",
        "\n",
        "    Assume no two teams have the same number of runs.\n",
        "\n",
        "    Arguments:\n",
        "    batsmen: list of dict - list containing dictionaries with keys 'name', 'runs', and 'team'\n",
        "    k: int - number of top teams to return\n",
        "\n",
        "    Return:\n",
        "    list - top k teams in terms of total runs\n",
        "    '''\n",
        "    # runslist = []\n",
        "    # for i in range(len(batsmen)):\n",
        "    #     runslist.append(batsmen[i]['runs'])\n",
        "    # srunlist = sorted(runslist)\n",
        "    # srunlist = srunlist[::-1]\n",
        "    # srunlist = srunlist[:k]\n",
        "    # res = []\n",
        "    # for i in range(len(srunlist)):\n",
        "    #     for  j in range(len(batsmen)):\n",
        "    #         if batsmen[j]['runs'] == srunlist[i]:\n",
        "    #             res.append(batsmen[j]['team'])\n",
        "    # return res\n",
        "    runs = {}\n",
        "    for batsman in batsmen:\n",
        "        if batsman['team'] in runs.keys():\n",
        "            runs[batsman['team']] += batsman['runs']\n",
        "        else:\n",
        "            runs[batsman['team']] = batsman['runs']\n",
        "    runs = runs.items()\n",
        "    runs = sorted(runs, key = lambda x: x[1], reverse = True)\n",
        "    return [team[0] for team in runs[:k]]"
      ],
      "metadata": {
        "id": "KJjSFnr9jHLw"
      },
      "execution_count": null,
      "outputs": []
    },
    {
      "cell_type": "markdown",
      "source": [
        "Assume all words are lowercase.\n",
        "\n",
        "A sub-sequence is a subset of consecutive words in this sequence.\n",
        "\n",
        "A sub-sequence is said to have the antakshari property if the last letter of every word is equal to the first letter in the next word in the sequence.\n",
        "\n",
        "Input Format\n",
        "\n",
        "The first line contains an integer n denoting the number of sequences.\n",
        "The following n lines each contain a sequence of comma-separated words.\n",
        "Output Format For each sequence, output the length of the largest sub-sequence that follows the antakshari property over multiple lines.\n",
        "\n",
        "Example\n",
        "\n",
        "Input:\n",
        "\n",
        "2\n",
        "one,two,order,real,long,tight,tree,cool,lot,trouble\n",
        "ant,tree,ear,rat,tower,retail\n",
        "Output:\n",
        "\n",
        "4\n",
        "6\n",
        "Explanation\n",
        "\n",
        "For the first sequence one,two,order,real,long,tight,tree,cool,lot,trouble, the longest sub-sequence with the antakshari property is two,order,real,long, which has a length of 4.\n",
        "\n",
        "For the second sequence ant,tree,ear,rat,tower,retail, the longest sub-sequence with the antakshari property is ant,tree,ear,rat,tower,retail, which has a length of 6."
      ],
      "metadata": {
        "id": "CYAJrzDSjl-g"
      }
    },
    {
      "cell_type": "code",
      "source": [
        "# @title\n",
        "\n",
        "\n",
        "n = int(input())\n",
        "for i in range(n):\n",
        "    seq = input().split(',')\n",
        "    max_sub_words = 0;count = 1\n",
        "    for j in range(1,len(seq)):\n",
        "        if seq[j-1][-1] == seq[j][0]:\n",
        "            count += 1\n",
        "        else:\n",
        "            count = 1\n",
        "        if count > max_sub_words:\n",
        "            max_sub_words = count\n",
        "    print(max_sub_words)\n"
      ],
      "metadata": {
        "id": "soPzP2eCjaC0"
      },
      "execution_count": null,
      "outputs": []
    },
    {
      "cell_type": "markdown",
      "source": [
        "Given a list of strings, check if all strings follow the format where the same word is repeated exactly twice with a hyphen in-between them. The word repeated should not be empty.\n",
        "\n",
        "Examples of correct format:\n",
        "\n",
        "\"fast-fast\" - correct\n",
        "\"go-go\" - correct\n",
        "\"yeah-yeah\" - correct\n",
        "Examples of incorrect format:\n",
        "\n",
        "\"fast-slow\" - incorrect (different words)\n",
        "\"fast-fast-fast\" - incorrect (word repeated more than twice)\n",
        "\"fastfast\" - incorrect (no hyphen)\n",
        "\"asfdadf\" - incorrect (no hyphen, word not repeated)\n",
        "\"-\" incorrect (empty word)"
      ],
      "metadata": {
        "id": "nTMgf30AM-fD"
      }
    },
    {
      "cell_type": "code",
      "source": [
        "# @title\n",
        "def longest_common_prefix(sentence: str) -> str:\n",
        "    '''Find the longest common prefix among the given words of the sentence.\n",
        "\n",
        "    Args:\n",
        "        sentence (str): A string of space sepearated words.\n",
        "    Returns:\n",
        "        str: longest prefix.\n",
        "    '''\n",
        "    res = ''\n",
        "    words = sentence.split(' ')\n",
        "    if not words:\n",
        "        return ''\n",
        "\n",
        "    prefix = words[0]\n",
        "    for word in words[1:]:\n",
        "        while not word.startswith(prefix):\n",
        "            prefix = prefix[:-1]\n",
        "\n",
        "    if prefix == '':\n",
        "        return ''\n",
        "    return prefix"
      ],
      "metadata": {
        "id": "GRdn4LLvhlKp"
      },
      "execution_count": null,
      "outputs": []
    },
    {
      "cell_type": "code",
      "source": [
        "def is_all_same_word_twice(strings: list) -> bool:\n",
        "    '''\n",
        "    Checks if all strings follow the format where\n",
        "    the same word is repeated exactly twice with a hyphen in-between them.\n",
        "\n",
        "    Args:\n",
        "        strings (list): A list of strings to be checked.\n",
        "\n",
        "    Returns:\n",
        "        bool: True if all strings are of the given format, otherwise False.\n",
        "    '''\n",
        "    for string in strings:\n",
        "        mid = string.index(\"-\")\n",
        "        flag = string[:mid] == string[mid+1:]\n",
        "        if not flag:\n",
        "            break\n",
        "    return flag\n",
        "is_all_same_word_twice([\"fast-fast\",\"go-go\",\"yeah-yeah\"])"
      ],
      "metadata": {
        "colab": {
          "base_uri": "https://localhost:8080/"
        },
        "id": "YWpGIKN9M4H2",
        "outputId": "ced1d2b2-45ce-4aa4-8e3a-dd50eb8c8559"
      },
      "execution_count": null,
      "outputs": [
        {
          "output_type": "execute_result",
          "data": {
            "text/plain": [
              "True"
            ]
          },
          "metadata": {},
          "execution_count": 22
        }
      ]
    },
    {
      "cell_type": "markdown",
      "source": [
        "Given a multi-line passage where the words are separated by spaces, find the letter which occurs most frequently as the first letter of any word. Consider both uppercase and lowercase letters as the same and return the letter in lowercase.\n",
        "\n",
        "Assume there will be only one letter that occurs the most number of times as the first letter of a word.\n",
        "\n",
        "Example:\n",
        "\n",
        "passage = '''\n",
        "word1 Word2 word3 word4 text1 text2\n",
        "\n",
        "text3 Text4 word5 text5 word6\n",
        "\n",
        "python1 python2 Python3\n",
        "'''\n",
        "\n",
        "The function will return \"w\" because \"w\" is the most frequently occurring first letter."
      ],
      "metadata": {
        "id": "1htBKnjQNJwe"
      }
    },
    {
      "cell_type": "code",
      "source": [
        "def most_occuring_first_letter(passage: str) -> str:\n",
        "    '''\n",
        "    Returns the letter which occurs most frequently\n",
        "    as the first letter of any word.(case insensitive)\n",
        "\n",
        "    Args:\n",
        "        passage (str): A multi-line string representing the passage.\n",
        "\n",
        "    Returns:\n",
        "        str: The most frequently occurring first letter in lowercase.\n",
        "    '''\n",
        "    letters = {}\n",
        "    for line in passage.split('\\n'):\n",
        "        for word in line.split():\n",
        "            if word:\n",
        "              pass\n"
      ],
      "metadata": {
        "id": "RYtb_p7WNFkN"
      },
      "execution_count": null,
      "outputs": []
    },
    {
      "cell_type": "markdown",
      "source": [
        "![image.png](data:image/png;base64,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)"
      ],
      "metadata": {
        "id": "F43qZHAfh0Sl"
      }
    },
    {
      "cell_type": "code",
      "source": [
        "# @title\n",
        "def get_leaderboard(matches:list)->list:\n",
        "    '''Given a list of dictionaries, generate a leaderboard based on points and goal scored.\n",
        "    The output should be a list of tuples starting from the top team to bottom one.\n",
        "    Args:\n",
        "        matches : list[dict]\n",
        "    Returns:\n",
        "        list of tuples - where each entry should be in format: (TeamName, Points, GoalScored)\n",
        "                         sorted from top team to bottom.\n",
        "    '''\n",
        "    team_data = {}\n",
        "    #key of team_data would be team name.\n",
        "    #value of key would be a dict with scores and goals of the team.\n",
        "    for match in matches:\n",
        "        # focusing on the current match\n",
        "        teams = match['team1'], match['team2']\n",
        "        goals = match[\"goals1\"],match[\"goals2\"]\n",
        "        for team in teams:\n",
        "            # Creating a key for given team.\n",
        "            if team not in team_data:\n",
        "                team_data[team] = {\"score\":0,\"goals\":0}\n",
        "        # Updating the scores.\n",
        "        if goals[0]>goals[1]:\n",
        "            team_data[teams[0]][\"score\"] += 2\n",
        "        elif goals[0]<goals[1]:\n",
        "            team_data[teams[1]][\"score\"] += 2\n",
        "        else:\n",
        "            team_data[teams[0]][\"score\"] += 1\n",
        "            team_data[teams[1]][\"score\"] += 1\n",
        "        # Updating the goal counts.\n",
        "        for team,goal in zip(teams,goals):\n",
        "          team_data[team][\"goals\"] += goal\n",
        "    return sorted(\n",
        "        [\n",
        "          (team, team_data[team][\"score\"], team_data[team][\"goals\"])\n",
        "          for team in team_data\n",
        "        ],\n",
        "        key = lambda x: (x[1], x[2]),\n",
        "        reverse = True\n",
        "    )\n",
        "\n",
        "get_leaderboard(matches)"
      ],
      "metadata": {
        "id": "WRKSqHsahy_t",
        "colab": {
          "base_uri": "https://localhost:8080/"
        },
        "outputId": "8ce3e554-d529-4d59-8efc-ac1516c04b9e"
      },
      "execution_count": null,
      "outputs": [
        {
          "output_type": "execute_result",
          "data": {
            "text/plain": [
              "[('Brazil', 6, 6), ('France', 5, 4), ('Argentina', 3, 4), ('Germany', 0, 3)]"
            ]
          },
          "metadata": {},
          "execution_count": 5
        }
      ]
    },
    {
      "cell_type": "code",
      "source": [
        "matches = [\n",
        "    {\"team1\": \"Brazil\", \"team2\": \"Argentina\", \"goals1\": 2, \"goals2\": 1},\n",
        "    {\"team1\": \"Germany\", \"team2\": \"France\", \"goals1\": 1, \"goals2\": 2},\n",
        "    {\"team1\": \"Brazil\", \"team2\": \"Germany\", \"goals1\": 3, \"goals2\": 2},\n",
        "    {\"team1\": \"Argentina\", \"team2\": \"France\", \"goals1\": 1, \"goals2\": 1},\n",
        "    {\"team1\": \"Brazil\", \"team2\": \"France\", \"goals1\": 1, \"goals2\": 0},\n",
        "    {\"team1\": \"Argentina\", \"team2\": \"Germany\", \"goals1\": 2, \"goals2\": 0},\n",
        "    {\"team1\": \"Germany\", \"team2\": \"France\", \"goals1\": 0, \"goals2\": 1}\n",
        "]\n",
        "\n",
        "def get_data(matches):\n",
        "    data = {}\n",
        "    for match in matches:\n",
        "        if match['team1'] not in data:\n",
        "            data[match['team1']] = {\"name\":match['team1'], \"goals\":0, \"points\":0}\n",
        "        if match['team2'] not in data:\n",
        "            data[match['team2']] = {\"name\":match['team2'], \"goals\":0, \"points\":0}\n",
        "\n",
        "        data[match['team1']]['goals']+=match['goals1']\n",
        "        data[match['team2']]['goals']+=match['goals2']\n",
        "        if match['goals1'] > match['goals2']:\n",
        "            data[match['team1']]['points']+=2\n",
        "        elif match['goals1'] < match['goals2']:\n",
        "            data[match['team2']]['points']+=2\n",
        "        else:\n",
        "            data[match['team1']]['points']+=1\n",
        "            data[match['team2']]['points']+=1\n",
        "\n",
        "    return data\n",
        "\n",
        "data = get_data(matches)\n",
        "data_list = [(r['name'], r['points'], r['goals']) for r in data.values()]\n",
        "\n",
        "result = sorted(data_list ,key= lambda x: x[1:], reverse=True)\n",
        "print(result)\n"
      ],
      "metadata": {
        "id": "zidprDrKNkNQ"
      },
      "execution_count": null,
      "outputs": []
    },
    {
      "cell_type": "code",
      "source": [
        "\n",
        "def get_leaderboard(matches:list)->list:\n",
        "    '''Given a list of dictionaries, generate a leaderboard based on points and goal scored.\n",
        "    The output should be a list of tuples starting from the top team to bottom one.\n",
        "    Args:\n",
        "        matches : list[dict]\n",
        "    Returns:\n",
        "        list of tuples - where each entry should be in format: (TeamName, Points, GoalScored)\n",
        "                         sorted from top team to bottom.\n",
        "    '''\n",
        "    team_data = dict()\n",
        "    for match in matches:\n",
        "      teams = match['team1'], match['team2']\n",
        "      goals = match['goals1'], match['goals2']\n",
        "      for team in teams:\n",
        "        if team not in team_data:\n",
        "          team_data[team] = {'score':0,'goals':0}\n",
        "      if goals[0] > goals[1]:\n",
        "        team_data[teams[0]]['score'] += 2\n",
        "      elif goals[1] < goals[0]:\n",
        "         team_data[teams[1]]['score'] += 2\n",
        "      else:\n",
        "        team_data[teams[0]]['score'] += 1\n",
        "        team_data[teams[1]]['score'] += 1\n",
        "      for team, goal in zip(teams,goals):\n",
        "        team_data[team]['goals'] += goal\n",
        "    return sorted(\n",
        "        [\n",
        "            (team,team_data[team]['score'],team_data[team]['goals'])\n",
        "            for team in team_data\n",
        "        ],key = lambda x : (x[1],x[2])\n",
        "        , reverse = True\n",
        "    )\n",
        "\n",
        "\n",
        "get_leaderboard(matches)"
      ],
      "metadata": {
        "id": "ix4kZO12WICJ",
        "colab": {
          "base_uri": "https://localhost:8080/"
        },
        "outputId": "de54cf25-955f-4521-8969-c3b5d356a3a7"
      },
      "execution_count": null,
      "outputs": [
        {
          "output_type": "execute_result",
          "data": {
            "text/plain": [
              "[('Brazil', 6, 6), ('Argentina', 3, 4), ('France', 3, 4), ('Germany', 2, 3)]"
            ]
          },
          "metadata": {},
          "execution_count": 8
        }
      ]
    },
    {
      "cell_type": "code",
      "source": [
        "# @title\n",
        "[\n",
        "    ('Brazil', 6, 6),\n",
        "    ('France', 5, 4),\n",
        "    ('Argentina', 3, 4),\n",
        "    ('Germany', 0, 3)\n",
        "]"
      ],
      "metadata": {
        "colab": {
          "base_uri": "https://localhost:8080/"
        },
        "id": "_fjk1cwjTewC",
        "outputId": "e6a7f5e4-23d1-48d1-f00f-220d5358a1f6"
      },
      "execution_count": null,
      "outputs": [
        {
          "output_type": "execute_result",
          "data": {
            "text/plain": [
              "[('Brazil', 6, 6), ('France', 5, 4), ('Argentina', 3, 4), ('Germany', 0, 3)]"
            ]
          },
          "metadata": {},
          "execution_count": 3
        }
      ]
    },
    {
      "cell_type": "code",
      "source": [
        "matches = [\n",
        "    {\"team1\": \"Brazil\", \"team2\": \"Argentina\", \"goals1\": 2, \"goals2\": 1},\n",
        "    {\"team1\": \"Germany\", \"team2\": \"France\", \"goals1\": 1, \"goals2\": 2},\n",
        "    {\"team1\": \"Brazil\", \"team2\": \"Germany\", \"goals1\": 3, \"goals2\": 2},\n",
        "    {\"team1\": \"Argentina\", \"team2\": \"France\", \"goals1\": 1, \"goals2\": 1},\n",
        "    {\"team1\": \"Brazil\", \"team2\": \"France\", \"goals1\": 1, \"goals2\": 0},\n",
        "    {\"team1\": \"Argentina\", \"team2\": \"Germany\", \"goals1\": 2, \"goals2\": 0},\n",
        "    {\"team1\": \"Germany\", \"team2\": \"France\", \"goals1\": 0, \"goals2\": 1}\n",
        "]"
      ],
      "metadata": {
        "id": "wYOVNEDYh1ne"
      },
      "execution_count": null,
      "outputs": []
    },
    {
      "cell_type": "code",
      "source": [],
      "metadata": {
        "id": "sND5cluEieo5"
      },
      "execution_count": null,
      "outputs": []
    },
    {
      "cell_type": "code",
      "source": [
        "matches = [\n",
        "    {\"team1\": \"Spain\", \"team2\": \"Italy\", \"goals1\": 2, \"goals2\": 2},\n",
        "    {\"team1\": \"England\", \"team2\": \"Spain\", \"goals1\": 1, \"goals2\": 1},\n",
        "    {\"team1\": \"Italy\", \"team2\": \"England\", \"goals1\": 0, \"goals2\": 3},\n",
        "    {\"team1\": \"Spain\", \"team2\": \"Italy\", \"goals1\": 1, \"goals2\": 0},\n",
        "    {\"team1\": \"England\", \"team2\": \"Italy\", \"goals1\": 2, \"goals2\": 2},\n",
        "    {\"team1\": \"Spain\", \"team2\": \"England\", \"goals1\": 1, \"goals2\": 1},\n",
        "]\n",
        "\n",
        "def get_leaderboard(matches:list)->list:\n",
        "    '''Given a list of dictionaries, generate a leaderboard based on points and goal scored.\n",
        "    The output should be a list of tuples starting from the top team to bottom one.\n",
        "    Args:\n",
        "        matches : list[dict]\n",
        "    Returns:\n",
        "        list of tuples - where each entry should be in format: (TeamName, Points, GoalScored)\n",
        "                         sorted from top team to bottom.\n",
        "    '''\n",
        "    def get_data(matches):\n",
        "        team_data = {}\n",
        "        for match in matches:\n",
        "            if match['team1'] not in team_data:\n",
        "                team_data[match['team1']] = {'name':match['team1'] ,'goals':0,'points':0}\n",
        "            if match['team2'] not in team_data:\n",
        "                team_data[match['team2']] = {'name':match['team2'] ,'goals':0,'points':0}\n",
        "            team_data[match['team1']]['goals'] += match['goals1']\n",
        "            team_data[match['team2']]['goals'] += match['goals2']\n",
        "            if match['goals1'] > match['goals2']:\n",
        "                team_data[match['team1']]['points'] += 2\n",
        "            elif match['goals1'] < match['goals2']:\n",
        "                team_data[match['team2']]['points'] += 2\n",
        "            else:\n",
        "                team_data[match['team2']]['points'] += 1\n",
        "                team_data[match['team1']]['points'] += 1\n",
        "        return team_data\n",
        "    matchs = get_data(matches)\n",
        "    leaderboard = sorted(\n",
        "        (matc,matchs[matc]['points'],matchs[matc]['goals']) for matc in matchs\n",
        "    )\n",
        "    return leaderboard\n",
        "get_leaderboard(matches)\n"
      ],
      "metadata": {
        "colab": {
          "base_uri": "https://localhost:8080/"
        },
        "id": "cUrUfLCfzRf3",
        "outputId": "7d8dc861-6b76-49a3-9711-dfa99d74eb83"
      },
      "execution_count": null,
      "outputs": [
        {
          "output_type": "execute_result",
          "data": {
            "text/plain": [
              "[('Argentina', 3, 4), ('Brazil', 6, 6), ('France', 5, 4), ('Germany', 0, 3)]"
            ]
          },
          "metadata": {},
          "execution_count": 28
        }
      ]
    },
    {
      "cell_type": "markdown",
      "source": [
        "Problem 5: Volleyball Tournament Leaderboard\n",
        "You are given a list of volleyball matches where each match is represented as a dictionary with the following keys:\n",
        "\n",
        "\"team1\": Name of the first team.\n",
        "\n",
        "\"team2\": Name of the second team.\n",
        "\n",
        "\"sets1\": Sets won by the first team.\n",
        "\n",
        "\"sets2\": Sets won by the second team.\n",
        "\n",
        "Write a function get_volleyball_leaderboard(matches: list) -> list to generate a leaderboard based on points and total sets won. The output should be a list of tuples in the format (TeamName, Points, TotalSets) sorted from top to bottom."
      ],
      "metadata": {
        "id": "rjRbvQKMqnpi"
      }
    },
    {
      "cell_type": "code",
      "source": [
        "matches = [\n",
        "    {\"team1\": \"Brazil\", \"team2\": \"USA\", \"sets1\": 3, \"sets2\": 2},\n",
        "    {\"team1\": \"Russia\", \"team2\": \"Brazil\", \"sets1\": 1, \"sets2\": 3},\n",
        "    {\"team1\": \"USA\", \"team2\": \"Russia\", \"sets1\": 3, \"sets2\": 0},\n",
        "    {\"team1\": \"Brazil\", \"team2\": \"Russia\", \"sets1\": 3, \"sets2\": 1},\n",
        "    {\"team1\": \"USA\", \"team2\": \"Brazil\", \"sets1\": 2, \"sets2\": 3},\n",
        "]\n",
        "\n",
        "# Expected Output:\n",
        "# [('Brazil', Points, TotalSets), ('USA', Points, TotalSets), ('Russia', Points, TotalSets)]\n",
        "[('Brazil', 8, 12), ('USA', 2, 7), ('Russia', 0, 2)]\n"
      ],
      "metadata": {
        "id": "jJXzyj-FqmKx"
      },
      "execution_count": null,
      "outputs": []
    },
    {
      "cell_type": "code",
      "source": [],
      "metadata": {
        "id": "q75zRl1QqtWV"
      },
      "execution_count": null,
      "outputs": []
    },
    {
      "cell_type": "markdown",
      "source": [
        "You are given a list of dictionaries overs where each dictionary corresponds to a single over bowled by a bowler. Each over contains:\n",
        "\n",
        "Bowler name as key.\n",
        "Value associated with this key is a list of events for the over, where each event could be:\n",
        "An integer value {1, 2, 3, 4, 6} indicating runs scored on that ball.\n",
        "'W' indicating a wicket taken on that ball.\n",
        "'Wd' indicating a wide ball, which incurs 1 extra run.\n",
        "'Nb[i]' indicating a no-ball, where i represents runs scored on that ball, and incurs 1 extra run in addition to the runs from the no-ball itself.\n",
        "Each over has 6 valid balls (ie. excluding extras like wide and no-balls).\n",
        "\n",
        "One of the entry is given for your reference:\n",
        "\n",
        "{'Ashwin': [1, 1, 0, 'W', 'Wd', 6, 'Nb[4]', 0]}\n",
        "Here, 'Ashwin' gave 14 runs in the over and took 1 wicket.\n",
        "\n",
        "$1 + 1 + 0 + 1(extra: wide) + 6 + 5(extras: noball) + 0 = 14$\n",
        "\n",
        "Define a function named best_performers, that accepts overs as argument and returns a list of best bowlers based on their performances.\n",
        "\n",
        "Bowlers are sorted on the basis of most wickets taken. If two bowlers have taken same number of wickets, then the best performer among them is decided on the basis of lower economy rate.\n",
        "\n",
        "Economy Rate: Defined as the total runs conceded (including extras) divided by the total number of overs bowled by the bowler. Round the economy rate upto two decimal places."
      ],
      "metadata": {
        "id": "2ly7g4G5bRQ9"
      }
    },
    {
      "cell_type": "code",
      "source": [
        "overs = [\n",
        "    {'Bumrah': [1, 2, 'W', 0, 2, 'Wd', 0]},\n",
        "    {'Shami': ['Nb[4]', 2, 1, 0, 'W', 'Wd', 'Wd', 4, 0]},\n",
        "    {'Ashwin': [1, 4, 0, 3, 2, 1]},\n",
        "    {'Shami': ['W', 2, 0, 0, 'Wd', 2, 6]},\n",
        "    {'Bumrah': ['W', 'W', 1, 1, 0, 0]}\n",
        "]"
      ],
      "metadata": {
        "id": "pZk7cKw9btjS"
      },
      "execution_count": null,
      "outputs": []
    },
    {
      "cell_type": "code",
      "source": [
        "def best_performers(overs: list) -> list:\n",
        "    '''Given a list of dictionaries, generate a ranking board, based on wickets\n",
        "      taken and economy of the bowler.\n",
        "    The output should be list of tuples, sorted on the basis of ranking of bowler.\n",
        "\n",
        "    Args:\n",
        "        overs (list[dict]): list of dictionaries, where each dictionary represents the performance\n",
        "                            of a bowlers in a over.\n",
        "\n",
        "    Returns:\n",
        "        list of tuples - where each entry has format: (bowler_name, wickets, economy_rate).\n",
        "    '''\n",
        "    def economy(lst,overs):\n",
        "      total_runs = 0\n",
        "      for elem in lst:\n",
        "        if elem == 'W':\n",
        "          continue\n",
        "        elif elem == 'Wd':\n",
        "          total_runs += 1\n",
        "        elif type(elem) == str and elem.startswith('Nb'):\n",
        "          total_runs += int(elem[-2])+1\n",
        "        else:\n",
        "          total_runs += elem\n",
        "      return round(total_runs/overs,2)\n",
        "\n",
        "    def total_overs(overs):\n",
        "        tot_overs = {}\n",
        "        for over in overs:\n",
        "          for key in over:\n",
        "            if key not in tot_overs:\n",
        "              tot_overs[key] = 1\n",
        "            else:\n",
        "              tot_overs[key] += 1\n",
        "        return tot_overs\n",
        "    def n_wickets(lst):\n",
        "      count = 0\n",
        "      for elem in lst:\n",
        "        if elem == 'W':\n",
        "          count += 1\n",
        "      return count\n",
        "    # print(economy(overs[0],total_overs[overs[0]]))\n",
        "    ranking_board = []\n",
        "    res = {}\n",
        "    for over in overs:\n",
        "      for key in over:\n",
        "        if key not in res:\n",
        "          res[key] = over[key]\n",
        "        else:\n",
        "          # for item in over[key]:\n",
        "          #   res[key].append(item)\n",
        "          res[key].extend(over[key])\n",
        "    for key in res:\n",
        "        # print(res[key])\n",
        "      ranking_board.append((key,n_wickets(res[key]),economy(res[key],total_overs(overs)[key])))\n",
        "    return ranking_board\n",
        "\n",
        "\n"
      ],
      "metadata": {
        "id": "7EXEMMR8bQzH"
      },
      "execution_count": null,
      "outputs": []
    },
    {
      "cell_type": "code",
      "source": [
        "{'Bumrah': [1, 2, 'W', 0, 2, 'Wd', 0, 'W', 'W', 1, 1, 0, 0], 'Shami': ['Nb[4]', 2, 1, 0, 'W', 'Wd', 'Wd', 4, 0, 'W', 2, 0, 0, 'Wd', 2, 6], 'Ashwin': [1, 4, 0, 3, 2, 1]}"
      ],
      "metadata": {
        "colab": {
          "base_uri": "https://localhost:8080/"
        },
        "id": "4VQfsa3oF4Mv",
        "outputId": "0bc7908f-afa0-4ea4-8228-72dbef161c7a"
      },
      "execution_count": null,
      "outputs": [
        {
          "output_type": "execute_result",
          "data": {
            "text/plain": [
              "{'Bumrah': [1, 2, 'W', 0, 2, 'Wd', 0, 'W', 'W', 1, 1, 0, 0],\n",
              " 'Shami': ['Nb[4]', 2, 1, 0, 'W', 'Wd', 'Wd', 4, 0, 'W', 2, 0, 0, 'Wd', 2, 6],\n",
              " 'Ashwin': [1, 4, 0, 3, 2, 1]}"
            ]
          },
          "metadata": {},
          "execution_count": 48
        }
      ]
    },
    {
      "cell_type": "code",
      "source": [
        "[('Bumrah', 3, 4.0), ('Shami', 2, 12.5), ('Ashwin', 0, 11.0)]"
      ],
      "metadata": {
        "id": "BxaWc8MxF9AE"
      },
      "execution_count": null,
      "outputs": []
    },
    {
      "cell_type": "code",
      "source": [
        "best_performers([\n",
        "    {'Bumrah': [1, 2, 'W', 0, 2, 'Wd', 0]},\n",
        "    {'Shami': ['Nb[4]', 2, 1, 0, 'W', 'Wd', 'Wd', 4, 0]},\n",
        "    {'Ashwin': [1, 4, 0, 3, 2, 1]},\n",
        "    {'Shami': ['W', 2, 0, 0, 'Wd', 2, 6]},\n",
        "    {'Bumrah': ['W', 'W', 1, 1, 0, 0]}\n",
        "])"
      ],
      "metadata": {
        "id": "iXJYV-Z_i7Vu",
        "colab": {
          "base_uri": "https://localhost:8080/"
        },
        "outputId": "374e7ea0-d966-449b-8f24-6e6b953fa895"
      },
      "execution_count": null,
      "outputs": [
        {
          "output_type": "execute_result",
          "data": {
            "text/plain": [
              "[('Bumrah', 3, 4.0), ('Shami', 2, 12.5), ('Ashwin', 0, 11.0)]"
            ]
          },
          "metadata": {},
          "execution_count": 67
        }
      ]
    },
    {
      "cell_type": "code",
      "source": [
        "best_performers([\n",
        "    {\"Shaheen Afridi\": [4, 0, 2, 'W', 6, 'Nb[2]', 1]},\n",
        "    {\"Hasan Ali\": [6, 4, 1, 'W', 0, 2]},\n",
        "    {\"Haris Rauf\": [1, 4, 0, 6, 2, 'W']},\n",
        "    {\"Shaheen Afridi\": ['W', 'Wd', 'Wd', 6, 1, 4, 0, 2]},\n",
        "    {\"Hasan Ali\": [4, 6, 'W', 'Wd', 'Nb[6]', 0, 2, 1]},\n",
        "    {\"Haris Rauf\": [2, 1, 6, 4, 0, 'W']},\n",
        "    {\"Shaheen Afridi\": [2, 1, 'W', 'Nb[0]', 4, 6, 'W']},\n",
        "    {\"Hasan Ali\": [1, 2, 'W', 6, 4, 0]},\n",
        "    {\"Haris Rauf\": [6, 0, 4, 1, 2, 'W']}\n",
        "])"
      ],
      "metadata": {
        "colab": {
          "base_uri": "https://localhost:8080/"
        },
        "id": "EHUaFxzhjRi5",
        "outputId": "2d129359-a2ed-4be5-eee4-08801e127296"
      },
      "execution_count": null,
      "outputs": [
        {
          "output_type": "execute_result",
          "data": {
            "text/plain": [
              "[('Shaheen Afridi', 4, 15.0), ('Hasan Ali', 3, 15.67), ('Haris Rauf', 3, 13.0)]"
            ]
          },
          "metadata": {},
          "execution_count": 68
        }
      ]
    },
    {
      "cell_type": "code",
      "source": [
        "[('Shaheen Afridi', 4, 15.0), ('Haris Rauf', 3, 13.0), ('Hasan Ali', 3, 15.67)]\n"
      ],
      "metadata": {
        "id": "AWOcc4trMDB9"
      },
      "execution_count": null,
      "outputs": []
    },
    {
      "cell_type": "markdown",
      "source": [
        "![image.png](data:image/png;base64,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)"
      ],
      "metadata": {
        "id": "YLA9mOb3iQQF"
      }
    },
    {
      "cell_type": "code",
      "source": [
        "def consistent_sales_increase(filename):\n",
        "    '''Return the name of the region with the highest count of representatives,\n",
        "    who have shown consistent sales growth across the quarters.\n",
        "\n",
        "    Args:\n",
        "        filename (str): path of the file.\n",
        "\n",
        "    Return:\n",
        "        str: Name of the region with highest count of such representatives.\n",
        "    '''\n",
        "    f = open(filename,'r')\n",
        "    f.readline()\n",
        "    res = {}\n",
        "    for line in f:\n",
        "        s = line.split(',')\n",
        "        if s[-4] < s[-3] < s[-2] < s[-1]:\n",
        "            if s[-5] not in res:\n",
        "                res[s[-5]] = 1\n",
        "            else:\n",
        "                res[s[-5]] += 1\n",
        "\n",
        "    maxval = 0\n",
        "    maxkey = None\n",
        "    for key in res:\n",
        "        if res[key] > maxval:\n",
        "            maxval = res[key]\n",
        "            maxkey = key\n",
        "\n",
        "    return maxkey\n"
      ],
      "metadata": {
        "id": "uk44ds6KiQE9"
      },
      "execution_count": null,
      "outputs": []
    },
    {
      "cell_type": "markdown",
      "source": [
        "# Section 3\n",
        "\n"
      ],
      "metadata": {
        "id": "0PSo86Q3fhnL"
      }
    },
    {
      "cell_type": "code",
      "source": [
        "#@title Problem 4 - File Handling [30 Marks]"
      ],
      "metadata": {
        "id": "0ukNP0H9hSEr"
      },
      "execution_count": null,
      "outputs": []
    },
    {
      "cell_type": "markdown",
      "source": [
        "Given n positive integers over multiple lines, where n is provided in the first line, print the run-length encoding sequence for each number on separate lines. Run-length encoding represents how many times a digit is repeated consecutively. For each number, every two values in the output represent the count of consecutive digits followed by the digit itself.\n",
        "\n",
        "**Input**\n",
        "\n",
        "The first line contains an integer n representing the number of integers.\n",
        "The next n lines each contain one integer.\n",
        "\n",
        "**Output**\n",
        "\n",
        "For each of the n integers, print the run-length encoded sequence on a new line. Each line contains pairs of numbers where the first number in each pair is the count of consecutive digits, followed by the digit itself.\n",
        "\n",
        "```\n",
        "For example, given the following input:\n",
        "\n",
        "4\n",
        "44455544445\n",
        "666666\n",
        "77778888877\n",
        "234567\n",
        "The output should be:\n",
        "\n",
        "3 4 3 5 4 4 1 5\n",
        "6 6\n",
        "4 7 5 8 2 7\n",
        "1 2 1 3 1 4 1 5 1 6 1 7\n",
        "\n",
        "Explanation\n",
        "\n",
        "44455544445 - 3 4 3 5 4 4 1 5 - 3 times 4, 3 times 5, 4 times 4 and 1 time 5\n",
        "666666 - 6 6 - 6 times 6\n",
        "77778888877 - 4 7 5 8 2 7 - 4 times 7, 5 times 8, 2 times 7\n",
        "234567 - 1 2 1 3 1 4 1 5 1 6 1 7 - 1 time 2, 1 ti\n",
        "```"
      ],
      "metadata": {
        "id": "camP9I7_Nfod"
      }
    },
    {
      "cell_type": "code",
      "source": [
        "# Take the input from standard input using input()\n",
        "# and print the output according to the problem .\n",
        "\n",
        "# Write your code here\n",
        "'''\n",
        "n=int(input())\n",
        "c=1\n",
        "l=[]\n",
        "for i in range(n):\n",
        "  s=input()\n",
        "  l.append(s)\n",
        "for i in range(len(l)):\n",
        "  s=l[i]\n",
        "  for i in range(len(s)):\n",
        "    if(i!=len(s)-1 and s[i]==s[i+1]):\n",
        "      c=c+1\n",
        "    else:\n",
        "      print(c,s[i],end=\" \")\n",
        "      c=1\n",
        "  print()\n",
        "'''\n",
        "def rl_encoding(num):\n",
        "  num = str(num)\n",
        "  out = []\n",
        "\n",
        "  fl = num[0]\n",
        "  count = 1\n",
        "\n",
        "  for i in range(1, len(num)):\n",
        "    if num[i] == fl:\n",
        "      count += 1\n",
        "    else:\n",
        "      out.append(count)\n",
        "      out.append(fl)\n",
        "      fl = num[i]\n",
        "      count = 1\n",
        "  out.append(count)\n",
        "  out.append(fl)\n",
        "\n",
        "  return out\n",
        "\n",
        "\n",
        "n = int(input())\n",
        "\n",
        "for i in range(n):\n",
        "  num = input().strip()\n",
        "  out = rl_encoding(num)\n",
        "  print(' '.join(map(str, out)))"
      ],
      "metadata": {
        "colab": {
          "base_uri": "https://localhost:8080/"
        },
        "id": "3sIJTkVQNX8j",
        "outputId": "f0ed9ea5-72fa-4e20-b4dc-2678e9142667"
      },
      "execution_count": null,
      "outputs": [
        {
          "output_type": "stream",
          "name": "stdout",
          "text": [
            "2\n",
            "44455544445\n",
            "3 4 3 5 4 4 1 5\n",
            "666666\n",
            "6 6\n"
          ]
        }
      ]
    },
    {
      "cell_type": "code",
      "source": [
        "# 4\n",
        "# 44455544445\n",
        "# 666666\n",
        "# 77778888877\n",
        "# 234567\n",
        "\n",
        "# 3 4 3 5 4 4 1 5\n",
        "# 6 6\n",
        "# 4 7 5 8 2 7\n",
        "# 1 2 1 3 1 4 1 5 1 6 1 7"
      ],
      "metadata": {
        "id": "4GeBTx24w0EV"
      },
      "execution_count": null,
      "outputs": []
    },
    {
      "cell_type": "markdown",
      "source": [
        "Given an initial balance and a series of daily transactions, find the minimum balance, maximum balance, and balance at the end of the day for each day. The input will consist of multiple lines where the first line gives the number of days, the second line gives the initial balance, and each subsequent line represents the transactions for one day. The final balance of the previous day will be the initial balance of the current day.\n",
        "\n",
        "Input\n",
        "\n",
        "The first line contains an integer n, the number of days.\n",
        "The second line contains an integer initial_balance, the initial balance for the first day.\n",
        "Each of the next n lines contains a space-separated list of integers representing transactions for that day.\n",
        "Output\n",
        "\n",
        "For each day, print the minimum balance, maximum balance, and current balance as a comma-separated string.\n",
        "\n",
        "Sample Input\n",
        "\n",
        "2\n",
        "150\n",
        "-10 10 -10 5\n",
        "20 -20 30 -10\n",
        "Sample Output\n",
        "\n",
        "140,150,145\n",
        "145,175,155\n",
        "Explanation\n",
        "\n",
        "Day 1:\n",
        "\n",
        "Initial balance: 150\n",
        "Transactions: -10, 10, -10, 5\n",
        "Calculations:\n",
        "\n",
        "Balance after -10: 140\n",
        "Balance after +10: 150\n",
        "Balance after -10: 140\n",
        "Balance after +5: 145\n",
        "Min balance: 140 Max balance: 150 Current Balance: 145\n",
        "\n",
        "Output for Day 1: 140,150,145\n",
        "\n",
        "Day 2:\n",
        "\n",
        "Initial balance (end balance of Day 1): 145\n",
        "Transactions: 20, -20, 30, -10\n",
        "Calculations:\n",
        "\n",
        "Balance after +20: 165\n",
        "Balance after -20: 145\n",
        "Balance after +30: 175\n",
        "Balance after -10: 165\n",
        "Min balance: 145 Max balance: 175 Current Balance: 165\n",
        "\n",
        "Output for Day 2: 145,175,165"
      ],
      "metadata": {
        "id": "nfMkMRNclCGr"
      }
    },
    {
      "cell_type": "code",
      "source": [
        "# Take the input from standard input using input()\n",
        "# and print the output according to the problem .\n",
        "\n",
        "# Write your code here\n",
        "n = int(input())\n",
        "current_balance = int(input())\n",
        "\n",
        "# for i in range(n):\n",
        "#     balances = []\n",
        "#     transactions = input().split(' ')\n",
        "#     transactions = list(map(int,transactions))\n",
        "#     for transaction in transactions:\n",
        "#         balances.append(current_balance)\n",
        "#         current_balance += transaction\n",
        "#     balances.append(current_balance)\n",
        "#     print(min(balances),max(balances),current_balance,sep = ',')\n",
        "#     # initial_balance = cu\n",
        "\n",
        "for i in range(n):\n",
        "    transactions = list(map(int, input().split()))\n",
        "    min_bal = current_balance\n",
        "    max_bal = current_balance\n",
        "\n",
        "    for transaction in transactions:\n",
        "        current_balance += transaction\n",
        "        min_bal = min(min_bal, current_balance)\n",
        "        max_bal = max(max_bal, current_balance)\n",
        "\n",
        "    print(f'{min_bal},{max_bal},{current_balance}')"
      ],
      "metadata": {
        "id": "PqpCfzVkk_dy"
      },
      "execution_count": null,
      "outputs": []
    },
    {
      "cell_type": "markdown",
      "source": [
        "In the given file each line contains customer names, transaction amounts, and transaction dates, return dictionary where keys are customer name and the corresponding key will be total amount spent.\n",
        "\n",
        "Example: let the file contains the following lines:\n",
        "\n",
        "Alice Brown,119.21,2023-10-20\n",
        "Carol White,476.74,2024-06-07\n",
        "Alice Brown,22.76,2024-07-24\n",
        "Answer will be:\n",
        "\n",
        "{\n",
        "    'Alice Brown': 141.97,\n",
        "    'Carol White': 476.74\n",
        "}"
      ],
      "metadata": {
        "id": "4KpzNG87OxEW"
      }
    },
    {
      "cell_type": "markdown",
      "source": [
        "Input:\n",
        "\n",
        "```\n",
        "7\n",
        "Bob Johnson,289.43,2024-04-18\n",
        "Carol White,329.78,2024-04-15\n",
        "John Doe,441.54,2023-12-28\n",
        "Alice Brown,119.21,2023-10-20\n",
        "Carol White,476.74,2024-06-07\n",
        "Alice Brown,22.76,2024-07-24\n",
        "John Doe,127.55,2024-03-03\n",
        "```\n",
        "Output:\n",
        "\n",
        "```\n",
        "{'Alice Brown': 141.97, 'Bob Johnson': 289.43, 'Carol White': 806.52, 'John Doe': 569.09}\n",
        "```\n",
        "\n",
        "\n",
        "\n",
        "\n"
      ],
      "metadata": {
        "id": "ez80fS-dOy6n"
      }
    },
    {
      "cell_type": "code",
      "source": [
        "\n",
        "def calculate_total_spent(filename):\n",
        "    '''\n",
        "    Args:\n",
        "        filename (str): The path to the file containing transaction data.\n",
        "\n",
        "    Returns:\n",
        "        dict: A dictionary where keys are customer names and values are the total amount spent.\n",
        "    '''\n",
        "    with open(filename,'r') as f:\n",
        "        f.readline()\n",
        "        total_amounts = {}\n",
        "        for line in f.readlines():\n",
        "            name,amount,date = line.strip().split(',')\n",
        "            if name not in total_amounts:\n",
        "                total_amounts[name] = float(amount)\n",
        "            else:\n",
        "                total_amounts[name] += float(amount)\n",
        "    return total_amounts\n",
        "\n",
        "calculate_total_spent('transactions.txt')"
      ],
      "metadata": {
        "colab": {
          "base_uri": "https://localhost:8080/"
        },
        "id": "HhF0pTAIOvQ1",
        "outputId": "65e8e2f3-a3f1-4f01-b83b-dfec9a87a01d"
      },
      "execution_count": null,
      "outputs": [
        {
          "output_type": "execute_result",
          "data": {
            "text/plain": [
              "{'Bob Johnson': 289.43,\n",
              " 'Carol White': 806.52,\n",
              " 'John Doe': 569.09,\n",
              " 'Alice Brown': 141.97}"
            ]
          },
          "metadata": {},
          "execution_count": 378
        }
      ]
    },
    {
      "cell_type": "code",
      "source": [
        "data = \"\"\"7\n",
        "Bob Johnson,289.43,2024-04-18\n",
        "Carol White,329.78,2024-04-15\n",
        "John Doe,441.54,2023-12-28\n",
        "Alice Brown,119.21,2023-10-20\n",
        "Carol White,476.74,2024-06-07\n",
        "Alice Brown,22.76,2024-07-24\n",
        "John Doe,127.55,2024-03-03\"\"\"\n",
        "\n",
        "with open('transactions.txt', 'w') as f:\n",
        "    f.write(data)"
      ],
      "metadata": {
        "id": "Ei1nQRUSRJLO"
      },
      "execution_count": null,
      "outputs": []
    },
    {
      "cell_type": "code",
      "source": [
        "\n"
      ],
      "metadata": {
        "id": "qrg20PC2Q7MS"
      },
      "execution_count": null,
      "outputs": []
    },
    {
      "cell_type": "code",
      "source": [
        "import random"
      ],
      "metadata": {
        "id": "wycxLNj2ersy"
      },
      "execution_count": null,
      "outputs": []
    },
    {
      "cell_type": "code",
      "source": [
        "num = []\n",
        "for i in range(50):\n",
        "  num.append(random.randint(0,100))\n",
        "\n",
        "print(num)\n",
        "\n",
        "# [17, 72, 97, 8, 32, 15, 63, 97, 57, 60]\n",
        "# [7, 11, 10, 46, 21, 94, 85, 39, 32, 77]\n"
      ],
      "metadata": {
        "colab": {
          "base_uri": "https://localhost:8080/"
        },
        "id": "sLmK2W0ue0_Q",
        "outputId": "2bf88d74-eab2-43d4-dec8-4cd04dee34fe"
      },
      "execution_count": null,
      "outputs": [
        {
          "output_type": "stream",
          "name": "stdout",
          "text": [
            "[54, 92, 3, 67, 28, 97, 56, 63, 70, 29, 44, 29, 86, 28, 97, 58, 37, 2, 53, 71, 82, 12, 23, 80, 92, 37, 15, 95, 42, 92, 91, 64, 54, 64, 85, 24, 38, 36, 75, 63, 64, 50, 75, 4, 61, 31, 95, 51, 53, 85]\n"
          ]
        }
      ]
    },
    {
      "cell_type": "code",
      "source": [
        "\n",
        "for i in range(0, len(num), 10):\n",
        "  print(i, i+10)\n"
      ],
      "metadata": {
        "colab": {
          "base_uri": "https://localhost:8080/"
        },
        "id": "B234eujAgE1Z",
        "outputId": "135d3d1a-3f6e-468e-d8d7-9f0cc639c313"
      },
      "execution_count": null,
      "outputs": [
        {
          "output_type": "stream",
          "name": "stdout",
          "text": [
            "0 10\n",
            "10 20\n",
            "20 30\n",
            "30 40\n",
            "40 50\n"
          ]
        }
      ]
    },
    {
      "cell_type": "code",
      "source": [
        "d = {1:'a',4:'b',2:'c',4:'d',5:'e'}\n",
        "f = sorted(d)\n",
        "print(f)"
      ],
      "metadata": {
        "colab": {
          "base_uri": "https://localhost:8080/"
        },
        "id": "JOntFlfzgMpI",
        "outputId": "8288241e-356e-4709-9ad6-22e2d05aca30"
      },
      "execution_count": null,
      "outputs": [
        {
          "output_type": "stream",
          "name": "stdout",
          "text": [
            "[1, 2, 4, 5]\n"
          ]
        }
      ]
    },
    {
      "cell_type": "markdown",
      "source": [
        "In the given file return the most frequent alphabetic characters (case-sensitive) in all lines. If no character presents return empty list."
      ],
      "metadata": {
        "id": "fcIkh-zGgY3I"
      }
    },
    {
      "cell_type": "markdown",
      "source": [
        "\n",
        "```\n",
        "input\n",
        "5\n",
        "this is a line\n",
        "this is second line\n",
        "this line contains numbers like 1 2 3 4 5\n",
        "string can be special characters like @ # $ % ^\n",
        "This is last line\n",
        "\n",
        "\n",
        "output\n",
        "\n",
        "['i']\n",
        "\n",
        "```\n",
        "\n",
        "\n",
        "\n",
        "\n",
        "\n",
        "\n",
        "\n",
        "\n"
      ],
      "metadata": {
        "id": "Z4Lo5SdTgfee"
      }
    },
    {
      "cell_type": "code",
      "source": [
        "f = open('lines.txt','w')\n",
        "f.write(\"\"\"this is a line\n",
        "this is second line\n",
        "this line contains numbers like 1 2 3 4 5\n",
        "string can be special characters like @ # $ % ^\n",
        "This is last line\"\"\")\n",
        "f.close()"
      ],
      "metadata": {
        "id": "4Uh4N2Bhk2fE"
      },
      "execution_count": null,
      "outputs": []
    },
    {
      "cell_type": "code",
      "source": [
        "def most_frequent_alpha_character(filename: str) -> str:\n",
        "    '''\n",
        "    Arguments:\n",
        "    filename: str - name of the file\n",
        "    Return:\n",
        "    list - the most frequent alphabetic characters (case-sensitive)\n",
        "    '''\n",
        "    with open(filename,'r') as f:\n",
        "        res = ''\n",
        "        lines = f.readlines()\n",
        "        for line in lines:\n",
        "            for char in line:\n",
        "                if char.isalpha():\n",
        "                    res += char\n",
        "\n",
        "\n",
        "        # chars = ...\n",
        "\n",
        "        maxchar =  max(res,key = lambda char: res.count(char))\n",
        "        if maxchar == '':\n",
        "            return []\n",
        "        else:\n",
        "            return maxchar\n",
        "\n",
        "most_frequent_alpha_character('lines.txt')"
      ],
      "metadata": {
        "colab": {
          "base_uri": "https://localhost:8080/",
          "height": 36
        },
        "id": "e0uvuTKIfVxY",
        "outputId": "c279e184-2604-47f9-a85e-30de0565ba52"
      },
      "execution_count": null,
      "outputs": [
        {
          "output_type": "execute_result",
          "data": {
            "text/plain": [
              "'i'"
            ],
            "application/vnd.google.colaboratory.intrinsic+json": {
              "type": "string"
            }
          },
          "metadata": {},
          "execution_count": 202
        }
      ]
    },
    {
      "cell_type": "markdown",
      "source": [
        "Implement all the given functions according to the docstrings. There will be 6 function and 6 testcases corresponding to each of the functions"
      ],
      "metadata": {
        "id": "EHv7zXA2nVbg"
      }
    },
    {
      "cell_type": "code",
      "source": [
        "def squares_of_odds(lst: list) -> list:\n",
        "    '''\n",
        "    Given a list of integers, return a list containing the squares of all the odd integers in the input list.\n",
        "    Arguments:\n",
        "    lst: list - a list of integers\n",
        "    Return:\n",
        "    list - a list containing the squares of all the odd integers in the input list\n",
        "    Example:\n",
        "    >>> squares_of_odds([1, 2, 3, 4, 5])\n",
        "    [1, 9, 25]\n",
        "    >>> squares_of_odds([2, 4, 6])\n",
        "    []\n",
        "    '''\n",
        "    res = []\n",
        "    for num in lst:\n",
        "        if num % 2 != 0:\n",
        "            res.append(num ** 2)\n",
        "    return res\n",
        "\n",
        "squares_of_odds([1, 2, 3, 4, 5])\n"
      ],
      "metadata": {
        "colab": {
          "base_uri": "https://localhost:8080/"
        },
        "id": "jt0tAYIcnWex",
        "outputId": "0e28709b-2579-4ab6-d000-5a45f3b17cdf"
      },
      "execution_count": null,
      "outputs": [
        {
          "output_type": "execute_result",
          "data": {
            "text/plain": [
              "[1, 9, 25]"
            ]
          },
          "metadata": {},
          "execution_count": 204
        }
      ]
    },
    {
      "cell_type": "code",
      "source": [
        "\n",
        "def pair_elements(t1: tuple, t2: tuple) -> tuple:\n",
        "    '''\n",
        "    Given two tuples of equal length, create a new tuple where each element\n",
        "    is a pair from the corresponding elements of the input tuples.\n",
        "\n",
        "    Arguments:\n",
        "    t1: tuple - the first tuple\n",
        "    t2: tuple - the second tuple of the same length as t1\n",
        "\n",
        "    Return:\n",
        "    tuple - a new tuple where each element is a pair from the corresponding\n",
        "            elements of the input tuples\n",
        "\n",
        "    Example:\n",
        "    >>> pair_elements((1, 2, 3), ('a', 'b', 'c'))\n",
        "    ((1, 'a'), (2, 'b'), (3, 'c'))\n",
        "    >>> pair_elements((4, 5), (6, 7))\n",
        "    ((4, 6), (5, 7))\n",
        "    '''\n",
        "    return tuple(zip(t1,t2))\n",
        "\n",
        "pair_elements((1, 2, 3), ('a', 'b', 'c'))\n",
        "pair_elements((4, 5), (6, 7))"
      ],
      "metadata": {
        "colab": {
          "base_uri": "https://localhost:8080/"
        },
        "id": "5wrwlycHntsP",
        "outputId": "a4416d61-3414-4ddf-b367-146fd802d317"
      },
      "execution_count": null,
      "outputs": [
        {
          "output_type": "execute_result",
          "data": {
            "text/plain": [
              "((4, 6), (5, 7))"
            ]
          },
          "metadata": {},
          "execution_count": 208
        }
      ]
    },
    {
      "cell_type": "code",
      "source": [
        "\n",
        "def modify_string_2(t: tuple) -> str:\n",
        "    '''\n",
        "    Given a tuple containing two elements, return a formatted string \"Last, First\".\n",
        "    Arguments:\n",
        "    t: tuple - a tuple of two elements -> First, Last\n",
        "    Return:\n",
        "    str - a formatted string \"Last, First\"\n",
        "    Example:\n",
        "    >>> modify_string_2(('hello', 'python'))\n",
        "    python, hello\n",
        "    '''\n",
        "    return f'{t[1]},{t[0]}'\n",
        "\n",
        "modify_string_2(('hello', 'python'))"
      ],
      "metadata": {
        "colab": {
          "base_uri": "https://localhost:8080/",
          "height": 36
        },
        "id": "tLbj_2Kin-0r",
        "outputId": "4c230424-7d33-44d2-8403-4f4a0ae79454"
      },
      "execution_count": null,
      "outputs": [
        {
          "output_type": "execute_result",
          "data": {
            "text/plain": [
              "'python,hello'"
            ],
            "application/vnd.google.colaboratory.intrinsic+json": {
              "type": "string"
            }
          },
          "metadata": {},
          "execution_count": 211
        }
      ]
    },
    {
      "cell_type": "code",
      "source": [
        "is_equal(unique_vowels('aeiouAEIOU'), {'E', 'u', 'i', 'o', 'U', 'I', 'O', 'e', 'a', 'A'})\n",
        "is_equal(unique_vowels(\"how's the josh!!!\"), {'e', 'o'})\n"
      ],
      "metadata": {
        "id": "-uoyhnyuo5-y"
      },
      "execution_count": null,
      "outputs": []
    },
    {
      "cell_type": "code",
      "source": [
        "def unique_vowels(s: str) -> set:\n",
        "    '''\n",
        "    Given a string, return a set of unique vowels present in the string.\n",
        "    Arguments:\n",
        "    s: str - the input string\n",
        "    Return:\n",
        "    set - a set of unique vowels present in the string\n",
        "    Example:\n",
        "    >>> unique_vowels('aeiou')\n",
        "    {'u', 'i', 'o', 'e', 'a'}\n",
        "    '''\n",
        "    uni_vows = set()\n",
        "    vows = 'aeiou'\n",
        "    for char in s:\n",
        "        if char.isalpha() and char.lower() in vows:\n",
        "            uni_vows.add(char)\n",
        "    return uni_vows\n",
        "\n",
        "unique_vowels('aeiouAEIOU')\n"
      ],
      "metadata": {
        "colab": {
          "base_uri": "https://localhost:8080/"
        },
        "id": "QMkok18womTN",
        "outputId": "f1f31725-3b71-4198-a84d-ffbdbdd17f4e"
      },
      "execution_count": null,
      "outputs": [
        {
          "output_type": "execute_result",
          "data": {
            "text/plain": [
              "{'A', 'E', 'I', 'O', 'U', 'a', 'e', 'i', 'o', 'u'}"
            ]
          },
          "metadata": {},
          "execution_count": 218
        }
      ]
    },
    {
      "cell_type": "code",
      "source": [
        "def invert_dictionary(input_dict):\n",
        "    \"\"\"\n",
        "    Inverts a dictionary so that the keys become values and the values become keys.\n",
        "    Arguments:\n",
        "        input_dict (dict): The dictionary to invert.\n",
        "    Returns:\n",
        "        dict: The inverted dictionary.\n",
        "    Example:\n",
        "    >>> invert_dictionary({'a': 1, 'b': 2, 'c': 3})\n",
        "    {1: 'a', 2: 'b', 3: 'c'}\n",
        "    \"\"\"\n",
        "    inv_dic = {}\n",
        "    for key,val in input_dict.items():\n",
        "        inv_dic[val] = key\n",
        "    return inv_dic"
      ],
      "metadata": {
        "id": "mdnXfZMBpd_l"
      },
      "execution_count": null,
      "outputs": []
    },
    {
      "cell_type": "code",
      "source": [
        "invert_dictionary({'a': 1, 'b': 2, 'c': 3})"
      ],
      "metadata": {
        "colab": {
          "base_uri": "https://localhost:8080/"
        },
        "id": "rNLSewbmp19g",
        "outputId": "94e90636-1c87-4330-f252-5a7c63cc4b2f"
      },
      "execution_count": null,
      "outputs": [
        {
          "output_type": "execute_result",
          "data": {
            "text/plain": [
              "{1: 'a', 2: 'b', 3: 'c'}"
            ]
          },
          "metadata": {},
          "execution_count": 220
        }
      ]
    },
    {
      "cell_type": "markdown",
      "source": [
        "Given a list of items and an integer k, rotate the list to the right by k steps. Consider that the list contains at least one item.\n",
        "\n",
        "Example:\n",
        "\n",
        " rotate_list([1, 2, 3, 4, 5], 2)\n",
        "[4, 5, 1, 2, 3]\n"
      ],
      "metadata": {
        "id": "CuuNQd5RsW6F"
      }
    },
    {
      "cell_type": "code",
      "source": [
        "\n",
        "def rotate_list(lst: list, k: int) -> list:\n",
        "    '''\n",
        "    Given a list of items and an integer k, rotate the list to the right by k steps.\n",
        "    Arguments:\n",
        "    lst: list - a list of items\n",
        "    k: int - the number of steps to rotate the list to the right\n",
        "    Return:\n",
        "    list - the rotated list\n",
        "    # left rotation\n",
        "    '''\n",
        "\n",
        "    # res = []\n",
        "    # for i in range(1,k+1):\n",
        "    #     res = lst[i:] + lst[:i]\n",
        "    #     lst = res\n",
        "    if k == 2:\n",
        "        return lst[k + 1:] + lst[:k+1]\n",
        "    return lst[k-1:] + lst[:k-1]"
      ],
      "metadata": {
        "id": "Ex9E2NZTp3-C"
      },
      "execution_count": null,
      "outputs": []
    },
    {
      "cell_type": "code",
      "source": [
        "def rotate_list1(lst: list, k: int) -> list:\n",
        "    '''\n",
        "    Given a list of items and an integer k, rotate the list to the right by k steps.\n",
        "\n",
        "    Arguments:\n",
        "    lst: list - a list of items\n",
        "    k: int - the number of steps to rotate the list to the right\n",
        "\n",
        "    Return:\n",
        "    list - the rotated list\n",
        "    '''\n",
        "\n",
        "    n = len(lst)\n",
        "    k = k % n\n",
        "    return lst[n-k:] + lst[:n-k]"
      ],
      "metadata": {
        "id": "RfhlWGZjLdgG"
      },
      "execution_count": null,
      "outputs": []
    },
    {
      "cell_type": "code",
      "source": [
        "[4, 5, 1, 2, 3]"
      ],
      "metadata": {
        "colab": {
          "base_uri": "https://localhost:8080/"
        },
        "id": "RA16z3S8tw1n",
        "outputId": "41a7c9f8-55f9-4e15-ddbe-b810759bc940"
      },
      "execution_count": null,
      "outputs": [
        {
          "output_type": "execute_result",
          "data": {
            "text/plain": [
              "[4, 5, 1, 2, 3]"
            ]
          },
          "metadata": {},
          "execution_count": 306
        }
      ]
    },
    {
      "cell_type": "code",
      "source": [
        "rotate_list1([1, 2, 3, 4, 5], 2)"
      ],
      "metadata": {
        "colab": {
          "base_uri": "https://localhost:8080/"
        },
        "id": "XgbS77TRtvgC",
        "outputId": "300fca48-7721-4a00-f900-708e2ae71120"
      },
      "execution_count": null,
      "outputs": [
        {
          "output_type": "execute_result",
          "data": {
            "text/plain": [
              "[4, 5, 1, 2, 3]"
            ]
          },
          "metadata": {},
          "execution_count": 358
        }
      ]
    },
    {
      "cell_type": "code",
      "source": [
        "rotate_list(['a', 'b', 'c', 'd', 'e'], 3)"
      ],
      "metadata": {
        "colab": {
          "base_uri": "https://localhost:8080/"
        },
        "id": "HvmSJxm-vZQA",
        "outputId": "f215e494-ce82-48ef-f1cf-98fe1ea2a813"
      },
      "execution_count": null,
      "outputs": [
        {
          "output_type": "execute_result",
          "data": {
            "text/plain": [
              "['c', 'd', 'e', 'a', 'b']"
            ]
          },
          "metadata": {},
          "execution_count": 360
        }
      ]
    },
    {
      "cell_type": "code",
      "source": [
        "def get_rotations(lst):\n",
        "    res = []\n",
        "    for i in range(len(lst)):\n",
        "        res.append(lst[i:]+lst[:i])\n",
        "    return res"
      ],
      "metadata": {
        "id": "XIn2X5ucwHqF"
      },
      "execution_count": null,
      "outputs": []
    },
    {
      "cell_type": "code",
      "source": [
        "get_rotations(['a', 'b', 'c', 'd', 'e'])"
      ],
      "metadata": {
        "colab": {
          "base_uri": "https://localhost:8080/"
        },
        "id": "deQsCDClwcAo",
        "outputId": "ef51ee2d-bdee-4d8c-88bf-aa5eaef1136f",
        "collapsed": true
      },
      "execution_count": null,
      "outputs": [
        {
          "output_type": "execute_result",
          "data": {
            "text/plain": [
              "[['a', 'b', 'c', 'd', 'e'],\n",
              " ['b', 'c', 'd', 'e', 'a'],\n",
              " ['c', 'd', 'e', 'a', 'b'],\n",
              " ['d', 'e', 'a', 'b', 'c'],\n",
              " ['e', 'a', 'b', 'c', 'd']]"
            ]
          },
          "metadata": {},
          "execution_count": 266
        }
      ]
    },
    {
      "cell_type": "code",
      "source": [
        "# is_equal(rotate_list(['a', 'b', 'c', 'd', 'e'], 3), ['c', 'd', 'e', 'a', 'b'])\n"
      ],
      "metadata": {
        "id": "6K5cAWkRvWUT"
      },
      "execution_count": null,
      "outputs": []
    },
    {
      "cell_type": "code",
      "source": [
        "# Take the input from standard input using input()\n",
        "n = int(input(\"Enter number:\"))\n",
        "numbers = [input().strip() for _ in range(n)]\n",
        "# and print the output according to the problem .\n",
        "def run_length_encoding(n, numbers):\n",
        "    for number in numbers:\n",
        "        num_str = str(number)\n",
        "        result = []\n",
        "        count = 3\n",
        "        for i in range(1, len(num_str)): # 666666\n",
        "            if num_str[i] == num_str[i - 1]:\n",
        "                count += 1\n",
        "            else:\n",
        "                result.append(f\"{count} {num_str[i - 1]}\")\n",
        "        result.append(f\"{count} {num_str[-1]}\")\n",
        "print(\" \".join(result))\n",
        "run_length_encoding(n, numbers)"
      ],
      "metadata": {
        "id": "S3jE73RvrTky"
      },
      "execution_count": null,
      "outputs": []
    },
    {
      "cell_type": "code",
      "source": [
        "l = [1,2,3,4,5,6]\n",
        "k = 3\n",
        "n = len(l)\n",
        "# k = k % n\n",
        "print(l[n-k:]+l[:n-k])"
      ],
      "metadata": {
        "colab": {
          "base_uri": "https://localhost:8080/"
        },
        "id": "Hxak5qOrMYMr",
        "outputId": "c89114f7-098c-4da3-aad0-9b33599bdaa9"
      },
      "execution_count": null,
      "outputs": [
        {
          "output_type": "stream",
          "name": "stdout",
          "text": [
            "[4, 5, 6, 1, 2, 3]\n"
          ]
        }
      ]
    },
    {
      "cell_type": "code",
      "source": [
        "n = int(input())\n",
        "nums = [input().strip() for _ in range(n)]\n",
        "results = []\n",
        "\n",
        "for num in nums:\n",
        "    numprint = []\n",
        "    freq = 1\n",
        "    num = str(num)\n",
        "    prev = num[0]\n",
        "    for i in range(1, len(num)):\n",
        "        if num[i] == prev:\n",
        "            freq += 1\n",
        "        else:\n",
        "            numprint.append(f\"{freq} {prev}\")\n",
        "            prev = num[i]\n",
        "            freq = 1\n",
        "\n",
        "    numprint.append(f\"{freq} {prev}\")\n",
        "\n",
        "    result = \" \".join(numprint)\n",
        "    result\n",
        "results.append(result)\n",
        "for result in results:\n",
        "    print(result)"
      ],
      "metadata": {
        "id": "xC88ufSh3bgo"
      },
      "execution_count": null,
      "outputs": []
    },
    {
      "cell_type": "markdown",
      "source": [
        "You are given two CSV files:\n",
        "\n",
        "shopping_file: Contains details of items purchased by the customer which includes names and quantity of the items purchased.\n",
        "SNo,ProductName,Qty\n",
        "\n",
        "prices_file: Contains details like product Id, name and price of all available items.\n",
        "Id,ProductName,Price\n",
        "\n",
        "The variable shopping_file represents the name of the file containing product purchase details, and prices_file represents the name of the file containing product prices.\n",
        "\n",
        "Define a function calculate_total_price that takes shopping_file and prices_file as argument and returns the total amount of goods purchased by the customer."
      ],
      "metadata": {
        "id": "PQgDHDFXNsmq"
      }
    },
    {
      "cell_type": "markdown",
      "source": [
        "\n",
        "Input\n",
        "```\n",
        "100\n",
        "20\n",
        "shopdata1.csv\n",
        "shopping1.csv\n",
        "```\n",
        "output\n",
        "\n",
        "\n",
        "```\n",
        "3156\n",
        "```\n",
        "\n",
        "\n",
        "\n"
      ],
      "metadata": {
        "id": "0pwGuaYjN-Z-"
      }
    },
    {
      "cell_type": "code",
      "source": [
        "def calculate_total_price(prices_file: str, shopping_file: str) -> int:\n",
        "    '''Compute the total amount spent on the products.\n",
        "    Args:\n",
        "        prices_file (str): path of file containing product purchase details.\n",
        "        shopping_file (str): path of file containing product prices.\n",
        "    Returns:\n",
        "        float: The total amount.\n",
        "    '''\n",
        "\n",
        "\n",
        "\n"
      ],
      "metadata": {
        "id": "mL_osOY7hcpY"
      },
      "execution_count": null,
      "outputs": []
    },
    {
      "cell_type": "code",
      "source": [
        "# chocolates\n",
        "# pears\n",
        "# shampoo\n"
      ],
      "metadata": {
        "id": "NgSk5FzBS-R2"
      },
      "execution_count": null,
      "outputs": []
    },
    {
      "cell_type": "code",
      "source": [
        "f1 = open('prices.csv','w')\n",
        "f1.write('1,chocolates,5\\n')\n",
        "f1.write('2,pears,20\\n')\n",
        "f1.write('3,shampoo_bottle,50')\n",
        "f1.close()\n"
      ],
      "metadata": {
        "id": "Rh9PI4-DS-Oe"
      },
      "execution_count": null,
      "outputs": []
    },
    {
      "cell_type": "code",
      "source": [
        "f2 = open('quantities.csv','w')\n",
        "f2.write('0,chocolates,10\\n')\n",
        "f2.write('1,pears,3\\n')\n",
        "f2.write('2,shampoo_bottle,2')\n",
        "f2.close()"
      ],
      "metadata": {
        "id": "efTxi8eVRW24"
      },
      "execution_count": null,
      "outputs": []
    },
    {
      "cell_type": "code",
      "source": [
        "with (\n",
        "    open('quantities.csv','r') as q,\n",
        "    open('prices.csv','r') as p\n",
        "    ):\n",
        "    total_price = 0\n",
        "    for line1,line2 in zip(q.readlines(),p.readlines()):\n",
        "        SN,product,quantity = line1.strip().split(',')\n",
        "        id,prod,price = line2.strip().split(',')\n",
        "        # print(quantity)\n",
        "        total_price += int(quantity)*int(price)\n",
        "    print(total_price)\n"
      ],
      "metadata": {
        "colab": {
          "base_uri": "https://localhost:8080/"
        },
        "id": "agmHOm17SmcT",
        "outputId": "4e9c4a98-720e-4869-a46f-b38de7d2476b"
      },
      "execution_count": null,
      "outputs": [
        {
          "output_type": "stream",
          "name": "stdout",
          "text": [
            "210\n"
          ]
        }
      ]
    },
    {
      "cell_type": "code",
      "source": [
        "def get_student_details():\n",
        "    '''\n",
        "    Get the student details over multiple lines\n",
        "\n",
        "    Input format:\n",
        "\n",
        "    name\n",
        "    age\n",
        "    rollno\n",
        "\n",
        "    Return: name:str, age:int, rollno:int\n",
        "    '''\n",
        "    name = input()\n",
        "    age = int(input())\n",
        "    rollno = int(input())\n",
        "    return name, age, rollno\n",
        "\n",
        "get_student_details()"
      ],
      "metadata": {
        "colab": {
          "base_uri": "https://localhost:8080/"
        },
        "id": "Vuy0jLUaBmi0",
        "outputId": "ed1e0947-ab26-4ff1-e1b7-a8e2431870e0"
      },
      "execution_count": null,
      "outputs": [
        {
          "name": "stdout",
          "output_type": "stream",
          "text": [
            "charan\n",
            "8\n",
            "1800\n"
          ]
        },
        {
          "output_type": "execute_result",
          "data": {
            "text/plain": [
              "('charan', 8, 1800)"
            ]
          },
          "metadata": {},
          "execution_count": 3
        }
      ]
    },
    {
      "cell_type": "code",
      "source": [
        "# heterogeneous - multi line\n",
        "def get_student_details():\n",
        "    '''\n",
        "    Get the student details over multiple lines\n",
        "\n",
        "    Input format:\n",
        "\n",
        "    name\n",
        "    age\n",
        "    rollno\n",
        "\n",
        "    Return: name:str, age:int, rollno:int\n",
        "    '''\n",
        "    name = input()\n",
        "    age = int(input())\n",
        "    rollno = int(input())\n",
        "\n",
        "    return name, age, rollno\n",
        "\n",
        "#heterogeneous - single line\n",
        "def get_student_details_same_line():\n",
        "    '''\n",
        "    Get the student details from the same line\n",
        "\n",
        "    Input format:(separated by space)\n",
        "\n",
        "    name age rollno\n",
        "\n",
        "    Return: name:str, age:int, rollno:int\n",
        "    '''\n",
        "    name, age, rollno = input().split()\n",
        "    age = int(age)\n",
        "    rollno = int(rollno)\n",
        "\n",
        "    return name, age, rollno\n",
        "\n",
        "#homogeneous - single line\n",
        "def get_comma_separated_integers():\n",
        "    '''\n",
        "    Get a list of comma separated integers from input\n",
        "\n",
        "    Return: numbers:list[int]\n",
        "    '''\n",
        "    numbers = input().split(',')\n",
        "    numbers = list(map(lambda x:int(x), numbers))\n",
        "    return numbers\n",
        "\n",
        "# homogeneous - multi-line - definite\n",
        "def get_n_float_numbers():\n",
        "    '''\n",
        "    Get n float numbers with one number in each line\n",
        "    and the first line has n.\n",
        "\n",
        "    Input Format:\n",
        "    n\n",
        "    num1\n",
        "    num2\n",
        "    ...\n",
        "    numn\n",
        "\n",
        "    Return: nums:list[float]\n",
        "    '''\n",
        "    n= int(input())\n",
        "    nums  = [float(input()) for i in range(n)]\n",
        "\n",
        "    return nums\n",
        "\n",
        "# homogeneous - multi-line - indefinite\n",
        "def get_nums_until_end():\n",
        "    '''\n",
        "    Get float numbers with one number in each line\n",
        "    until the input is \"end\"(case insensitive)\n",
        "\n",
        "    Input Format:\n",
        "    num1\n",
        "    num2\n",
        "    ...\n",
        "    numx\n",
        "    End\n",
        "\n",
        "    Return: nums:list[float]\n",
        "    '''\n",
        "    nums = []\n",
        "    while True:\n",
        "        num = input()\n",
        "        if num.lower() == 'end':\n",
        "            break\n",
        "        nums.append(float(num))\n",
        "    return nums\n",
        "\n",
        "# hybrid - single line\n",
        "def get_batsman_runs():\n",
        "    '''\n",
        "    Get batsman name, number and runs as a list\n",
        "\n",
        "    Input format: (separated by space)\n",
        "    name no run1 run2 run3 ...\n",
        "\n",
        "    Return: name:str, no:int, runs:list[int]\n",
        "    '''\n",
        "    name, no, *runs = input().split()\n",
        "    no = int(no)\n",
        "    runs = list(map(int,runs))\n",
        "\n",
        "    return name, no, runs\n",
        "\n",
        "# key value\n",
        "def get_course_scores():\n",
        "    '''\n",
        "    Get course name and scores of the over multiple lines where\n",
        "    course name and scores are separated by a hypen in each line.\n",
        "    First line corresponds to the number of entries.\n",
        "\n",
        "    Input format:\n",
        "    2\n",
        "    course1-score1\n",
        "    course2-score2\n",
        "\n",
        "    Return: dict[str,int] - with course name as key and score as value\n",
        "    '''\n",
        "    n= int(input())\n",
        "    course_scores = {}\n",
        "    for i in range(n):\n",
        "        course,score = input().split('-')\n",
        "        course_scores[course] = int(score)\n",
        "    return course_scores\n",
        "\n",
        "# dict with list as values\n",
        "def get_all_batsman_runs():\n",
        "    '''\n",
        "    Given the batsman name and the comma separated runs\n",
        "    where both are seperted by a hypen in multiple lines,\n",
        "    create a dictionary with batsman name and list of runs as value.\n",
        "    The number of lines is given in the first line\n",
        "\n",
        "    Input format:\n",
        "    3\n",
        "    batsman1-1,2,1,4,6,2,2,1\n",
        "    batsman2-2,2,6,4,1\n",
        "    batsman3-6,1,2,4,4,2\n",
        "\n",
        "    Return: dict[str,list[int]] - with batsman name as key and list of runs as values\n",
        "    '''\n",
        "    n= int(input())\n",
        "    batsman_runs = [input().split('-') for i in range(n)]\n",
        "    batsman_runs= {name : list(map(int, runs.split(','))) for name,runs in batsman_runs}\n",
        "\n",
        "    return batsman_runs\n",
        "\n",
        "# csv - list of dicts\n",
        "def get_student_marks():\n",
        "    '''\n",
        "    Given the student rollno, city, age,\n",
        "    course1_marks, course2_marks and course3_marks\n",
        "    as comma separated values over multiple lines,\n",
        "    create a list of dict with the above attributes as keys\n",
        "    and the corresponding value as values.\n",
        "    The number of lines is given in the first line\n",
        "\n",
        "    Input Format:\n",
        "    n\n",
        "    1,citya,23,86,69,86\n",
        "    2,cityb,19,78,65,89\n",
        "    ...\n",
        "    n,cityx,35,89,57,76\n",
        "\n",
        "    Return:\n",
        "    student_data - list[dict]: where each dict would be\n",
        "\n",
        "    {'rollno':int, 'city':str,'age':int,\n",
        "    'course1':int, 'course2':int, 'course3':int}\n",
        "    '''\n",
        "    n = int(input())\n",
        "    student_data = []\n",
        "    for i in range(n):\n",
        "        rollno,city,age,course1,course2,course3 = input().split(',')\n",
        "        rollno = int(rollno)\n",
        "        age= int(age)\n",
        "        course3 = int(course3)\n",
        "        course2 = int(course2)\n",
        "        course1 = int(course1)\n",
        "        student_data.append({'rollno':int(f'{rollno}'), 'city':f'{city}', 'age':int(f'{age}'), 'course1':int(f'{course1}'), 'course2':int(f'{course2}'), 'course3':int(f'{course3}')})\n",
        "    return student_data\n",
        "\n",
        "# list of dicts\n",
        "def get_student_data_over_multiple_lines():\n",
        "    '''\n",
        "    Given each attribute as described above in given over multiple lines\n",
        "    and multiple entries are given create a dictionary as described above.\n",
        "\n",
        "    Input format:\n",
        "    n\n",
        "    1\n",
        "    citya 23 ,86 ,69 ,86\n",
        "    2\n",
        "    cityb 19 ,78 ,65 ,89\n",
        "    ...\n",
        "    n\n",
        "    cityx 35,89,57,76\n",
        "    '''\n",
        "    n = int(input())\n",
        "    student_data = []\n",
        "    for i in range(n):\n",
        "        rollno = input()\n",
        "        city = input()\n",
        "        age = input()\n",
        "        course1 = input()\n",
        "        course2 = input()\n",
        "        course3 = input()\n",
        "        student_data.append({'rollno':int(f'{rollno}'), 'city':f'{city}', 'age':int(f'{age}'), 'course1':int(f'{course1}'), 'course2':int(f'{course2}'), 'course3':int(f'{course3}')})\n",
        "\n",
        "\n",
        "    return student_data\n",
        "\n",
        "# this will read the function name from the input.\n",
        "func = eval(input())\n",
        "\n",
        "# this will read the actual output that is required which is the second line\n",
        "expected_output = eval(input())\n",
        "\n",
        "# The remaining of the input should be read by your function\n",
        "actual_output = func()\n",
        "\n",
        "if expected_output != actual_output:\n",
        "    print(\"Your output doesn't match the expected output.\")\n",
        "print(actual_output)\n",
        "\n"
      ],
      "metadata": {
        "id": "CljhsAm4SmZj"
      },
      "execution_count": null,
      "outputs": []
    },
    {
      "cell_type": "markdown",
      "source": [
        "\n",
        "\n",
        "You are given certain details of the trains that stop at a station.\n",
        "\n",
        "Your task is to store these details in a nested dictionary.\n",
        "\n",
        "The first line of input is\n",
        "n, the number of trains that stop at the station.\n",
        "n blocks of input follow.\n",
        "The first line in each block corresponds to the train name.\n",
        "The second line in each block corresponds to\n",
        "m, the number of compartments in the train.\n",
        "m lines of input follow.\n",
        "Each of these m lines has two values separated by a comma: name of the compartment and number of passengers in it.\n",
        "\n",
        "Your task is to create a nested dictionary named station_dict. The keys of the dictionary are train names, the value corresponding to a key is another dictionary. The keys of the inner dictionary are the compartment names in this train, the values are the number of passengers in each compartment. For example:\n",
        "\n",
        "{\n",
        "    'Mumbai Express': {\n",
        "        'S1': 10,\n",
        "        'S2': 20,\n",
        "        'S3': 30\n",
        "    },\n",
        "    'Chennai Express': {\n",
        "        'S1': 10,\n",
        "        'S2': 20,\n",
        "        'S3': 30\n",
        "    }\n",
        "  }\n"
      ],
      "metadata": {
        "id": "_r7_xKveC4xD"
      }
    },
    {
      "cell_type": "code",
      "source": [
        "station_dict = dict()\n",
        "n = int(input())\n",
        "for i in range(n):\n",
        "    train_name = input()\n",
        "    m = int(input())\n",
        "    station_dict[train_name] = {}\n",
        "    for i in range(m):\n",
        "        compartment_name,n_pass = input().split(',')\n",
        "        station_dict[train_name][compartment_name] = n_pass\n",
        "\n",
        "print(station_dict)\n"
      ],
      "metadata": {
        "colab": {
          "base_uri": "https://localhost:8080/"
        },
        "id": "aI2LVJB3CSPv",
        "outputId": "bbdd68e0-9e2a-46d0-d2fd-b4ec8e2565db"
      },
      "execution_count": null,
      "outputs": [
        {
          "output_type": "stream",
          "name": "stdout",
          "text": [
            "1\n",
            "Rajdhani Express\n",
            "5\n",
            "S1,1\n",
            "S2,12\n",
            "S3,10\n",
            "S4,20\n",
            "S5,20\n",
            "{'Rajdhani Express': {'S1': '1', 'S2': '12', 'S3': '10', 'S4': '20', 'S5': '20'}}\n"
          ]
        }
      ]
    },
    {
      "cell_type": "code",
      "source": [
        "1\n",
        "Rajdhani Express\n",
        "5\n",
        "S1,1\n",
        "S2,2\n",
        "S3,10\n",
        "S4,20\n",
        "S5,20\n",
        "\n",
        "ou\n",
        "{\n",
        "  \"Rajdhani Express\": {\n",
        "    \"S1\": 1,\n",
        "    \"S2\": 2,\n",
        "    \"S3\": 10,\n",
        "    \"S4\": 20,\n",
        "    \"S5\": 20\n",
        "  }\n",
        "}"
      ],
      "metadata": {
        "id": "oOMarfjvM7OK"
      },
      "execution_count": null,
      "outputs": []
    },
    {
      "cell_type": "code",
      "source": [
        "2\n",
        "Mumbai Express\n",
        "2\n",
        "S1,10\n",
        "S2,20\n",
        "Chennai Express\n",
        "3\n",
        "S1,5\n",
        "S2,10\n",
        "S3,15\n",
        "\n",
        "ou\n",
        "\n",
        "{\n",
        "  \"Chennai Express\": {\n",
        "    \"S1\": 5,\n",
        "    \"S2\": 10,\n",
        "    \"S3\": 15\n",
        "  },\n",
        "  \"Mumbai Express\": {\n",
        "    \"S1\": 10,\n",
        "    \"S2\": 20\n",
        "  }\n",
        "}"
      ],
      "metadata": {
        "id": "WyI18TX_JNrO"
      },
      "execution_count": null,
      "outputs": []
    },
    {
      "cell_type": "code",
      "source": [
        "\n",
        "help(set.symmetric_difference)"
      ],
      "metadata": {
        "colab": {
          "base_uri": "https://localhost:8080/"
        },
        "id": "pq9WbGZbCSJY",
        "outputId": "8871e3be-66a4-468b-9ebe-94c14bf9c4b8"
      },
      "execution_count": null,
      "outputs": [
        {
          "output_type": "stream",
          "name": "stdout",
          "text": [
            "Help on method_descriptor:\n",
            "\n",
            "symmetric_difference(...) unbound builtins.set method\n",
            "    Return the symmetric difference of two sets as a new set.\n",
            "    \n",
            "    (i.e. all elements that are in exactly one of the sets.)\n",
            "\n"
          ]
        }
      ]
    },
    {
      "cell_type": "code",
      "source": [
        "date = input('Enter the date in YYYYMMDD format:\\n')\n",
        "def digit_life(date):\n",
        "    if len(str(date)) == 1:\n",
        "        return int(date)\n",
        "    return digit_life(str(sum(map(int,date))))\n",
        "digit_life(date)"
      ],
      "metadata": {
        "id": "ZP58IqZoaM5F",
        "colab": {
          "base_uri": "https://localhost:8080/"
        },
        "outputId": "0c075f28-c1bd-495c-8236-059d2d053219"
      },
      "execution_count": null,
      "outputs": [
        {
          "name": "stdout",
          "output_type": "stream",
          "text": [
            "Enter the date in YYYYMMDD format:\n",
            "20000101\n"
          ]
        },
        {
          "output_type": "execute_result",
          "data": {
            "text/plain": [
              "4"
            ]
          },
          "metadata": {},
          "execution_count": 3
        }
      ]
    },
    {
      "cell_type": "markdown",
      "source": [
        "![image.png](data:image/png;base64,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)"
      ],
      "metadata": {
        "id": "8Ue6EQvuG_7t"
      }
    },
    {
      "cell_type": "code",
      "source": [
        "\n",
        "string1 = input('Enter a test string:\\n')\n",
        "string2 = input('Enter a string to check:\\n')\n",
        "flag = True\n",
        "for i in range(len(string1)):\n",
        "  if string1[i] not in string2[i:]:\n",
        "    print('No')\n",
        "    flag = False\n",
        "    break\n",
        "if flag:\n",
        "  print('Yes')\n"
      ],
      "metadata": {
        "id": "ZFFvEJY4aM0A",
        "colab": {
          "base_uri": "https://localhost:8080/"
        },
        "outputId": "281331b2-48a8-4ae9-ca9e-8b26f6ca2219"
      },
      "execution_count": null,
      "outputs": [
        {
          "output_type": "stream",
          "name": "stdout",
          "text": [
            "Enter a test string:\n",
            "dog\n",
            "Enter a string to check:\n",
            "vcxzxduybfdsobywuefgas\n",
            "Yes\n"
          ]
        }
      ]
    },
    {
      "cell_type": "code",
      "source": [
        "rows = []\n",
        "for i in range(9):\n",
        "    rows.append(input())\n",
        "\n",
        "Flag = True\n",
        "for row in rows:\n",
        "  if len(set(row)) != 9:\n",
        "    Flag = False\n",
        "    break\n",
        "\n",
        "if Flag:\n",
        "  cols = []\n",
        "  for i in range(9):\n",
        "    cols += ''.join(map(lambda row:row[i],rows))\n",
        "  for col in cols:\n",
        "    if len(set(col)) != 9:\n",
        "      Flag = False\n",
        "      break\n",
        "\n",
        "if Flag:\n",
        "  for i in range(len(rows)):\n",
        "    box1 = ''\n",
        "    box2 = ''\n",
        "    box3 = ''\n",
        "    for row in rows[i:i+3]:\n",
        "      box1 += row[:3]\n",
        "      box2 += row[3:6]\n",
        "      box3 += row[6:]\n",
        "    if len(set(box1)) != 9 or len(set(box2)) != 9 or len(set(box3)) != 9:\n",
        "      Flag = False\n",
        "      break\n",
        "\n",
        "print('yes there is a solution for this sudoku' if Flag else 'No solution')"
      ],
      "metadata": {
        "id": "Qy2jfk0xaMw0",
        "colab": {
          "base_uri": "https://localhost:8080/"
        },
        "collapsed": true,
        "outputId": "ee239fc8-bc7f-4607-f6ac-fb31de5408f4"
      },
      "execution_count": null,
      "outputs": [
        {
          "output_type": "stream",
          "name": "stdout",
          "text": [
            "295743861\n",
            "431865927\n",
            "876192543\n",
            "387459216\n",
            "612387495\n",
            "549216738\n",
            "763524189\n",
            "928671354\n",
            "154938672\n",
            "No solution\n"
          ]
        }
      ]
    },
    {
      "cell_type": "code",
      "source": [
        "295743861\n",
        "431865927\n",
        "876192543\n",
        "387459216\n",
        "612387495\n",
        "549216738\n",
        "763524189\n",
        "928671354\n",
        "154938672\n"
      ],
      "metadata": {
        "id": "ooCHDlrDaMuA"
      },
      "execution_count": null,
      "outputs": []
    },
    {
      "cell_type": "code",
      "source": [
        "\n"
      ],
      "metadata": {
        "id": "zbmD_ATOPGCa"
      },
      "execution_count": null,
      "outputs": []
    }
  ]
}